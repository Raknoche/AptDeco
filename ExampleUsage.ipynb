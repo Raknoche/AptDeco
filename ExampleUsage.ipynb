{
 "cells": [
  {
   "cell_type": "markdown",
   "metadata": {},
   "source": [
    "# Example of classifying an image from a URL"
   ]
  },
  {
   "cell_type": "code",
   "execution_count": 3,
   "metadata": {
    "collapsed": false
   },
   "outputs": [],
   "source": [
    "#Getting path to ImageFeatures Library\n",
    "from ImageFeatures import *\n",
    "\n",
    "img_url = 'https://d6qwfb5pdou4u.cloudfront.net/product-images/50001-60000/56304/141314823031c1a56d15875e8fca82fb4a126955fe/1500-1500-frame-0.jpg'\n",
    "image   = UrlToImage(img_url)\n",
    "image   = CropImage(image)\n",
    "is_high_quality, high_quality_prob = ClassifyImage(image)"
   ]
  },
  {
   "cell_type": "code",
   "execution_count": 4,
   "metadata": {
    "collapsed": false
   },
   "outputs": [
    {
     "name": "stdout",
     "output_type": "stream",
     "text": [
      "Image is high quality True\n",
      "High Quality Probability: 0.951666666667\n"
     ]
    }
   ],
   "source": [
    "print(\"Image is high quality\", is_high_quality)\n",
    "print(\"High Quality Probability:\", high_quality_prob)"
   ]
  },
  {
   "cell_type": "code",
   "execution_count": null,
   "metadata": {
    "collapsed": true
   },
   "outputs": [],
   "source": []
  }
 ],
 "metadata": {
  "kernelspec": {
   "display_name": "Python 3",
   "language": "python",
   "name": "python3"
  },
  "language_info": {
   "codemirror_mode": {
    "name": "ipython",
    "version": 3
   },
   "file_extension": ".py",
   "mimetype": "text/x-python",
   "name": "python",
   "nbconvert_exporter": "python",
   "pygments_lexer": "ipython3",
   "version": "3.5.1"
  }
 },
 "nbformat": 4,
 "nbformat_minor": 0
}
