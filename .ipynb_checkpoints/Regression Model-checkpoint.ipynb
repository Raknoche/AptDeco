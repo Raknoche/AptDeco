{
 "cells": [
  {
   "cell_type": "code",
   "execution_count": 1,
   "metadata": {
    "collapsed": false
   },
   "outputs": [
    {
     "name": "stderr",
     "output_type": "stream",
     "text": [
      "/Users/richardknoche/anaconda/lib/python3.5/site-packages/matplotlib/__init__.py:1035: UserWarning: Duplicate key in file \"/Users/richardknoche/.matplotlib/matplotlibrc\", line #2\n",
      "  (fname, cnt))\n"
     ]
    }
   ],
   "source": [
    "import pandas as pd\n",
    "from sklearn import linear_model\n",
    "from matplotlib import pyplot as plt\n",
    "%matplotlib inline\n",
    "from sklearn import linear_model,ensemble,metrics,preprocessing\n",
    "import numpy as np\n",
    "from sklearn.metrics import precision_recall_curve\n",
    "from sklearn.metrics import average_precision_score\n",
    "from sklearn.preprocessing import label_binarize\n",
    "from sklearn.multiclass import OneVsRestClassifier"
   ]
  },
  {
   "cell_type": "code",
   "execution_count": 2,
   "metadata": {
    "collapsed": true
   },
   "outputs": [],
   "source": [
    "df = pd.read_csv('/Users/richardknoche/Desktop/MainImages.csv')\n",
    "df.drop('Unnamed: 0',axis=1,inplace=True)\n",
    "df = df.dropna()\n",
    "df = df[df['view_rate'] >0 ] #Drop entries with screwy durations\n",
    "\n",
    "#Creating Evenly sampled Training and Test sets\n",
    "train = df.sample(frac = 0.6, random_state = 102)\n",
    "test = df.drop(train.index)\n",
    "#test = test.sample(frac = 0.5, random_state = 102)\n",
    "#cv = test.drop(test.index)"
   ]
  },
  {
   "cell_type": "code",
   "execution_count": 19,
   "metadata": {
    "collapsed": false
   },
   "outputs": [],
   "source": [
    "#Not using categoricals for now\n",
    "features = ['price','original_price','age', 'width', 'height',\n",
    "       'depth', 'Num_Images', 'Duration', \n",
    "       'default_angle', 'Thirds_Horizontal_Value_Sym', 'Salient_Hue',\n",
    "       'Complimentary_Color_Level', 'Thirds_To_Focal_Distance',\n",
    "       'Vertical_Hue_Sym', 'Laplacian_Sharpness', 'Salient_Value',\n",
    "       'Thirds_Horizontal_Saliency_Sym', 'Thirds_Value', 'Thirds_Sat',\n",
    "       'B_Mean', 'V_var', 'Thirds_Saliency', 'g_ygrad', 'Busyness',\n",
    "       'Horizontal_Saturation_Sym', 'Thirds_Vertical_Saliency_Sym', 'r_ygrad',\n",
    "       'B_Width', 'g_xgrad', 'G_Mean', 'g_xgrad_std',\n",
    "       'Thirds_Vertical_Hue_Sym', 'Thirds_Horizontal_Hue_Sym', 'Colorfulness',\n",
    "       'Vertical_Value_Sym', 'R_xgrad', 'Horizontal_Value_Sym',\n",
    "       'Salient_Saturation', 'standard_luminance', 'H_var',\n",
    "       'Thirds_Vertical_Value_Sym', 'Number_of_Contours',\n",
    "       'Thirds_Vertical_Saturation_Sym', 'R_Width', 'FFT_Sharpness',\n",
    "       'b_xgrad_std', 'V_mean', 'b_ygrad', 'R_Mean',\n",
    "       'Thirds_Horizontal_Saturation_Sym', 'b_xgrad', 'H_mean', 'r_ygrad_std',\n",
    "       'Histogram_Darkness', 'g_ygrad_std', 'Thirds_Hue', 'S_mean', 'S_var',\n",
    "       'G_Width', 'Lapacian_Saturation', 'percieved_luminace', 'b_ygrad_std',\n",
    "       'r_xgrad_std', 'Horizontal_Hue_Sym', 'Vertical_Saturation_Sym',\n",
    "       'Lapacian_Value', 'Lapacian_Hue']\n",
    "\n",
    "train_x = train[features]\n",
    "test_x = test[features]\n",
    "\n",
    "train_y = train['view_rate']\n",
    "test_y = test['view_rate']\n",
    "\n",
    "#Normalize features\n",
    "train_std_scale = preprocessing.StandardScaler().fit(train_x)\n",
    "train_x_std = train_std_scale.transform(train_x)\n",
    "\n",
    "train_minmax_scale = preprocessing.MinMaxScaler().fit(train_x)\n",
    "train_x_minmax = train_minmax_scale.transform(train_x)\n",
    "\n",
    "test_std_scale = preprocessing.StandardScaler().fit(test_x)\n",
    "test_x_std = test_std_scale.transform(test_x)\n",
    "\n",
    "test_minmax_scale = preprocessing.MinMaxScaler().fit(test_x)\n",
    "test_x_minmax = test_minmax_scale.transform(test_x)\n",
    "\n",
    "train_x_features = train_x_minmax\n",
    "test_x_features = test_x_minmax"
   ]
  },
  {
   "cell_type": "code",
   "execution_count": 38,
   "metadata": {
    "collapsed": false
   },
   "outputs": [],
   "source": [
    "#Train Model\n",
    "clf  = linear_model.Ridge()\n",
    "clf.fit(train_x_features,train_y)\n",
    "predicted_y = clf.predict(test_x_features)\n"
   ]
  },
  {
   "cell_type": "code",
   "execution_count": 39,
   "metadata": {
    "collapsed": false
   },
   "outputs": [
    {
     "name": "stdout",
     "output_type": "stream",
     "text": [
      "-0.00258643388648\n"
     ]
    },
    {
     "data": {
      "image/png": "[encoded data removed]",
      "text/plain": [
       "<matplotlib.figure.Figure at 0x1226bd1d0>"
      ]
     },
     "metadata": {},
     "output_type": "display_data"
    }
   ],
   "source": [
    "plt.scatter(test_y,predicted_y,s=4,color='k')\n",
    "plt.xlim([0,0.001])\n",
    "plt.ylim([0,0.001])\n",
    "print(metrics.r2_score(test_y,predicted_y))"
   ]
  },
  {
   "cell_type": "code",
   "execution_count": null,
   "metadata": {
    "collapsed": true
   },
   "outputs": [],
   "source": []
  }
 ],
 "metadata": {
  "kernelspec": {
   "display_name": "Python 3",
   "language": "python",
   "name": "python3"
  },
  "language_info": {
   "codemirror_mode": {
    "name": "ipython",
    "version": 3
   },
   "file_extension": ".py",
   "mimetype": "text/x-python",
   "name": "python",
   "nbconvert_exporter": "python",
   "pygments_lexer": "ipython3",
   "version": "3.5.1"
  }
 },
 "nbformat": 4,
 "nbformat_minor": 0
}
