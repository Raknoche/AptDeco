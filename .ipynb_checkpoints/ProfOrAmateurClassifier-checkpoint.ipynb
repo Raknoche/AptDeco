{
 "cells": [
  {
   "cell_type": "code",
   "execution_count": 1,
   "metadata": {
    "collapsed": false
   },
   "outputs": [
    {
     "name": "stderr",
     "output_type": "stream",
     "text": [
      "/Users/richardknoche/anaconda/lib/python3.5/site-packages/matplotlib/__init__.py:1035: UserWarning: Duplicate key in file \"/Users/richardknoche/.matplotlib/matplotlibrc\", line #2\n",
      "  (fname, cnt))\n"
     ]
    }
   ],
   "source": [
    "import pandas as pd\n",
    "from sklearn import linear_model\n",
    "from matplotlib import pyplot as plt\n",
    "%matplotlib inline\n",
    "from sklearn import linear_model,ensemble,metrics,preprocessing\n",
    "import numpy as np\n",
    "from sklearn.metrics import precision_recall_curve\n",
    "from sklearn.metrics import average_precision_score\n",
    "from sklearn.preprocessing import label_binarize\n",
    "from sklearn.multiclass import OneVsRestClassifier\n",
    "import cv2\n",
    "from ImageFeatures import *"
   ]
  },
  {
   "cell_type": "code",
   "execution_count": 2,
   "metadata": {
    "collapsed": false
   },
   "outputs": [
    {
     "name": "stderr",
     "output_type": "stream",
     "text": [
      "/Users/richardknoche/anaconda/lib/python3.5/site-packages/ipykernel/__main__.py:10: SettingWithCopyWarning: \n",
      "A value is trying to be set on a copy of a slice from a DataFrame.\n",
      "Try using .loc[row_indexer,col_indexer] = value instead\n",
      "\n",
      "See the caveats in the documentation: http://pandas.pydata.org/pandas-docs/stable/indexing.html#indexing-view-versus-copy\n"
     ]
    }
   ],
   "source": [
    "#Get \"amateur\" photos\n",
    "ama_df = pd.read_csv('AllImages.csv')\n",
    "ama_df.drop('Unnamed: 0',axis=1,inplace=True)\n",
    "ama_df = ama_df.dropna()\n",
    "\n",
    "#Select unedited, non-front page images\n",
    "ama_df_all = ama_df\n",
    "ama_df=ama_df[ (ama_df['frac_white']<0.001) & (ama_df['is_main']==False)]\n",
    "\n",
    "ama_df['is_prof']=0"
   ]
  },
  {
   "cell_type": "code",
   "execution_count": 3,
   "metadata": {
    "collapsed": false
   },
   "outputs": [],
   "source": [
    "#Get professional photos\n",
    "prof_df = pd.read_csv(\"ProfessionalImageFeatures_new.csv\")\n",
    "prof_df.drop('Unnamed: 0',axis=1,inplace=True)\n",
    "prof_df = prof_df.dropna()\n",
    "prof_df['is_prof']=1"
   ]
  },
  {
   "cell_type": "code",
   "execution_count": 4,
   "metadata": {
    "collapsed": false
   },
   "outputs": [],
   "source": [
    "#Combine the two dataframe\n",
    "features = ['Horizontal_Saturation_Sym', 'Thirds_To_Focal_Distance',\n",
    "       'Vertical_Value_Sym', 'Salient_Saturation',\n",
    "       'S_var', 'Thirds_Value', 'V_var', 'FFT_Sharpness', 'R_Mean', 'g_ygrad',\n",
    "       'Thirds_Vertical_Value_Sym', 'Thirds_Sat', 'b_xgrad_std', 'g_xgrad_std',\n",
    "       'Thirds_Horizontal_Saliency_Sym', 'Thirds_Saliency', 'G_Mean',\n",
    "       'Salient_Hue', 'Histogram_Darkness', 'r_ygrad_std', 'Colorfulness',\n",
    "       'Vertical_Saturation_Sym', 'G_Width', 'H_mean',\n",
    "       'Thirds_Vertical_Saliency_Sym', 'Thirds_Vertical_Saturation_Sym',\n",
    "       'r_xgrad_std', 'Lapacian_Saturation', 'Horizontal_Hue_Sym', 'b_ygrad',\n",
    "       'B_Width', 'g_ygrad_std', 'r_ygrad', 'percieved_luminace',\n",
    "       'Salient_Value', 'V_mean', 'Thirds_Horizontal_Saturation_Sym',\n",
    "       'Number_of_Contours', 'Lapacian_Value', 'Complimentary_Color_Level',\n",
    "       'Vertical_Hue_Sym', 'R_xgrad', 'H_var', 'Horizontal_Value_Sym',\n",
    "       'Thirds_Horizontal_Value_Sym', 'b_ygrad_std', 'Thirds_Hue', 'g_xgrad',\n",
    "       'S_mean', 'Laplacian_Sharpness', 'Busyness', 'Thirds_Vertical_Hue_Sym',\n",
    "       'Lapacian_Hue', 'B_Mean', 'b_xgrad', 'standard_luminance',\n",
    "       'Thirds_Horizontal_Hue_Sym', 'R_Width']\n",
    "\n",
    "\n"
   ]
  },
  {
   "cell_type": "code",
   "execution_count": 5,
   "metadata": {
    "collapsed": false
   },
   "outputs": [],
   "source": [
    "df=pd.concat([ama_df[features +['is_prof','product_id','is_main','path']],prof_df[features +['is_prof','path']]]).reset_index()"
   ]
  },
  {
   "cell_type": "code",
   "execution_count": 6,
   "metadata": {
    "collapsed": false
   },
   "outputs": [],
   "source": [
    "#Randomize the data\n",
    "df = df.sample(frac=1,random_state=102)"
   ]
  },
  {
   "cell_type": "code",
   "execution_count": 7,
   "metadata": {
    "collapsed": false
   },
   "outputs": [
    {
     "name": "stderr",
     "output_type": "stream",
     "text": [
      "/Users/richardknoche/anaconda/lib/python3.5/site-packages/pandas/core/generic.py:2644: VisibleDeprecationWarning: using a non-integer number instead of an integer will result in an error in the future\n",
      "  locs = rs.choice(axis_length, size=n, replace=replace, p=weights)\n"
     ]
    }
   ],
   "source": [
    "col_to_predict = 'is_prof'\n",
    "\n",
    "num_minority = min(len(df[df[col_to_predict]==False]),len(df[df[col_to_predict]==True]))\n",
    "true_df = df[df[col_to_predict]==True]\n",
    "false_df = df[df[col_to_predict]==False]\n",
    "\n",
    "train_true = true_df.sample(n=np.floor(num_minority*0.6),random_state = 102)\n",
    "train_false = false_df.sample(n=np.floor(num_minority*0.6),random_state = 102)\n",
    "\n",
    "train = pd.concat([train_true,train_false])\n",
    "test = df.drop(train.index)"
   ]
  },
  {
   "cell_type": "markdown",
   "metadata": {},
   "source": [
    "# Train Classifier"
   ]
  },
  {
   "cell_type": "code",
   "execution_count": 8,
   "metadata": {
    "collapsed": false
   },
   "outputs": [],
   "source": [
    "features = ['Horizontal_Saturation_Sym', 'Thirds_To_Focal_Distance',\n",
    "       'Vertical_Value_Sym', 'Salient_Saturation',\n",
    "       'Thirds_Value', 'FFT_Sharpness',\n",
    "       'Thirds_Vertical_Value_Sym',\n",
    "       'Thirds_Horizontal_Saliency_Sym', 'Thirds_Saliency',\n",
    "       'Salient_Hue', 'Histogram_Darkness', 'Colorfulness',\n",
    "       'Vertical_Saturation_Sym',\n",
    "       'Thirds_Vertical_Saliency_Sym', 'Thirds_Vertical_Saturation_Sym',\n",
    "       'Horizontal_Hue_Sym',\n",
    "       'percieved_luminace',\n",
    "       'Salient_Value', 'Thirds_Horizontal_Saturation_Sym',\n",
    "       'Number_of_Contours', 'Complimentary_Color_Level',\n",
    "       'Vertical_Hue_Sym', 'Horizontal_Value_Sym',\n",
    "       'Thirds_Horizontal_Value_Sym', 'Thirds_Hue',\n",
    "       'Busyness', 'Thirds_Vertical_Hue_Sym',\n",
    "       'standard_luminance',\n",
    "       'Thirds_Horizontal_Hue_Sym']"
   ]
  },
  {
   "cell_type": "code",
   "execution_count": 9,
   "metadata": {
    "collapsed": false
   },
   "outputs": [],
   "source": [
    "train_x = train[features]\n",
    "train_y = train[col_to_predict]\n",
    "\n",
    "test_x = test[features]\n",
    "test_y = test[col_to_predict]\n",
    "\n",
    "#cv_x = cv[features]\n",
    "#cv_y = cv['view_rate']\n",
    "\n",
    "\n"
   ]
  },
  {
   "cell_type": "code",
   "execution_count": 10,
   "metadata": {
    "collapsed": true
   },
   "outputs": [],
   "source": [
    "#Normalize features\n",
    "std_scale = preprocessing.StandardScaler().fit(train_x)\n",
    "minmax_scale = preprocessing.MinMaxScaler().fit(train_x)\n",
    "\n",
    "train_x_std = std_scale.transform(train_x)\n",
    "train_x_minmax = minmax_scale.transform(train_x)\n",
    "\n",
    "test_x_std = std_scale.transform(test_x)\n",
    "test_x_minmax = minmax_scale.transform(test_x)\n",
    "\n",
    "train_x_features = train_x\n",
    "test_x_features = test_x\n"
   ]
  },
  {
   "cell_type": "code",
   "execution_count": 11,
   "metadata": {
    "collapsed": false
   },
   "outputs": [
    {
     "data": {
      "image/png": "[encoded data removed]",
      "text/plain": [
       "<matplotlib.figure.Figure at 0x135b76f98>"
      ]
     },
     "metadata": {},
     "output_type": "display_data"
    },
    {
     "name": "stdout",
     "output_type": "stream",
     "text": [
      "AUC:  0.945180352963\n",
      "Accuracy:  0.871158623022\n",
      "0.827793303315\n"
     ]
    },
    {
     "data": {
      "image/png": "[encoded data removed]",
      "text/plain": [
       "<matplotlib.figure.Figure at 0x131b6ea90>"
      ]
     },
     "metadata": {},
     "output_type": "display_data"
    },
    {
     "data": {
      "text/html": [
       "<div>\n",
       "<table border=\"1\" class=\"dataframe\">\n",
       "  <thead>\n",
       "    <tr style=\"text-align: right;\">\n",
       "      <th></th>\n",
       "      <th>F-Score</th>\n",
       "      <th>Precision</th>\n",
       "      <th>Recall</th>\n",
       "      <th>Support</th>\n",
       "    </tr>\n",
       "  </thead>\n",
       "  <tbody>\n",
       "    <tr>\n",
       "      <th>Amateur</th>\n",
       "      <td>0.913222</td>\n",
       "      <td>0.966300</td>\n",
       "      <td>0.865671</td>\n",
       "      <td>60218</td>\n",
       "    </tr>\n",
       "    <tr>\n",
       "      <th>Professional</th>\n",
       "      <td>0.749956</td>\n",
       "      <td>0.647477</td>\n",
       "      <td>0.890975</td>\n",
       "      <td>16675</td>\n",
       "    </tr>\n",
       "  </tbody>\n",
       "</table>\n",
       "</div>"
      ],
      "text/plain": [
       "               F-Score  Precision    Recall  Support\n",
       "Amateur       0.913222   0.966300  0.865671    60218\n",
       "Professional  0.749956   0.647477  0.890975    16675"
      ]
     },
     "execution_count": 11,
     "metadata": {},
     "output_type": "execute_result"
    }
   ],
   "source": [
    "from sklearn import tree\n",
    "from sklearn.naive_bayes import GaussianNB\n",
    "\n",
    "\n",
    "#Train Model\n",
    "clf = ensemble.AdaBoostClassifier() #Great and gaussian results\n",
    "#clf = ensemble.GradientBoostingClassifier() #Awful results\n",
    "#clf  = ensemble.RandomForestClassifier() #Non-gaussian star rankings\n",
    "#clf = linear_model.LogisticRegression(penalty='l1') #non-gaussian star rankings\n",
    "#clf = tree.DecisionTreeClassifier() #non-gaussian results\n",
    "clf.fit(train_x_features,train_y)\n",
    "predicted_y = clf.predict(test_x_features)\n",
    "y_probs =clf.predict_proba(test_x_features)[:, 1]\n",
    "\n",
    "#ROC\n",
    "fpr, tpr, thresholds = metrics.roc_curve(test_y, y_probs)\n",
    "plt.figure()\n",
    "plt.plot([0, 1], [0, 1], 'k--')\n",
    "plt.plot(fpr, tpr, label='RF')\n",
    "plt.xlabel('False positive rate')\n",
    "plt.ylabel('True positive rate')\n",
    "plt.title('ROC curve')\n",
    "plt.legend(loc='best')\n",
    "plt.show()\n",
    "print(\"AUC: \",metrics.auc(fpr, tpr))\n",
    "\n",
    "#Accuracy, Precision, Recall\n",
    "print('Accuracy: ',clf.score(test_x_features,test_y))\n",
    "f1score, tpr, thresholds = metrics.roc_curve(test_y, y_probs)\n",
    "\n",
    "precision, recall, thresholds = precision_recall_curve(test_y,y_probs)\n",
    "average_precision = average_precision_score(test_y, y_probs)\n",
    "print(average_precision)\n",
    "\n",
    "\n",
    "#Prec-Recall Curve\n",
    "plt.figure()\n",
    "plt.plot([0, 1], [1, 1], 'k--')\n",
    "plt.plot(recall, precision,label='RF')\n",
    "plt.xlabel('Recall')\n",
    "plt.ylabel('Precision')\n",
    "plt.title('PR curve')\n",
    "plt.legend(loc='best')\n",
    "plt.show()\n",
    "\n",
    "\n",
    "precision, recall, fscore, support = metrics.precision_recall_fscore_support(test_y, predicted_y)\n",
    "classifier_metrics = pd.DataFrame( {'Precision' : precision, 'Recall' : recall, 'F-Score' : fscore, 'Support' : support})\n",
    "classifier_metrics.index=['Amateur','Professional']\n",
    "classifier_metrics"
   ]
  },
  {
   "cell_type": "code",
   "execution_count": 12,
   "metadata": {
    "collapsed": false
   },
   "outputs": [],
   "source": [
    "#For RF\n",
    "importances = clf.feature_importances_\n",
    "#For LR\n",
    "#importances = clf.coef_[0]\n",
    "\n",
    "indices = np.argsort(importances)[::-1]\n"
   ]
  },
  {
   "cell_type": "code",
   "execution_count": 13,
   "metadata": {
    "collapsed": false
   },
   "outputs": [
    {
     "data": {
      "image/png": "[encoded data removed]",
      "text/plain": [
       "<matplotlib.figure.Figure at 0x135b764e0>"
      ]
     },
     "metadata": {},
     "output_type": "display_data"
    }
   ],
   "source": [
    "sorted_importances = [importance for (importance,feature) in sorted(zip(importances,features),reverse=True)]\n",
    "sorted_features = [feature for (importance,feature) in sorted(zip(importances,features),reverse=True)]   \n",
    "    \n",
    "plt.figure(figsize=(10,18))\n",
    "plt.title(\"Feature importances\")\n",
    "plt.barh(range(len(sorted_features),0,-1), sorted_importances,\n",
    "       color=\"r\", align=\"center\")\n",
    "plt.yticks(range(len(sorted_features),0,-1))\n",
    "ax=plt.gca()\n",
    "ax.set_yticklabels(sorted_features)\n",
    "plt.ylim([-1, len(sorted_features)+1])\n",
    "plt.show()"
   ]
  },
  {
   "cell_type": "markdown",
   "metadata": {},
   "source": [
    "# Save the classifier"
   ]
  },
  {
   "cell_type": "code",
   "execution_count": null,
   "metadata": {
    "collapsed": false
   },
   "outputs": [],
   "source": [
    "import pickle\n",
    "save = True\n",
    "if save == True:\n",
    "    with open('image_classifier.pkl', 'wb') as f:\n",
    "        pickle.dump(clf, f)\n",
    "\n",
    "    with open('image_classifier_features.pkl', 'wb') as f:\n",
    "        pickle.dump(features, f)"
   ]
  },
  {
   "cell_type": "code",
   "execution_count": null,
   "metadata": {
    "collapsed": true
   },
   "outputs": [],
   "source": []
  },
  {
   "cell_type": "markdown",
   "metadata": {},
   "source": [
    "# Using Lime to interpret the results"
   ]
  },
  {
   "cell_type": "code",
   "execution_count": null,
   "metadata": {
    "collapsed": false
   },
   "outputs": [],
   "source": [
    "train_imgs = train['path']\n",
    "test_imgs = test['path']"
   ]
  },
  {
   "cell_type": "code",
   "execution_count": null,
   "metadata": {
    "collapsed": false
   },
   "outputs": [],
   "source": [
    "\n",
    "#From http://marcotcr.github.io/lime/tutorials/Tutorial%20-%20continuous%20and%20categorical%20features.html\n",
    "from lime import lime_text,lime_tabular\n",
    "from lime.lime_text import LimeTextExplainer\n",
    "class_names=['Amateur','Professional']\n",
    "explainer = lime_tabular.LimeTabularExplainer(np.array(train_x_features), feature_names=features, class_names=class_names, discretize_continuous=True)\n",
    "\n",
    "idx = 7\n",
    "df_idx = test_imgs.index[idx]\n",
    "print('True class: %s' % class_names[test_y[df_idx]])\n",
    "print('Probability(FrontPage) =', clf.predict_proba(test_x_features.loc[df_idx].values.reshape(1,-1))[0][1] )\n",
    "\n",
    "exp = explainer.explain_instance(np.array(test_x_features.loc[df_idx]), clf.predict_proba, num_features=6)\n",
    "exp.show_in_notebook(show_table=True, show_all=False,)\n",
    "\n",
    "#Get Image\n",
    "image = url_to_image(test_imgs.iloc[idx])\n",
    "plt.imshow(cv2.cvtColor(image, cv2.COLOR_BGR2RGB))"
   ]
  },
  {
   "cell_type": "markdown",
   "metadata": {
    "collapsed": true
   },
   "source": [
    "# Test to see if it can pick out the \"best\" image"
   ]
  },
  {
   "cell_type": "code",
   "execution_count": 14,
   "metadata": {
    "collapsed": false
   },
   "outputs": [],
   "source": [
    "def CalcProb(row):\n",
    "    row['IsProf_Prob'] = clf.predict_proba(df.ix[0,features])\n",
    "\n"
   ]
  },
  {
   "cell_type": "code",
   "execution_count": 51,
   "metadata": {
    "collapsed": false
   },
   "outputs": [
    {
     "ename": "AttributeError",
     "evalue": "'function' object has no attribute 'predict'",
     "output_type": "error",
     "traceback": [
      "\u001b[0;31m---------------------------------------------------------------------------\u001b[0m",
      "\u001b[0;31mAttributeError\u001b[0m                            Traceback (most recent call last)",
      "\u001b[0;32m<ipython-input-51-3328c81d49b4>\u001b[0m in \u001b[0;36m<module>\u001b[0;34m()\u001b[0m\n\u001b[0;32m----> 1\u001b[0;31m \u001b[0mdf\u001b[0m\u001b[0;34m[\u001b[0m\u001b[0;34m'PredictedClass'\u001b[0m\u001b[0;34m]\u001b[0m\u001b[0;34m=\u001b[0m\u001b[0mclf\u001b[0m\u001b[0;34m.\u001b[0m\u001b[0mpredict\u001b[0m\u001b[0;34m(\u001b[0m\u001b[0mdf\u001b[0m\u001b[0;34m[\u001b[0m\u001b[0mfeatures\u001b[0m\u001b[0;34m]\u001b[0m\u001b[0;34m)\u001b[0m\u001b[0;34m\u001b[0m\u001b[0m\n\u001b[0m\u001b[1;32m      2\u001b[0m \u001b[0mdf\u001b[0m\u001b[0;34m[\u001b[0m\u001b[0;34m'IsProf_Prob'\u001b[0m\u001b[0;34m]\u001b[0m\u001b[0;34m=\u001b[0m\u001b[0mclf\u001b[0m\u001b[0;34m.\u001b[0m\u001b[0mpredict_proba\u001b[0m\u001b[0;34m(\u001b[0m\u001b[0mdf\u001b[0m\u001b[0;34m[\u001b[0m\u001b[0mfeatures\u001b[0m\u001b[0;34m]\u001b[0m\u001b[0;34m)\u001b[0m\u001b[0;34m[\u001b[0m\u001b[0;34m:\u001b[0m\u001b[0;34m,\u001b[0m\u001b[0;36m1\u001b[0m\u001b[0;34m]\u001b[0m\u001b[0;34m\u001b[0m\u001b[0m\n\u001b[1;32m      3\u001b[0m \u001b[0;34m\u001b[0m\u001b[0m\n\u001b[1;32m      4\u001b[0m \u001b[0mama_df_all\u001b[0m\u001b[0;34m[\u001b[0m\u001b[0;34m'PredictedClass'\u001b[0m\u001b[0;34m]\u001b[0m\u001b[0;34m=\u001b[0m\u001b[0mclf\u001b[0m\u001b[0;34m.\u001b[0m\u001b[0mpredict\u001b[0m\u001b[0;34m(\u001b[0m\u001b[0mama_df_all\u001b[0m\u001b[0;34m[\u001b[0m\u001b[0mfeatures\u001b[0m\u001b[0;34m]\u001b[0m\u001b[0;34m)\u001b[0m\u001b[0;34m\u001b[0m\u001b[0m\n\u001b[1;32m      5\u001b[0m \u001b[0mama_df_all\u001b[0m\u001b[0;34m[\u001b[0m\u001b[0;34m'IsProf_Prob'\u001b[0m\u001b[0;34m]\u001b[0m\u001b[0;34m=\u001b[0m\u001b[0mclf\u001b[0m\u001b[0;34m.\u001b[0m\u001b[0mpredict_proba\u001b[0m\u001b[0;34m(\u001b[0m\u001b[0mama_df_all\u001b[0m\u001b[0;34m[\u001b[0m\u001b[0mfeatures\u001b[0m\u001b[0;34m]\u001b[0m\u001b[0;34m)\u001b[0m\u001b[0;34m[\u001b[0m\u001b[0;34m:\u001b[0m\u001b[0;34m,\u001b[0m\u001b[0;36m1\u001b[0m\u001b[0;34m]\u001b[0m\u001b[0;34m\u001b[0m\u001b[0m\n",
      "\u001b[0;31mAttributeError\u001b[0m: 'function' object has no attribute 'predict'"
     ]
    }
   ],
   "source": [
    "df['PredictedClass']=clf.predict(df[features])\n",
    "df['IsProf_Prob']=clf.predict_proba(df[features])[:,1]\n",
    "\n",
    "ama_df_all['PredictedClass']=clf.predict(ama_df_all[features])\n",
    "ama_df_all['IsProf_Prob']=clf.predict_proba(ama_df_all[features])[:,1]\n",
    "\n",
    "\n",
    "ama_df['PredictedClass']=clf.predict(ama_df[features])\n",
    "ama_df['IsProf_Prob']=clf.predict_proba(ama_df[features])[:,1]\n"
   ]
  },
  {
   "cell_type": "code",
   "execution_count": 45,
   "metadata": {
    "collapsed": false
   },
   "outputs": [
    {
     "name": "stdout",
     "output_type": "stream",
     "text": [
      "[  5.11677236e-01   7.72334780e-03   1.74698431e+03   4.90900303e-01\n",
      "   1.67990909e-02   5.21792554e+03] \n",
      " [  8.40587087e-04   1.55074368e-03   5.03291435e+02   1.52550057e-03\n",
      "   9.17119004e-04   1.74385408e+02]\n"
     ]
    },
    {
     "data": {
      "image/png": "[encoded data removed]",
      "text/plain": [
       "<matplotlib.figure.Figure at 0x129ad8b70>"
      ]
     },
     "metadata": {},
     "output_type": "display_data"
    }
   ],
   "source": [
    "from pylab import *\n",
    "from scipy.optimize import curve_fit\n",
    "\n",
    "bins=np.arange(0.43,0.56,0.002)\n",
    "\n",
    "# Plot the histogram.\n",
    "y,x,_ = plt.hist(df['IsProf_Prob'],bins=bins, normed=False, alpha=.3, color=[1,1,1])\n",
    "x=(x[1:]+x[:-1])/2 # for len(x)==len(y)\n",
    "\n",
    "def gauss(x,mu,sigma,A):\n",
    "    return A*exp(-(x-mu)**2/2/sigma**2)\n",
    "\n",
    "def bimodal(x,mu1,sigma1,A1,mu2,sigma2,A2):\n",
    "    return gauss(x,mu1,sigma1,A1)+gauss(x,mu2,sigma2,A2)\n",
    "\n",
    "expected=(0.47,.04,3000,0.53,.04,3000)\n",
    "params,cov=curve_fit(bimodal,x,y,expected)\n",
    "sigma=sqrt(diag(cov))\n",
    "plot(x,bimodal(x,*params),color='red',lw=3,label='model')\n",
    "legend()\n",
    "print(params,'\\n',sigma)    \n",
    "\n",
    "title = \"Fit results: mu1 = %.2f,  std1 = %.2f, mu2 = %.2f,  std2 = %.2f\" % (params[0],params[1],params[3],params[4])\n",
    "plt.title(title)\n",
    "_,_,_ = plt.hist(df[df['is_prof']==False]['IsProf_Prob'],bins=bins,alpha=0.5,color='r')\n",
    "_,_,_ = plt.hist(df[df['is_prof']==True]['IsProf_Prob'],bins=bins,alpha=0.5,color='g')\n",
    "\n",
    "plt.show()"
   ]
  },
  {
   "cell_type": "code",
   "execution_count": 50,
   "metadata": {
    "collapsed": false
   },
   "outputs": [
    {
     "ename": "KeyError",
     "evalue": "('IsProf_Prob', 'occurred at index 0')",
     "output_type": "error",
     "traceback": [
      "\u001b[0;31m---------------------------------------------------------------------------\u001b[0m",
      "\u001b[0;31mTypeError\u001b[0m                                 Traceback (most recent call last)",
      "\u001b[0;32m/Users/richardknoche/anaconda/lib/python3.5/site-packages/pandas/indexes/base.py\u001b[0m in \u001b[0;36mget_value\u001b[0;34m(self, series, key)\u001b[0m\n\u001b[1;32m   2174\u001b[0m             \u001b[0;32mtry\u001b[0m\u001b[0;34m:\u001b[0m\u001b[0;34m\u001b[0m\u001b[0m\n\u001b[0;32m-> 2175\u001b[0;31m                 \u001b[0;32mreturn\u001b[0m \u001b[0mtslib\u001b[0m\u001b[0;34m.\u001b[0m\u001b[0mget_value_box\u001b[0m\u001b[0;34m(\u001b[0m\u001b[0ms\u001b[0m\u001b[0;34m,\u001b[0m \u001b[0mkey\u001b[0m\u001b[0;34m)\u001b[0m\u001b[0;34m\u001b[0m\u001b[0m\n\u001b[0m\u001b[1;32m   2176\u001b[0m             \u001b[0;32mexcept\u001b[0m \u001b[0mIndexError\u001b[0m\u001b[0;34m:\u001b[0m\u001b[0;34m\u001b[0m\u001b[0m\n",
      "\u001b[0;32mpandas/tslib.pyx\u001b[0m in \u001b[0;36mpandas.tslib.get_value_box (pandas/tslib.c:19053)\u001b[0;34m()\u001b[0m\n",
      "\u001b[0;32mpandas/tslib.pyx\u001b[0m in \u001b[0;36mpandas.tslib.get_value_box (pandas/tslib.c:18687)\u001b[0;34m()\u001b[0m\n",
      "\u001b[0;31mTypeError\u001b[0m: 'str' object cannot be interpreted as an integer",
      "\nDuring handling of the above exception, another exception occurred:\n",
      "\u001b[0;31mKeyError\u001b[0m                                  Traceback (most recent call last)",
      "\u001b[0;32m<ipython-input-50-14cef69146df>\u001b[0m in \u001b[0;36m<module>\u001b[0;34m()\u001b[0m\n\u001b[1;32m      9\u001b[0m \u001b[0mdf\u001b[0m\u001b[0;34m[\u001b[0m\u001b[0;34m'StarRanking'\u001b[0m\u001b[0;34m]\u001b[0m\u001b[0;34m=\u001b[0m\u001b[0mdf\u001b[0m\u001b[0;34m.\u001b[0m\u001b[0mapply\u001b[0m\u001b[0;34m(\u001b[0m\u001b[0mStarRanking\u001b[0m\u001b[0;34m,\u001b[0m\u001b[0maxis\u001b[0m\u001b[0;34m=\u001b[0m\u001b[0;36m1\u001b[0m\u001b[0;34m)\u001b[0m\u001b[0;34m\u001b[0m\u001b[0m\n\u001b[1;32m     10\u001b[0m \u001b[0mama_df_all\u001b[0m\u001b[0;34m[\u001b[0m\u001b[0;34m'StarRanking'\u001b[0m\u001b[0;34m]\u001b[0m\u001b[0;34m=\u001b[0m\u001b[0mama_df_all\u001b[0m\u001b[0;34m.\u001b[0m\u001b[0mapply\u001b[0m\u001b[0;34m(\u001b[0m\u001b[0mStarRanking\u001b[0m\u001b[0;34m,\u001b[0m\u001b[0maxis\u001b[0m\u001b[0;34m=\u001b[0m\u001b[0;36m1\u001b[0m\u001b[0;34m)\u001b[0m\u001b[0;34m\u001b[0m\u001b[0m\n\u001b[0;32m---> 11\u001b[0;31m \u001b[0mama_df\u001b[0m\u001b[0;34m[\u001b[0m\u001b[0;34m'StarRanking'\u001b[0m\u001b[0;34m]\u001b[0m\u001b[0;34m=\u001b[0m\u001b[0mama_df\u001b[0m\u001b[0;34m.\u001b[0m\u001b[0mapply\u001b[0m\u001b[0;34m(\u001b[0m\u001b[0mStarRanking\u001b[0m\u001b[0;34m,\u001b[0m\u001b[0maxis\u001b[0m\u001b[0;34m=\u001b[0m\u001b[0;36m1\u001b[0m\u001b[0;34m)\u001b[0m\u001b[0;34m\u001b[0m\u001b[0m\n\u001b[0m",
      "\u001b[0;32m/Users/richardknoche/anaconda/lib/python3.5/site-packages/pandas/core/frame.py\u001b[0m in \u001b[0;36mapply\u001b[0;34m(self, func, axis, broadcast, raw, reduce, args, **kwds)\u001b[0m\n\u001b[1;32m   4150\u001b[0m                     \u001b[0;32mif\u001b[0m \u001b[0mreduce\u001b[0m \u001b[0;32mis\u001b[0m \u001b[0;32mNone\u001b[0m\u001b[0;34m:\u001b[0m\u001b[0;34m\u001b[0m\u001b[0m\n\u001b[1;32m   4151\u001b[0m                         \u001b[0mreduce\u001b[0m \u001b[0;34m=\u001b[0m \u001b[0;32mTrue\u001b[0m\u001b[0;34m\u001b[0m\u001b[0m\n\u001b[0;32m-> 4152\u001b[0;31m                     \u001b[0;32mreturn\u001b[0m \u001b[0mself\u001b[0m\u001b[0;34m.\u001b[0m\u001b[0m_apply_standard\u001b[0m\u001b[0;34m(\u001b[0m\u001b[0mf\u001b[0m\u001b[0;34m,\u001b[0m \u001b[0maxis\u001b[0m\u001b[0;34m,\u001b[0m \u001b[0mreduce\u001b[0m\u001b[0;34m=\u001b[0m\u001b[0mreduce\u001b[0m\u001b[0;34m)\u001b[0m\u001b[0;34m\u001b[0m\u001b[0m\n\u001b[0m\u001b[1;32m   4153\u001b[0m             \u001b[0;32melse\u001b[0m\u001b[0;34m:\u001b[0m\u001b[0;34m\u001b[0m\u001b[0m\n\u001b[1;32m   4154\u001b[0m                 \u001b[0;32mreturn\u001b[0m \u001b[0mself\u001b[0m\u001b[0;34m.\u001b[0m\u001b[0m_apply_broadcast\u001b[0m\u001b[0;34m(\u001b[0m\u001b[0mf\u001b[0m\u001b[0;34m,\u001b[0m \u001b[0maxis\u001b[0m\u001b[0;34m)\u001b[0m\u001b[0;34m\u001b[0m\u001b[0m\n",
      "\u001b[0;32m/Users/richardknoche/anaconda/lib/python3.5/site-packages/pandas/core/frame.py\u001b[0m in \u001b[0;36m_apply_standard\u001b[0;34m(self, func, axis, ignore_failures, reduce)\u001b[0m\n\u001b[1;32m   4246\u001b[0m             \u001b[0;32mtry\u001b[0m\u001b[0;34m:\u001b[0m\u001b[0;34m\u001b[0m\u001b[0m\n\u001b[1;32m   4247\u001b[0m                 \u001b[0;32mfor\u001b[0m \u001b[0mi\u001b[0m\u001b[0;34m,\u001b[0m \u001b[0mv\u001b[0m \u001b[0;32min\u001b[0m \u001b[0menumerate\u001b[0m\u001b[0;34m(\u001b[0m\u001b[0mseries_gen\u001b[0m\u001b[0;34m)\u001b[0m\u001b[0;34m:\u001b[0m\u001b[0;34m\u001b[0m\u001b[0m\n\u001b[0;32m-> 4248\u001b[0;31m                     \u001b[0mresults\u001b[0m\u001b[0;34m[\u001b[0m\u001b[0mi\u001b[0m\u001b[0;34m]\u001b[0m \u001b[0;34m=\u001b[0m \u001b[0mfunc\u001b[0m\u001b[0;34m(\u001b[0m\u001b[0mv\u001b[0m\u001b[0;34m)\u001b[0m\u001b[0;34m\u001b[0m\u001b[0m\n\u001b[0m\u001b[1;32m   4249\u001b[0m                     \u001b[0mkeys\u001b[0m\u001b[0;34m.\u001b[0m\u001b[0mappend\u001b[0m\u001b[0;34m(\u001b[0m\u001b[0mv\u001b[0m\u001b[0;34m.\u001b[0m\u001b[0mname\u001b[0m\u001b[0;34m)\u001b[0m\u001b[0;34m\u001b[0m\u001b[0m\n\u001b[1;32m   4250\u001b[0m             \u001b[0;32mexcept\u001b[0m \u001b[0mException\u001b[0m \u001b[0;32mas\u001b[0m \u001b[0me\u001b[0m\u001b[0;34m:\u001b[0m\u001b[0;34m\u001b[0m\u001b[0m\n",
      "\u001b[0;32m<ipython-input-50-14cef69146df>\u001b[0m in \u001b[0;36mStarRanking\u001b[0;34m(row)\u001b[0m\n\u001b[1;32m      1\u001b[0m \u001b[0;32mdef\u001b[0m \u001b[0mStarRanking\u001b[0m\u001b[0;34m(\u001b[0m\u001b[0mrow\u001b[0m\u001b[0;34m)\u001b[0m\u001b[0;34m:\u001b[0m\u001b[0;34m\u001b[0m\u001b[0m\n\u001b[0;32m----> 2\u001b[0;31m     \u001b[0mstars\u001b[0m \u001b[0;34m=\u001b[0m \u001b[0;34m(\u001b[0m\u001b[0mrow\u001b[0m\u001b[0;34m[\u001b[0m\u001b[0;34m'IsProf_Prob'\u001b[0m\u001b[0;34m]\u001b[0m\u001b[0;34m-\u001b[0m\u001b[0mparams\u001b[0m\u001b[0;34m[\u001b[0m\u001b[0;36m0\u001b[0m\u001b[0;34m]\u001b[0m\u001b[0;34m)\u001b[0m\u001b[0;34m/\u001b[0m\u001b[0;34m(\u001b[0m\u001b[0mparams\u001b[0m\u001b[0;34m[\u001b[0m\u001b[0;36m1\u001b[0m\u001b[0;34m]\u001b[0m\u001b[0;34m)\u001b[0m\u001b[0;34m+\u001b[0m\u001b[0;36m3\u001b[0m\u001b[0;34m\u001b[0m\u001b[0m\n\u001b[0m\u001b[1;32m      3\u001b[0m     \u001b[0;31m#if stars <0:\u001b[0m\u001b[0;34m\u001b[0m\u001b[0;34m\u001b[0m\u001b[0m\n\u001b[1;32m      4\u001b[0m         \u001b[0;31m#stars = 0\u001b[0m\u001b[0;34m\u001b[0m\u001b[0;34m\u001b[0m\u001b[0m\n\u001b[1;32m      5\u001b[0m     \u001b[0;31m#if stars >5:\u001b[0m\u001b[0;34m\u001b[0m\u001b[0;34m\u001b[0m\u001b[0m\n",
      "\u001b[0;32m/Users/richardknoche/anaconda/lib/python3.5/site-packages/pandas/core/series.py\u001b[0m in \u001b[0;36m__getitem__\u001b[0;34m(self, key)\u001b[0m\n\u001b[1;32m    601\u001b[0m         \u001b[0mkey\u001b[0m \u001b[0;34m=\u001b[0m \u001b[0mcom\u001b[0m\u001b[0;34m.\u001b[0m\u001b[0m_apply_if_callable\u001b[0m\u001b[0;34m(\u001b[0m\u001b[0mkey\u001b[0m\u001b[0;34m,\u001b[0m \u001b[0mself\u001b[0m\u001b[0;34m)\u001b[0m\u001b[0;34m\u001b[0m\u001b[0m\n\u001b[1;32m    602\u001b[0m         \u001b[0;32mtry\u001b[0m\u001b[0;34m:\u001b[0m\u001b[0;34m\u001b[0m\u001b[0m\n\u001b[0;32m--> 603\u001b[0;31m             \u001b[0mresult\u001b[0m \u001b[0;34m=\u001b[0m \u001b[0mself\u001b[0m\u001b[0;34m.\u001b[0m\u001b[0mindex\u001b[0m\u001b[0;34m.\u001b[0m\u001b[0mget_value\u001b[0m\u001b[0;34m(\u001b[0m\u001b[0mself\u001b[0m\u001b[0;34m,\u001b[0m \u001b[0mkey\u001b[0m\u001b[0;34m)\u001b[0m\u001b[0;34m\u001b[0m\u001b[0m\n\u001b[0m\u001b[1;32m    604\u001b[0m \u001b[0;34m\u001b[0m\u001b[0m\n\u001b[1;32m    605\u001b[0m             \u001b[0;32mif\u001b[0m \u001b[0;32mnot\u001b[0m \u001b[0mis_scalar\u001b[0m\u001b[0;34m(\u001b[0m\u001b[0mresult\u001b[0m\u001b[0;34m)\u001b[0m\u001b[0;34m:\u001b[0m\u001b[0;34m\u001b[0m\u001b[0m\n",
      "\u001b[0;32m/Users/richardknoche/anaconda/lib/python3.5/site-packages/pandas/indexes/base.py\u001b[0m in \u001b[0;36mget_value\u001b[0;34m(self, series, key)\u001b[0m\n\u001b[1;32m   2181\u001b[0m                     \u001b[0;32mraise\u001b[0m \u001b[0mInvalidIndexError\u001b[0m\u001b[0;34m(\u001b[0m\u001b[0mkey\u001b[0m\u001b[0;34m)\u001b[0m\u001b[0;34m\u001b[0m\u001b[0m\n\u001b[1;32m   2182\u001b[0m                 \u001b[0;32melse\u001b[0m\u001b[0;34m:\u001b[0m\u001b[0;34m\u001b[0m\u001b[0m\n\u001b[0;32m-> 2183\u001b[0;31m                     \u001b[0;32mraise\u001b[0m \u001b[0me1\u001b[0m\u001b[0;34m\u001b[0m\u001b[0m\n\u001b[0m\u001b[1;32m   2184\u001b[0m             \u001b[0;32mexcept\u001b[0m \u001b[0mException\u001b[0m\u001b[0;34m:\u001b[0m  \u001b[0;31m# pragma: no cover\u001b[0m\u001b[0;34m\u001b[0m\u001b[0m\n\u001b[1;32m   2185\u001b[0m                 \u001b[0;32mraise\u001b[0m \u001b[0me1\u001b[0m\u001b[0;34m\u001b[0m\u001b[0m\n",
      "\u001b[0;32m/Users/richardknoche/anaconda/lib/python3.5/site-packages/pandas/indexes/base.py\u001b[0m in \u001b[0;36mget_value\u001b[0;34m(self, series, key)\u001b[0m\n\u001b[1;32m   2167\u001b[0m         \u001b[0;32mtry\u001b[0m\u001b[0;34m:\u001b[0m\u001b[0;34m\u001b[0m\u001b[0m\n\u001b[1;32m   2168\u001b[0m             return self._engine.get_value(s, k,\n\u001b[0;32m-> 2169\u001b[0;31m                                           tz=getattr(series.dtype, 'tz', None))\n\u001b[0m\u001b[1;32m   2170\u001b[0m         \u001b[0;32mexcept\u001b[0m \u001b[0mKeyError\u001b[0m \u001b[0;32mas\u001b[0m \u001b[0me1\u001b[0m\u001b[0;34m:\u001b[0m\u001b[0;34m\u001b[0m\u001b[0m\n\u001b[1;32m   2171\u001b[0m             \u001b[0;32mif\u001b[0m \u001b[0mlen\u001b[0m\u001b[0;34m(\u001b[0m\u001b[0mself\u001b[0m\u001b[0;34m)\u001b[0m \u001b[0;34m>\u001b[0m \u001b[0;36m0\u001b[0m \u001b[0;32mand\u001b[0m \u001b[0mself\u001b[0m\u001b[0;34m.\u001b[0m\u001b[0minferred_type\u001b[0m \u001b[0;32min\u001b[0m \u001b[0;34m[\u001b[0m\u001b[0;34m'integer'\u001b[0m\u001b[0;34m,\u001b[0m \u001b[0;34m'boolean'\u001b[0m\u001b[0;34m]\u001b[0m\u001b[0;34m:\u001b[0m\u001b[0;34m\u001b[0m\u001b[0m\n",
      "\u001b[0;32mpandas/index.pyx\u001b[0m in \u001b[0;36mpandas.index.IndexEngine.get_value (pandas/index.c:3557)\u001b[0;34m()\u001b[0m\n",
      "\u001b[0;32mpandas/index.pyx\u001b[0m in \u001b[0;36mpandas.index.IndexEngine.get_value (pandas/index.c:3240)\u001b[0;34m()\u001b[0m\n",
      "\u001b[0;32mpandas/index.pyx\u001b[0m in \u001b[0;36mpandas.index.IndexEngine.get_loc (pandas/index.c:4279)\u001b[0;34m()\u001b[0m\n",
      "\u001b[0;32mpandas/src/hashtable_class_helper.pxi\u001b[0m in \u001b[0;36mpandas.hashtable.PyObjectHashTable.get_item (pandas/hashtable.c:13742)\u001b[0;34m()\u001b[0m\n",
      "\u001b[0;32mpandas/src/hashtable_class_helper.pxi\u001b[0m in \u001b[0;36mpandas.hashtable.PyObjectHashTable.get_item (pandas/hashtable.c:13696)\u001b[0;34m()\u001b[0m\n",
      "\u001b[0;31mKeyError\u001b[0m: ('IsProf_Prob', 'occurred at index 0')"
     ]
    }
   ],
   "source": [
    "def StarRanking(row):\n",
    "    stars = (row['IsProf_Prob']-params[0])/(params[1])+3\n",
    "    #if stars <0:\n",
    "        #stars = 0\n",
    "    #if stars >5:\n",
    "        #stars = 5\n",
    "    return stars\n",
    "                 \n",
    "df['StarRanking']=df.apply(StarRanking,axis=1)\n",
    "ama_df_all['StarRanking']=ama_df_all.apply(StarRanking,axis=1)\n",
    "ama_df['StarRanking']=ama_df.apply(StarRanking,axis=1)"
   ]
  },
  {
   "cell_type": "code",
   "execution_count": null,
   "metadata": {
    "collapsed": false
   },
   "outputs": [],
   "source": [
    "mu=params[0]\n",
    "std=params[1]\n",
    "if save == True:\n",
    "    with open('classifier_mu_std.pkl', 'wb') as f:\n",
    "        pickle.dump([mu,std], f)"
   ]
  },
  {
   "cell_type": "code",
   "execution_count": null,
   "metadata": {
    "collapsed": true
   },
   "outputs": [],
   "source": []
  },
  {
   "cell_type": "code",
   "execution_count": 49,
   "metadata": {
    "collapsed": false,
    "scrolled": false
   },
   "outputs": [
    {
     "ename": "KeyError",
     "evalue": "\"['IsProf_Prob' 'StarRanking'] not in index\"",
     "output_type": "error",
     "traceback": [
      "\u001b[0;31m---------------------------------------------------------------------------\u001b[0m",
      "\u001b[0;31mKeyError\u001b[0m                                  Traceback (most recent call last)",
      "\u001b[0;32m<ipython-input-49-ceb45fdf049d>\u001b[0m in \u001b[0;36m<module>\u001b[0;34m()\u001b[0m\n\u001b[1;32m      1\u001b[0m \u001b[0;31m#Compare within listings for all AptDeco images\u001b[0m\u001b[0;34m\u001b[0m\u001b[0;34m\u001b[0m\u001b[0m\n\u001b[0;32m----> 2\u001b[0;31m \u001b[0msorted_df\u001b[0m \u001b[0;34m=\u001b[0m \u001b[0mama_df\u001b[0m\u001b[0;34m.\u001b[0m\u001b[0msort_values\u001b[0m\u001b[0;34m(\u001b[0m\u001b[0;34m'product_id'\u001b[0m\u001b[0;34m)\u001b[0m\u001b[0;34m[\u001b[0m\u001b[0;34m[\u001b[0m\u001b[0;34m'IsProf_Prob'\u001b[0m\u001b[0;34m,\u001b[0m\u001b[0;34m'product_id'\u001b[0m\u001b[0;34m,\u001b[0m\u001b[0;34m'is_main'\u001b[0m\u001b[0;34m,\u001b[0m\u001b[0;34m'StarRanking'\u001b[0m\u001b[0;34m,\u001b[0m\u001b[0;34m'path'\u001b[0m\u001b[0;34m,\u001b[0m\u001b[0;34m'Histogram_Darkness'\u001b[0m\u001b[0;34m]\u001b[0m\u001b[0;34m]\u001b[0m\u001b[0;34m.\u001b[0m\u001b[0mdropna\u001b[0m\u001b[0;34m(\u001b[0m\u001b[0;34m)\u001b[0m\u001b[0;34m.\u001b[0m\u001b[0mreset_index\u001b[0m\u001b[0;34m(\u001b[0m\u001b[0;34m)\u001b[0m\u001b[0;34m\u001b[0m\u001b[0m\n\u001b[0m\u001b[1;32m      3\u001b[0m \u001b[0;34m\u001b[0m\u001b[0m\n\u001b[1;32m      4\u001b[0m \u001b[0;31m#600704\u001b[0m\u001b[0;34m\u001b[0m\u001b[0;34m\u001b[0m\u001b[0m\n\u001b[1;32m      5\u001b[0m \u001b[0;32mfor\u001b[0m \u001b[0midx\u001b[0m \u001b[0;32min\u001b[0m \u001b[0mrange\u001b[0m\u001b[0;34m(\u001b[0m\u001b[0;36m0\u001b[0m\u001b[0;34m,\u001b[0m\u001b[0;36m20\u001b[0m\u001b[0;34m)\u001b[0m\u001b[0;34m:\u001b[0m\u001b[0;34m\u001b[0m\u001b[0m\n",
      "\u001b[0;32m/Users/richardknoche/anaconda/lib/python3.5/site-packages/pandas/core/frame.py\u001b[0m in \u001b[0;36m__getitem__\u001b[0;34m(self, key)\u001b[0m\n\u001b[1;32m   2051\u001b[0m         \u001b[0;32mif\u001b[0m \u001b[0misinstance\u001b[0m\u001b[0;34m(\u001b[0m\u001b[0mkey\u001b[0m\u001b[0;34m,\u001b[0m \u001b[0;34m(\u001b[0m\u001b[0mSeries\u001b[0m\u001b[0;34m,\u001b[0m \u001b[0mnp\u001b[0m\u001b[0;34m.\u001b[0m\u001b[0mndarray\u001b[0m\u001b[0;34m,\u001b[0m \u001b[0mIndex\u001b[0m\u001b[0;34m,\u001b[0m \u001b[0mlist\u001b[0m\u001b[0;34m)\u001b[0m\u001b[0;34m)\u001b[0m\u001b[0;34m:\u001b[0m\u001b[0;34m\u001b[0m\u001b[0m\n\u001b[1;32m   2052\u001b[0m             \u001b[0;31m# either boolean or fancy integer index\u001b[0m\u001b[0;34m\u001b[0m\u001b[0;34m\u001b[0m\u001b[0m\n\u001b[0;32m-> 2053\u001b[0;31m             \u001b[0;32mreturn\u001b[0m \u001b[0mself\u001b[0m\u001b[0;34m.\u001b[0m\u001b[0m_getitem_array\u001b[0m\u001b[0;34m(\u001b[0m\u001b[0mkey\u001b[0m\u001b[0;34m)\u001b[0m\u001b[0;34m\u001b[0m\u001b[0m\n\u001b[0m\u001b[1;32m   2054\u001b[0m         \u001b[0;32melif\u001b[0m \u001b[0misinstance\u001b[0m\u001b[0;34m(\u001b[0m\u001b[0mkey\u001b[0m\u001b[0;34m,\u001b[0m \u001b[0mDataFrame\u001b[0m\u001b[0;34m)\u001b[0m\u001b[0;34m:\u001b[0m\u001b[0;34m\u001b[0m\u001b[0m\n\u001b[1;32m   2055\u001b[0m             \u001b[0;32mreturn\u001b[0m \u001b[0mself\u001b[0m\u001b[0;34m.\u001b[0m\u001b[0m_getitem_frame\u001b[0m\u001b[0;34m(\u001b[0m\u001b[0mkey\u001b[0m\u001b[0;34m)\u001b[0m\u001b[0;34m\u001b[0m\u001b[0m\n",
      "\u001b[0;32m/Users/richardknoche/anaconda/lib/python3.5/site-packages/pandas/core/frame.py\u001b[0m in \u001b[0;36m_getitem_array\u001b[0;34m(self, key)\u001b[0m\n\u001b[1;32m   2095\u001b[0m             \u001b[0;32mreturn\u001b[0m \u001b[0mself\u001b[0m\u001b[0;34m.\u001b[0m\u001b[0mtake\u001b[0m\u001b[0;34m(\u001b[0m\u001b[0mindexer\u001b[0m\u001b[0;34m,\u001b[0m \u001b[0maxis\u001b[0m\u001b[0;34m=\u001b[0m\u001b[0;36m0\u001b[0m\u001b[0;34m,\u001b[0m \u001b[0mconvert\u001b[0m\u001b[0;34m=\u001b[0m\u001b[0;32mFalse\u001b[0m\u001b[0;34m)\u001b[0m\u001b[0;34m\u001b[0m\u001b[0m\n\u001b[1;32m   2096\u001b[0m         \u001b[0;32melse\u001b[0m\u001b[0;34m:\u001b[0m\u001b[0;34m\u001b[0m\u001b[0m\n\u001b[0;32m-> 2097\u001b[0;31m             \u001b[0mindexer\u001b[0m \u001b[0;34m=\u001b[0m \u001b[0mself\u001b[0m\u001b[0;34m.\u001b[0m\u001b[0mix\u001b[0m\u001b[0;34m.\u001b[0m\u001b[0m_convert_to_indexer\u001b[0m\u001b[0;34m(\u001b[0m\u001b[0mkey\u001b[0m\u001b[0;34m,\u001b[0m \u001b[0maxis\u001b[0m\u001b[0;34m=\u001b[0m\u001b[0;36m1\u001b[0m\u001b[0;34m)\u001b[0m\u001b[0;34m\u001b[0m\u001b[0m\n\u001b[0m\u001b[1;32m   2098\u001b[0m             \u001b[0;32mreturn\u001b[0m \u001b[0mself\u001b[0m\u001b[0;34m.\u001b[0m\u001b[0mtake\u001b[0m\u001b[0;34m(\u001b[0m\u001b[0mindexer\u001b[0m\u001b[0;34m,\u001b[0m \u001b[0maxis\u001b[0m\u001b[0;34m=\u001b[0m\u001b[0;36m1\u001b[0m\u001b[0;34m,\u001b[0m \u001b[0mconvert\u001b[0m\u001b[0;34m=\u001b[0m\u001b[0;32mTrue\u001b[0m\u001b[0;34m)\u001b[0m\u001b[0;34m\u001b[0m\u001b[0m\n\u001b[1;32m   2099\u001b[0m \u001b[0;34m\u001b[0m\u001b[0m\n",
      "\u001b[0;32m/Users/richardknoche/anaconda/lib/python3.5/site-packages/pandas/core/indexing.py\u001b[0m in \u001b[0;36m_convert_to_indexer\u001b[0;34m(self, obj, axis, is_setter)\u001b[0m\n\u001b[1;32m   1228\u001b[0m                 \u001b[0mmask\u001b[0m \u001b[0;34m=\u001b[0m \u001b[0mcheck\u001b[0m \u001b[0;34m==\u001b[0m \u001b[0;34m-\u001b[0m\u001b[0;36m1\u001b[0m\u001b[0;34m\u001b[0m\u001b[0m\n\u001b[1;32m   1229\u001b[0m                 \u001b[0;32mif\u001b[0m \u001b[0mmask\u001b[0m\u001b[0;34m.\u001b[0m\u001b[0many\u001b[0m\u001b[0;34m(\u001b[0m\u001b[0;34m)\u001b[0m\u001b[0;34m:\u001b[0m\u001b[0;34m\u001b[0m\u001b[0m\n\u001b[0;32m-> 1230\u001b[0;31m                     \u001b[0;32mraise\u001b[0m \u001b[0mKeyError\u001b[0m\u001b[0;34m(\u001b[0m\u001b[0;34m'%s not in index'\u001b[0m \u001b[0;34m%\u001b[0m \u001b[0mobjarr\u001b[0m\u001b[0;34m[\u001b[0m\u001b[0mmask\u001b[0m\u001b[0;34m]\u001b[0m\u001b[0;34m)\u001b[0m\u001b[0;34m\u001b[0m\u001b[0m\n\u001b[0m\u001b[1;32m   1231\u001b[0m \u001b[0;34m\u001b[0m\u001b[0m\n\u001b[1;32m   1232\u001b[0m                 \u001b[0;32mreturn\u001b[0m \u001b[0m_values_from_object\u001b[0m\u001b[0;34m(\u001b[0m\u001b[0mindexer\u001b[0m\u001b[0;34m)\u001b[0m\u001b[0;34m\u001b[0m\u001b[0m\n",
      "\u001b[0;31mKeyError\u001b[0m: \"['IsProf_Prob' 'StarRanking'] not in index\""
     ]
    }
   ],
   "source": [
    "#Compare within listings for all AptDeco images\n",
    "sorted_df = ama_df.sort_values('product_id')[['IsProf_Prob','product_id','is_main','StarRanking','path','Histogram_Darkness']].dropna().reset_index()\n",
    "\n",
    "#600704\n",
    "for idx in range(0,20):\n",
    "    print(int(sorted_df.ix[idx,'product_id']),bool(sorted_df.ix[idx,'is_main']),'%0.2f' % sorted_df.ix[idx,'StarRanking'],sorted_df.ix[idx,'path'])\n",
    "    print('     ')"
   ]
  },
  {
   "cell_type": "code",
   "execution_count": null,
   "metadata": {
    "collapsed": false
   },
   "outputs": [],
   "source": [
    "#Check bad images\n",
    "sorted_df.sort_values('IsProf_Prob').ix[:15,'path'].tolist()"
   ]
  },
  {
   "cell_type": "code",
   "execution_count": null,
   "metadata": {
    "collapsed": false
   },
   "outputs": [],
   "source": [
    "#Check good images\n",
    "sorted_df.sort_values('IsProf_Prob',ascending=False).ix[:15,'path'].tolist()"
   ]
  },
  {
   "cell_type": "code",
   "execution_count": 48,
   "metadata": {
    "collapsed": false
   },
   "outputs": [
    {
     "data": {
      "text/plain": [
       "0         0.000000\n",
       "1         0.209300\n",
       "2         0.000000\n",
       "3         0.000000\n",
       "4         0.000000\n",
       "5         0.000000\n",
       "6         0.000000\n",
       "7         0.340325\n",
       "8         0.492425\n",
       "9         0.000125\n",
       "10        0.000000\n",
       "11        0.000000\n",
       "12        0.000000\n",
       "13        0.017350\n",
       "14        0.000000\n",
       "15        0.000000\n",
       "16        0.000000\n",
       "17        0.000000\n",
       "18        0.236200\n",
       "19        0.312575\n",
       "20        0.121875\n",
       "21        0.000050\n",
       "22        0.000775\n",
       "23        0.000000\n",
       "24        0.045925\n",
       "25        0.000000\n",
       "26        0.000000\n",
       "27        0.000000\n",
       "28        0.000000\n",
       "29        0.002275\n",
       "            ...   \n",
       "133019    0.000050\n",
       "133020    0.000075\n",
       "133021    0.000000\n",
       "133022    0.000600\n",
       "133023    0.000025\n",
       "133024    0.000000\n",
       "133025    0.504175\n",
       "133026    0.000375\n",
       "133027    0.000150\n",
       "133028    0.001950\n",
       "133029    0.000000\n",
       "133030    0.548925\n",
       "133031    0.124625\n",
       "133032    0.659025\n",
       "133033    0.184900\n",
       "133034    0.000075\n",
       "133035    0.003525\n",
       "133036    0.000025\n",
       "133037    0.002900\n",
       "133038    0.000000\n",
       "133039    0.000025\n",
       "133040    0.000000\n",
       "133041    0.000000\n",
       "133042    0.000000\n",
       "133043    0.000100\n",
       "133044    0.000125\n",
       "133045    0.009675\n",
       "133046    0.000000\n",
       "133047    0.000000\n",
       "133048    0.000000\n",
       "Name: frac_white, dtype: float64"
      ]
     },
     "execution_count": 48,
     "metadata": {},
     "output_type": "execute_result"
    }
   ],
   "source": [
    "sorted_df['frac_white']"
   ]
  },
  {
   "cell_type": "code",
   "execution_count": 26,
   "metadata": {
    "collapsed": false
   },
   "outputs": [],
   "source": [
    "#Max rating for each listing\n",
    "max_stars = sorted_df.groupby('product_id').max()['StarRanking']"
   ]
  },
  {
   "cell_type": "code",
   "execution_count": 27,
   "metadata": {
    "collapsed": false
   },
   "outputs": [],
   "source": [
    "best_listings = max_stars.reset_index().sort_values('StarRanking',ascending=False)['product_id'].tolist()"
   ]
  },
  {
   "cell_type": "code",
   "execution_count": 28,
   "metadata": {
    "collapsed": true
   },
   "outputs": [],
   "source": [
    "worst_listings = max_stars.reset_index().sort_values('StarRanking',ascending=True)['product_id'].tolist()"
   ]
  },
  {
   "cell_type": "code",
   "execution_count": 38,
   "metadata": {
    "collapsed": false
   },
   "outputs": [
    {
     "data": {
      "text/plain": [
       "0.21651582730697613"
      ]
     },
     "execution_count": 38,
     "metadata": {},
     "output_type": "execute_result"
    }
   ],
   "source": [
    "5000/len(best_listings)"
   ]
  },
  {
   "cell_type": "code",
   "execution_count": 37,
   "metadata": {
    "collapsed": false
   },
   "outputs": [
    {
     "name": "stdout",
     "output_type": "stream",
     "text": [
      "-1.15419173212 86.0072166667 https://d6qwfb5pdou4u.cloudfront.net/product-images/410001-420000/419425/147329971051a838df8aa3a5866442739cf986a3ac/200-200-crop-90.jpg\n",
      "1.25785020998 100.658925 https://d6qwfb5pdou4u.cloudfront.net/product-images/410001-420000/419425/1473299724f83499f256e04cec8e2a4dbcb4ffad30/200-200-crop-0.jpg\n",
      "-1.4871538713 107.12 https://d6qwfb5pdou4u.cloudfront.net/product-images/410001-420000/419425/14732997461979ee336a6d438cf78fa3fd045300ca/200-200-crop-90.jpg\n",
      "0.421809278297 133.992808333 https://d6qwfb5pdou4u.cloudfront.net/product-images/410001-420000/419425/1473299763c95dad35a69b6c2e5255743c5f182bf6/200-200-crop-90.jpg\n",
      "4.08226980068 200.556825 https://d6qwfb5pdou4u.cloudfront.net/product-images/410001-420000/419425/1473328862778788056871513da8be01d289c8553f/200-200-crop-0.jpg\n"
     ]
    }
   ],
   "source": [
    "current_prod = sorted_df[sorted_df['product_id']==best_listings[5000]].reset_index()\n",
    "for idx in range(len(current_prod)):\n",
    "    print(current_prod.ix[idx,'StarRanking'],current_prod.ix[idx,'Histogram_Darkness'],current_prod.ix[idx,'path'])    "
   ]
  },
  {
   "cell_type": "code",
   "execution_count": null,
   "metadata": {
    "collapsed": false
   },
   "outputs": [],
   "source": [
    "current_prod = sorted_df[sorted_df['product_id']==worst_listings[20]].reset_index()\n",
    "for idx in range(len(current_prod)):\n",
    "    print(current_prod.ix[idx,'StarRanking'],current_prod.ix[idx,'Histogram_Darkness'],current_prod.ix[idx,'path'])"
   ]
  },
  {
   "cell_type": "code",
   "execution_count": null,
   "metadata": {
    "collapsed": false
   },
   "outputs": [],
   "source": [
    "print(current_prod.ix[0,'Histogram_Darkness'],current_prod.ix[idx,'path'])"
   ]
  },
  {
   "cell_type": "markdown",
   "metadata": {},
   "source": [
    "# Look at max, mean, and std of star rankings within listings"
   ]
  },
  {
   "cell_type": "code",
   "execution_count": 21,
   "metadata": {
    "collapsed": false
   },
   "outputs": [],
   "source": [
    "max_df = sorted_df.groupby('product_id').max()\n",
    "mean_df = sorted_df.groupby('product_id').mean()\n",
    "std_df = sorted_df.groupby('product_id').std()"
   ]
  },
  {
   "cell_type": "code",
   "execution_count": 24,
   "metadata": {
    "collapsed": false
   },
   "outputs": [
    {
     "data": {
      "text/plain": [
       "<matplotlib.axes._subplots.AxesSubplot at 0x1517b7c88>"
      ]
     },
     "execution_count": 24,
     "metadata": {},
     "output_type": "execute_result"
    },
    {
     "data": {
      "image/png": "[encoded data removed]",
      "text/plain": [
       "<matplotlib.figure.Figure at 0x1517904e0>"
      ]
     },
     "metadata": {},
     "output_type": "display_data"
    }
   ],
   "source": [
    "max_df['StarRanking'].plot.hist(bins=40)"
   ]
  },
  {
   "cell_type": "code",
   "execution_count": 25,
   "metadata": {
    "collapsed": false
   },
   "outputs": [
    {
     "data": {
      "text/plain": [
       "<matplotlib.axes._subplots.AxesSubplot at 0x1517827b8>"
      ]
     },
     "execution_count": 25,
     "metadata": {},
     "output_type": "execute_result"
    },
    {
     "data": {
      "image/png": "[encoded data removed]",
      "text/plain": [
       "<matplotlib.figure.Figure at 0x123759320>"
      ]
     },
     "metadata": {},
     "output_type": "display_data"
    }
   ],
   "source": [
    "mean_df['StarRanking'].plot.hist(bins=40)"
   ]
  },
  {
   "cell_type": "markdown",
   "metadata": {},
   "source": [
    "# Look into histograms of features for each class"
   ]
  },
  {
   "cell_type": "code",
   "execution_count": null,
   "metadata": {
    "collapsed": true
   },
   "outputs": [],
   "source": [
    "all_features = ['Horizontal_Saturation_Sym', 'Thirds_To_Focal_Distance',\n",
    "       'Vertical_Value_Sym', 'Salient_Saturation',\n",
    "       'S_var', 'Thirds_Value', 'V_var', 'FFT_Sharpness', 'R_Mean', 'g_ygrad',\n",
    "       'Thirds_Vertical_Value_Sym', 'Thirds_Sat', 'b_xgrad_std', 'g_xgrad_std',\n",
    "       'Thirds_Horizontal_Saliency_Sym', 'Thirds_Saliency', 'G_Mean',\n",
    "       'Salient_Hue', 'Histogram_Darkness', 'r_ygrad_std', 'Colorfulness',\n",
    "       'Vertical_Saturation_Sym', 'G_Width', 'H_mean',\n",
    "       'Thirds_Vertical_Saliency_Sym', 'Thirds_Vertical_Saturation_Sym',\n",
    "       'r_xgrad_std', 'Lapacian_Saturation', 'Horizontal_Hue_Sym', 'b_ygrad',\n",
    "       'B_Width', 'g_ygrad_std', 'r_ygrad', 'percieved_luminace',\n",
    "       'Salient_Value', 'V_mean', 'Thirds_Horizontal_Saturation_Sym',\n",
    "       'Number_of_Contours', 'Lapacian_Value', 'Complimentary_Color_Level',\n",
    "       'Vertical_Hue_Sym', 'R_xgrad', 'H_var', 'Horizontal_Value_Sym',\n",
    "       'Thirds_Horizontal_Value_Sym', 'b_ygrad_std', 'Thirds_Hue', 'g_xgrad',\n",
    "       'S_mean', 'Laplacian_Sharpness', 'Busyness', 'Thirds_Vertical_Hue_Sym',\n",
    "       'Lapacian_Hue', 'B_Mean', 'b_xgrad', 'standard_luminance',\n",
    "       'Thirds_Horizontal_Hue_Sym', 'R_Width']\n"
   ]
  },
  {
   "cell_type": "code",
   "execution_count": null,
   "metadata": {
    "collapsed": false
   },
   "outputs": [],
   "source": [
    "for i in range(len(all_features)):\n",
    "    feat = all_features[i]\n",
    "    plt.figure()\n",
    "    _,_,_ = plt.hist(ama_df[feat],bins=np.linspace(df[feat].min(),df[feat].max(),50),alpha=0.2,color='r')\n",
    "    _,_,_ = plt.hist(prof_df[feat],bins=np.linspace(df[feat].min(),df[feat].max(),50),alpha=0.2,color='g')\n",
    "    plt.title(feat)"
   ]
  },
  {
   "cell_type": "code",
   "execution_count": null,
   "metadata": {
    "collapsed": false
   },
   "outputs": [],
   "source": [
    "bins=np.arange(0,8,0.2)\n",
    "\n",
    "# Plot the histogram.\n",
    "y,x,_ = plt.hist(df['StarRanking'],bins=bins, normed=False, alpha=.3, color=[1,1,1])\n",
    "x=(x[1:]+x[:-1])/2 # for len(x)==len(y)\n",
    "\n",
    "def gauss(x,mu,sigma,A):\n",
    "    return A*exp(-(x-mu)**2/2/sigma**2)\n",
    "\n",
    "def bimodal(x,mu1,sigma1,A1,mu2,sigma2,A2):\n",
    "    return gauss(x,mu1,sigma1,A1)+gauss(x,mu2,sigma2,A2)\n",
    "\n",
    "expected=(3,.1,4000,3,.1,4000)\n",
    "params,cov=curve_fit(bimodal,x,y,expected)\n",
    "sigma=sqrt(diag(cov))\n",
    "plot(x,bimodal(x,*params),color='red',lw=3,label='model')\n",
    "legend()\n",
    "print(params,'\\n',sigma)    \n",
    "\n",
    "title = \"Fit results: mu1 = %.2f,  std1 = %.2f, mu2 = %.2f,  std2 = %.2f\" % (params[0],params[1],params[3],params[4])\n",
    "plt.title(title)\n",
    "_,_,_ = plt.hist(df[df['is_prof']==False]['StarRanking'],bins=bins,alpha=0.5,color='r')\n",
    "_,_,_ = plt.hist(df[df['is_prof']==True]['StarRanking'],bins=bins,alpha=0.5,color='g')\n",
    "\n",
    "plt.show()"
   ]
  },
  {
   "cell_type": "code",
   "execution_count": null,
   "metadata": {
    "collapsed": false
   },
   "outputs": [],
   "source": [
    "params[0]-params[1]*1.5"
   ]
  },
  {
   "cell_type": "code",
   "execution_count": null,
   "metadata": {
    "collapsed": true
   },
   "outputs": [],
   "source": []
  }
 ],
 "metadata": {
  "kernelspec": {
   "display_name": "Python 3",
   "language": "python",
   "name": "python3"
  },
  "language_info": {
   "codemirror_mode": {
    "name": "ipython",
    "version": 3
   },
   "file_extension": ".py",
   "mimetype": "text/x-python",
   "name": "python",
   "nbconvert_exporter": "python",
   "pygments_lexer": "ipython3",
   "version": "3.5.1"
  }
 },
 "nbformat": 4,
 "nbformat_minor": 0
}
