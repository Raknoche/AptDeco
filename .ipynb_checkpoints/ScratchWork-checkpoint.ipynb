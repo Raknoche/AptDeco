{
 "cells": [
  {
   "cell_type": "code",
   "execution_count": 1,
   "metadata": {
    "collapsed": false
   },
   "outputs": [
    {
     "name": "stderr",
     "output_type": "stream",
     "text": [
      "/Users/richardknoche/anaconda/lib/python3.5/site-packages/matplotlib/__init__.py:1035: UserWarning: Duplicate key in file \"/Users/richardknoche/.matplotlib/matplotlibrc\", line #2\n",
      "  (fname, cnt))\n"
     ]
    }
   ],
   "source": [
    "import pandas as pd\n",
    "from sqlalchemy import create_engine\n",
    "from matplotlib import pyplot as plt\n",
    "import numpy as np\n",
    "import numpy as np\n",
    "import urllib\n",
    "import cv2\n",
    "from ImageFeatures import *\n",
    "%matplotlib inline"
   ]
  },
  {
   "cell_type": "code",
   "execution_count": 2,
   "metadata": {
    "collapsed": true
   },
   "outputs": [],
   "source": [
    "path='/Users/richardknoche/Python Code/AptDeco/static/userImages/couch564215.png'\n",
    "image=cv2.imread(path)"
   ]
  },
  {
   "cell_type": "code",
   "execution_count": 6,
   "metadata": {
    "collapsed": false
   },
   "outputs": [],
   "source": [
    "feats=ExtractFeatures(image)"
   ]
  },
  {
   "cell_type": "code",
   "execution_count": 17,
   "metadata": {
    "collapsed": false
   },
   "outputs": [],
   "source": [
    "# Load model\n",
    "import pickle\n",
    "with open('image_classifier.pkl', 'rb') as f:\n",
    "    clf = pickle.load(f)\n",
    "\n",
    "with open('image_classifier_features.pkl', 'rb') as f:\n",
    "    image_classifier_features = pickle.load(f)"
   ]
  },
  {
   "cell_type": "code",
   "execution_count": 19,
   "metadata": {
    "collapsed": false
   },
   "outputs": [
    {
     "data": {
      "text/html": [
       "<div>\n",
       "<table border=\"1\" class=\"dataframe\">\n",
       "  <thead>\n",
       "    <tr style=\"text-align: right;\">\n",
       "      <th></th>\n",
       "      <th>B_Mean</th>\n",
       "      <th>B_Width</th>\n",
       "      <th>Busyness</th>\n",
       "      <th>Colorfulness</th>\n",
       "      <th>Complimentary_Color_Level</th>\n",
       "      <th>FFT_Sharpness</th>\n",
       "      <th>G_Mean</th>\n",
       "      <th>G_Width</th>\n",
       "      <th>H_mean</th>\n",
       "      <th>H_var</th>\n",
       "      <th>...</th>\n",
       "      <th>frac_white</th>\n",
       "      <th>g_xgrad</th>\n",
       "      <th>g_xgrad_std</th>\n",
       "      <th>g_ygrad</th>\n",
       "      <th>g_ygrad_std</th>\n",
       "      <th>percieved_luminace</th>\n",
       "      <th>r_xgrad_std</th>\n",
       "      <th>r_ygrad</th>\n",
       "      <th>r_ygrad_std</th>\n",
       "      <th>standard_luminance</th>\n",
       "    </tr>\n",
       "  </thead>\n",
       "  <tbody>\n",
       "    <tr>\n",
       "      <th>0</th>\n",
       "      <td>119.794292</td>\n",
       "      <td>0.359354</td>\n",
       "      <td>0.51258</td>\n",
       "      <td>81.274192</td>\n",
       "      <td>0.715542</td>\n",
       "      <td>12.110018</td>\n",
       "      <td>132.954504</td>\n",
       "      <td>0.329527</td>\n",
       "      <td>89.892269</td>\n",
       "      <td>6.570825</td>\n",
       "      <td>...</td>\n",
       "      <td>0.000781</td>\n",
       "      <td>0.049442</td>\n",
       "      <td>8.474292</td>\n",
       "      <td>-0.138352</td>\n",
       "      <td>17.392949</td>\n",
       "      <td>131.995498</td>\n",
       "      <td>8.458303</td>\n",
       "      <td>-0.139987</td>\n",
       "      <td>17.053717</td>\n",
       "      <td>132.389192</td>\n",
       "    </tr>\n",
       "  </tbody>\n",
       "</table>\n",
       "<p>1 rows × 59 columns</p>\n",
       "</div>"
      ],
      "text/plain": [
       "       B_Mean   B_Width  Busyness  Colorfulness  Complimentary_Color_Level  \\\n",
       "0  119.794292  0.359354   0.51258     81.274192                   0.715542   \n",
       "\n",
       "   FFT_Sharpness      G_Mean   G_Width     H_mean     H_var  \\\n",
       "0      12.110018  132.954504  0.329527  89.892269  6.570825   \n",
       "\n",
       "          ...          frac_white   g_xgrad  g_xgrad_std   g_ygrad  \\\n",
       "0         ...            0.000781  0.049442     8.474292 -0.138352   \n",
       "\n",
       "   g_ygrad_std  percieved_luminace  r_xgrad_std   r_ygrad  r_ygrad_std  \\\n",
       "0    17.392949          131.995498     8.458303 -0.139987    17.053717   \n",
       "\n",
       "   standard_luminance  \n",
       "0          132.389192  \n",
       "\n",
       "[1 rows x 59 columns]"
      ]
     },
     "execution_count": 19,
     "metadata": {},
     "output_type": "execute_result"
    }
   ],
   "source": [
    "import pandas as pd\n",
    "pd.DataFrame(feats,index=[0])"
   ]
  },
  {
   "cell_type": "code",
   "execution_count": 21,
   "metadata": {
    "collapsed": false
   },
   "outputs": [
    {
     "data": {
      "text/plain": [
       "array([[ 0.51391941,  0.48608059]])"
      ]
     },
     "execution_count": 21,
     "metadata": {},
     "output_type": "execute_result"
    }
   ],
   "source": [
    "feats = pd.DataFrame(feats,index=[0])\n",
    "clf.predict_proba(feats[image_classifier_features])\n"
   ]
  },
  {
   "cell_type": "markdown",
   "metadata": {},
   "source": [
    "# Based on three images seen on AptDeco homepage"
   ]
  },
  {
   "cell_type": "code",
   "execution_count": null,
   "metadata": {
    "collapsed": false
   },
   "outputs": [],
   "source": [
    "urls=[0,0,0]\n",
    "urls[0]='https://d6qwfb5pdou4u.cloudfront.net/product-images/630001-640000/630455/1482865073243374891161ca114b802d8599223300/1500-1500-frame-0.jpg'\n",
    "urls[1]='https://d6qwfb5pdou4u.cloudfront.net/product-images/630001-640000/630455/14828650922bc952fdf86815fad4bd37d769ab3379/1500-1500-frame-0.jpg'\n",
    "urls[2]='https://d6qwfb5pdou4u.cloudfront.net/product-images/630001-640000/630455/1482902447b092730972e578ac849e8acad95cdff3/1500-1500-frame-0.jpg'"
   ]
  },
  {
   "cell_type": "code",
   "execution_count": null,
   "metadata": {
    "collapsed": true
   },
   "outputs": [],
   "source": [
    "id_num = ids[75]\n",
    "urls=ProductImages[ProductImages['product_id']==ids[id_num]]['path'].tolist()\n"
   ]
  },
  {
   "cell_type": "code",
   "execution_count": null,
   "metadata": {
    "collapsed": true
   },
   "outputs": [],
   "source": [
    "for idx in range(len(urls)):\n",
    "    resp = urllib.request.urlopen(urls[idx])\n",
    "    image = np.asarray(bytearray(resp.read()), dtype=\"uint8\")\n",
    "    image = cv2.imdecode(image, cv2.IMREAD_COLOR)\n",
    "    scaler = np.min([800.0/image.shape[0], 800.0/image.shape[1]])\n",
    "\n",
    "    exec('image_%d = cv2.resize(image,(np.int(scaler*image.shape[1]),np.int(scaler*image.shape[0])),interpolation=cv2.INTER_AREA)' %(idx))"
   ]
  },
  {
   "cell_type": "code",
   "execution_count": null,
   "metadata": {
    "collapsed": false
   },
   "outputs": [],
   "source": [
    "len(urls)"
   ]
  },
  {
   "cell_type": "code",
   "execution_count": null,
   "metadata": {
    "collapsed": true
   },
   "outputs": [],
   "source": [
    "#img_0=pd.DataFrame(cv2.cvtColor(image_0, cv2.COLOR_BGR2GRAY).flatten())\n",
    "img_0=pd.DataFrame(image_0[:,:,2].flatten())\n",
    "img_0_counts = img_0[0].value_counts()\n",
    "img_0.colors = img_0_counts.index"
   ]
  },
  {
   "cell_type": "code",
   "execution_count": null,
   "metadata": {
    "collapsed": false
   },
   "outputs": [],
   "source": [
    "img_1=pd.DataFrame(image_1[:,:,2].flatten())\n",
    "img_1_counts = img_1[0].value_counts()\n",
    "img_1.colors = img_1_counts.index"
   ]
  },
  {
   "cell_type": "code",
   "execution_count": null,
   "metadata": {
    "collapsed": true
   },
   "outputs": [],
   "source": [
    "img_2=pd.DataFrame(image_2[:,:,2].flatten())\n",
    "img_2_counts = img_2[0].value_counts()\n",
    "img_2.colors = img_2_counts.index"
   ]
  },
  {
   "cell_type": "code",
   "execution_count": null,
   "metadata": {
    "collapsed": true
   },
   "outputs": [],
   "source": [
    "img_3=pd.DataFrame(image_3[:,:,2].flatten())\n",
    "img_3_counts = img_3[0].value_counts()\n",
    "img_3.colors = img_3_counts.index"
   ]
  },
  {
   "cell_type": "code",
   "execution_count": null,
   "metadata": {
    "collapsed": true
   },
   "outputs": [],
   "source": [
    "img_4=pd.DataFrame(image_4[:,:,2].flatten())\n",
    "img_4_counts = img_4[0].value_counts()\n",
    "img_4.colors = img_4_counts.index"
   ]
  },
  {
   "cell_type": "code",
   "execution_count": null,
   "metadata": {
    "collapsed": false
   },
   "outputs": [],
   "source": [
    "#main image\n",
    "img_6=pd.DataFrame(image_6[:,:,2].flatten())\n",
    "img_6_counts = img_6[0].value_counts()\n",
    "img_6_counts=img_6_counts[1:]\n",
    "img_6.colors = img_6_counts.index"
   ]
  },
  {
   "cell_type": "code",
   "execution_count": null,
   "metadata": {
    "collapsed": false
   },
   "outputs": [],
   "source": [
    "color_check = img_2_counts[img_6.colors]>=img_6_counts\n",
    "num_true=len(color_check[color_check==True])\n",
    "num_false=len(color_check[color_check==False])\n",
    "print(num_true/(num_true+num_false))"
   ]
  },
  {
   "cell_type": "code",
   "execution_count": null,
   "metadata": {
    "collapsed": false
   },
   "outputs": [],
   "source": [
    "for color in img_2.colors:\n",
    "    img_1"
   ]
  },
  {
   "cell_type": "code",
   "execution_count": null,
   "metadata": {
    "collapsed": false
   },
   "outputs": [],
   "source": [
    "edges"
   ]
  },
  {
   "cell_type": "code",
   "execution_count": null,
   "metadata": {
    "collapsed": true
   },
   "outputs": [],
   "source": []
  }
 ],
 "metadata": {
  "kernelspec": {
   "display_name": "Python 3",
   "language": "python",
   "name": "python3"
  },
  "language_info": {
   "codemirror_mode": {
    "name": "ipython",
    "version": 3
   },
   "file_extension": ".py",
   "mimetype": "text/x-python",
   "name": "python",
   "nbconvert_exporter": "python",
   "pygments_lexer": "ipython3",
   "version": "3.5.1"
  }
 },
 "nbformat": 4,
 "nbformat_minor": 0
}
