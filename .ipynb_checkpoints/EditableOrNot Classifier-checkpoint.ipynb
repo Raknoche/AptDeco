{
 "cells": [
  {
   "cell_type": "code",
   "execution_count": 1,
   "metadata": {
    "collapsed": false
   },
   "outputs": [
    {
     "name": "stderr",
     "output_type": "stream",
     "text": [
      "/Users/richardknoche/anaconda/lib/python3.5/site-packages/matplotlib/__init__.py:1035: UserWarning: Duplicate key in file \"/Users/richardknoche/.matplotlib/matplotlibrc\", line #2\n",
      "  (fname, cnt))\n"
     ]
    }
   ],
   "source": [
    "import pandas as pd\n",
    "from sklearn import linear_model\n",
    "from matplotlib import pyplot as plt\n",
    "%matplotlib inline\n",
    "from sklearn import linear_model,ensemble,metrics,preprocessing\n",
    "import numpy as np\n",
    "from sklearn.metrics import precision_recall_curve\n",
    "from sklearn.metrics import average_precision_score\n",
    "from sklearn.preprocessing import label_binarize\n",
    "from sklearn.multiclass import OneVsRestClassifier\n",
    "import cv2\n",
    "from ImageFeatures import *\n",
    "from sklearn.tree import DecisionTreeClassifier\n",
    "from sklearn import svm\n",
    "\n",
    "\n",
    "#Hand labeling images\n",
    "main_images=pd.read_csv('HighRes_ManuallyLabeled.csv')\n",
    "main_images.drop('Unnamed: 0',axis=1,inplace=True)\n",
    "\n",
    "#Image features\n",
    "image_features = pd.read_csv('HighRes_ImageFeatures.csv')\n",
    "image_features.drop('Unnamed: 0',axis=1,inplace=True)"
   ]
  },
  {
   "cell_type": "code",
   "execution_count": 2,
   "metadata": {
    "collapsed": true
   },
   "outputs": [],
   "source": [
    "#Merge the two df\n",
    "df = main_images.merge(image_features,how=\"inner\",on=\"path\")"
   ]
  },
  {
   "cell_type": "code",
   "execution_count": 3,
   "metadata": {
    "collapsed": false
   },
   "outputs": [
    {
     "data": {
      "text/plain": [
       "461"
      ]
     },
     "execution_count": 3,
     "metadata": {},
     "output_type": "execute_result"
    }
   ],
   "source": [
    "len(df[df['Rating']==3])"
   ]
  },
  {
   "cell_type": "code",
   "execution_count": 4,
   "metadata": {
    "collapsed": false
   },
   "outputs": [],
   "source": [
    "#Combine the two dataframe\n",
    "features = ['g_xgrad', 'r_ygrad', 'g_ygrad', 'Complimentary_Color_Level', 'B_Width', 'Salient_Saturation',\n",
    "            'H_mean', 'b_xgrad', 'Thirds_Vertical_Saliency_Sym', 'Lapacian_Hue', 'Lapacian_Value',\n",
    "            'Thirds_Horizontal_Value_Sym', 'R_xgrad', 'b_ygrad_std', 'Horizontal_Hue_Sym', 'Vertical_Value_Sym',\n",
    "            'r_ygrad_std', 'Thirds_Vertical_Value_Sym', 'S_var', 'Thirds_Sat', 'b_xgrad_std', 'Image_Size',\n",
    "            'Thirds_Saliency', 'S_mean', 'Thirds_Vertical_Saturation_Sym', 'Thirds_Hue', 'Thirds_Vertical_Hue_Sym',\n",
    "            'Vertical_Hue_Sym', 'standard_luminance', 'Laplacian_Sharpness', 'Aspect_Ratio', 'Thirds_Value',\n",
    "            'FFT_Sharpness', 'Thirds_To_Focal_Distance', 'G_Width', 'r_xgrad_std', 'Lapacian_Saturation',\n",
    "            'Horizontal_Saturation_Sym', 'H_var', 'V_mean', 'V_var', 'Salient_Hue', 'G_Mean', 'Histogram_Darkness',\n",
    "            'Colorfulness', 'percieved_luminace', 'Salient_Value', 'Busyness', 'g_xgrad_std', 'R_Width', 'Number_of_Contours',\n",
    "            'g_ygrad_std', 'b_ygrad', 'B_Mean', 'Horizontal_Value_Sym', 'Thirds_Horizontal_Saliency_Sym',\n",
    "            'Thirds_Horizontal_Hue_Sym', 'Vertical_Saturation_Sym', 'R_Mean', 'Thirds_Horizontal_Saturation_Sym']\n"
   ]
  },
  {
   "cell_type": "code",
   "execution_count": 5,
   "metadata": {
    "collapsed": true
   },
   "outputs": [],
   "source": [
    "#Drop na and edited images\n",
    "df.dropna(inplace=True)\n",
    "edited_df = df[df['Rating']==4]\n",
    "df=df[df['Rating']<4]"
   ]
  },
  {
   "cell_type": "code",
   "execution_count": 6,
   "metadata": {
    "collapsed": false
   },
   "outputs": [],
   "source": [
    "#Change to \"acceptable or not\" labels\n",
    "df['Rating']=df['Rating']==3\n",
    "edited_df['Rating']=True"
   ]
  },
  {
   "cell_type": "code",
   "execution_count": 7,
   "metadata": {
    "collapsed": false
   },
   "outputs": [],
   "source": [
    "col_to_predict = 'Rating'\n",
    "\n",
    "num_minority = min(len(df[df[col_to_predict]==False]),len(df[df[col_to_predict]==True]))\n",
    "num_majority = max(len(df[df[col_to_predict]==False]),len(df[df[col_to_predict]==True]))\n",
    "\n",
    "true_df = df[df[col_to_predict]==True]\n",
    "false_df = df[df[col_to_predict]==False]\n"
   ]
  },
  {
   "cell_type": "code",
   "execution_count": 8,
   "metadata": {
    "collapsed": false
   },
   "outputs": [
    {
     "name": "stderr",
     "output_type": "stream",
     "text": [
      "/Users/richardknoche/anaconda/lib/python3.5/site-packages/pandas/core/generic.py:2644: VisibleDeprecationWarning: using a non-integer number instead of an integer will result in an error in the future\n",
      "  locs = rs.choice(axis_length, size=n, replace=replace, p=weights)\n"
     ]
    }
   ],
   "source": [
    "samp = \"down\"\n",
    "\n",
    "if samp == \"down\":\n",
    "    #Downsampling\n",
    "    col_to_predict = 'Rating'\n",
    "\n",
    "    num_minority = min(len(df[df[col_to_predict]==False]),len(df[df[col_to_predict]==True]))\n",
    "    num_majority = max(len(df[df[col_to_predict]==False]),len(df[df[col_to_predict]==True]))\n",
    "\n",
    "    true_df = df[df[col_to_predict]==True]\n",
    "    false_df = df[df[col_to_predict]==False]\n",
    "    \n",
    "    train_true = true_df.sample(n=np.floor(num_minority*0.6),random_state = 102)\n",
    "    #train_false = false_df.sample(n=np.floor(2*num_minority*0.7),random_state = 102) #Using 2*num_minority, since we supliment later\n",
    "    train_false = false_df.sample(n=np.floor(num_minority*0.6),random_state = 102) #Using 2*num_minority, since we supliment later\n",
    "\n",
    "    train = pd.concat([train_true,train_false])\n",
    "    test = df.drop(train.index)\n",
    "\n",
    "    #Add some edited images to the training set boost sample size\n",
    "    #train = pd.concat([train,edited_df.iloc[:int(num_minority*0.7)]])\n",
    "    \n",
    "    #Making sure the ratio in the test set is accurate\n",
    "    test1 = test[test['Rating']==1]\n",
    "    test2 = test[test['Rating']==0].sample(n=np.floor(len(test1)*num_majority/num_minority))\n",
    "    test = pd.concat([test1,test2])\n",
    "\n",
    "elif samp == \"up\":\n",
    "    #Upsampling\n",
    "    col_to_predict = 'Rating'\n",
    "\n",
    "    num_minority = min(len(df[df[col_to_predict]==False]),len(df[df[col_to_predict]==True]))\n",
    "    num_majority = max(len(df[df[col_to_predict]==False]),len(df[df[col_to_predict]==True]))\n",
    "\n",
    "    true_df = df[df[col_to_predict]==True]\n",
    "    false_df = df[df[col_to_predict]==False]\n",
    "\n",
    "    train_true = true_df.sample(frac=0.6,random_state = 102)\n",
    "    train_true = pd.concat([train_true]*np.ceil(num_majority/num_minority))\n",
    "    train_false = false_df.sample(frac=0.6,random_state = 102)\n",
    "\n",
    "\n",
    "    train = pd.concat([train_true,train_false])\n",
    "    test = df.drop(train.index)"
   ]
  },
  {
   "cell_type": "code",
   "execution_count": 9,
   "metadata": {
    "collapsed": false
   },
   "outputs": [
    {
     "data": {
      "image/png": "[encoded data removed]",
      "text/plain": [
       "<matplotlib.figure.Figure at 0x1238cc160>"
      ]
     },
     "metadata": {},
     "output_type": "display_data"
    },
    {
     "name": "stdout",
     "output_type": "stream",
     "text": [
      "AUC:  0.718019518467\n",
      "Accuracy:  0.653638814016\n",
      "0.477493602975\n"
     ]
    },
    {
     "data": {
      "image/png": "[encoded data removed]",
      "text/plain": [
       "<matplotlib.figure.Figure at 0x120aa8fd0>"
      ]
     },
     "metadata": {},
     "output_type": "display_data"
    },
    {
     "name": "stdout",
     "output_type": "stream",
     "text": [
      "(array([ 0.65053763,  0.34946237]), array([ 0.33695652,  0.66304348]))\n"
     ]
    },
    {
     "data": {
      "image/png": "[encoded data removed]",
      "text/plain": [
       "<matplotlib.figure.Figure at 0x12167d860>"
      ]
     },
     "metadata": {},
     "output_type": "display_data"
    },
    {
     "name": "stdout",
     "output_type": "stream",
     "text": [
      "Frac that are good above 0.5:  0.38485804416403785\n",
      "Improvement factor:  0.35040983606557374\n"
     ]
    }
   ],
   "source": [
    "train_x = train[features]\n",
    "train_y = train[col_to_predict]\n",
    "\n",
    "test_x = test[features]\n",
    "test_y = test[col_to_predict]\n",
    "\n",
    "#cv_x = cv[features]\n",
    "#cv_y = cv['view_rate']\n",
    "\n",
    "#Normalize features\n",
    "std_scale = preprocessing.StandardScaler().fit(train_x)\n",
    "minmax_scale = preprocessing.MinMaxScaler().fit(train_x)\n",
    "\n",
    "train_x_std = std_scale.transform(train_x)\n",
    "train_x_minmax = minmax_scale.transform(train_x)\n",
    "\n",
    "test_x_std = std_scale.transform(test_x)\n",
    "test_x_minmax = minmax_scale.transform(test_x)\n",
    "\n",
    "train_x_features = train_x\n",
    "test_x_features = test_x\n",
    "\n",
    "#Train Model\n",
    "\n",
    "clf = ensemble.AdaBoostClassifier(\n",
    "    ensemble.RandomForestClassifier(\n",
    "        criterion = 'entropy',n_estimators=500,min_samples_leaf=2,max_features=None,random_state=102)\n",
    "    )\n",
    "clf.fit(train_x_features,train_y)\n",
    "predicted_y = clf.predict(test_x_features)\n",
    "y_probs =clf.predict_proba(test_x_features)[:, 1]\n",
    "\n",
    "#ROC\n",
    "fpr, tpr, thresholds = metrics.roc_curve(test_y, y_probs)\n",
    "plt.figure()\n",
    "plt.plot([0, 1], [0, 1], 'k--')\n",
    "plt.plot(fpr, tpr, label='RF')\n",
    "plt.xlabel('False positive rate')\n",
    "plt.ylabel('True positive rate')\n",
    "plt.title('ROC curve')\n",
    "plt.legend(loc='best')\n",
    "plt.show()\n",
    "print(\"AUC: \",metrics.auc(fpr, tpr))\n",
    "\n",
    "#Accuracy, Precision, Recall\n",
    "print('Accuracy: ',clf.score(test_x_features,test_y))\n",
    "f1score, tpr, thresholds = metrics.roc_curve(test_y, y_probs)\n",
    "\n",
    "precision, recall, thresholds = precision_recall_curve(test_y,y_probs)\n",
    "average_precision = average_precision_score(test_y, y_probs)\n",
    "print(average_precision)\n",
    "\n",
    "\n",
    "#Prec-Recall Curve\n",
    "plt.figure()\n",
    "plt.plot([0, 1], [1, 1], 'k--')\n",
    "plt.plot(recall, precision,label='RF')\n",
    "plt.xlabel('Recall')\n",
    "plt.ylabel('Precision')\n",
    "plt.title('PR curve')\n",
    "plt.legend(loc='best')\n",
    "plt.show()\n",
    "\n",
    "\n",
    "precision, recall, fscore, support = metrics.precision_recall_fscore_support(test_y, predicted_y)\n",
    "classifier_metrics = pd.DataFrame( {'Precision' : precision, 'Recall' : recall, 'F-Score' : fscore, 'Support' : support})\n",
    "classifier_metrics.index=['Bad','Good']\n",
    "classifier_metrics\n",
    "\n",
    "import pylab as pl\n",
    "labels = ['bad', 'good']\n",
    "\n",
    "cm = metrics.confusion_matrix(test_y, predicted_y)\n",
    "cm = (cm[0]/np.sum(cm[0]),cm[1]/np.sum(cm[1]))\n",
    "\n",
    "\n",
    "print(cm)\n",
    "fig = plt.figure()\n",
    "ax = fig.add_subplot(111)\n",
    "cax = ax.matshow(cm,cmap='Blues')\n",
    "pl.title('Confusion matrix of the classifier')\n",
    "fig.colorbar(cax)\n",
    "ax.set_xticklabels([''] + labels)\n",
    "ax.set_yticklabels([''] + labels)\n",
    "pl.xlabel('Predicted')\n",
    "pl.ylabel('True')\n",
    "\n",
    "pl.text(0,0,'Neg Frac \\n Correct: %.2f'% cm[0][0],va='center',ha='center',bbox=dict(fc='w',boxstyle='round,pad=1'))\n",
    "pl.text(0,1,'Pos Frac \\n Wrong: %.2f'% cm[1][0],va='center',ha='center',bbox=dict(fc='w',boxstyle='round,pad=1'))\n",
    "pl.text(1,0,'Neg Frac \\n Wrong: %.2f'% cm[0][1],va='center',ha='center',bbox=dict(fc='w',boxstyle='round,pad=1'))\n",
    "pl.text(1,1,'Pos Frac \\n Correct: %.2f'% cm[1][1],va='center',ha='center',bbox=dict(fc='w',boxstyle='round,pad=1'))\n",
    "\n",
    "pl.show()\n",
    "\n",
    "test['IsEdit_Prob']=clf.predict_proba(test[features])[:,1]\n",
    "bad_df=test[test['Rating']==False]\n",
    "good_df=test[test['Rating']==True]\n",
    "frac_good = len(good_df[good_df['IsEdit_Prob']>0.5])/(len(bad_df[bad_df['IsEdit_Prob']>0.5]) + len(good_df[good_df['IsEdit_Prob']>0.5]))\n",
    "print('Frac that are good above 0.5: ', frac_good)\n",
    "print('Improvement factor: ', (1/0.25- 1/frac_good)/(1/0.25))"
   ]
  },
  {
   "cell_type": "code",
   "execution_count": null,
   "metadata": {
    "collapsed": false
   },
   "outputs": [],
   "source": [
    "classifier_metrics"
   ]
  },
  {
   "cell_type": "code",
   "execution_count": null,
   "metadata": {
    "collapsed": false
   },
   "outputs": [],
   "source": [
    "#For RF\n",
    "importances = clf.feature_importances_\n",
    "\n",
    "indices = np.argsort(importances)[::-1]\n",
    "\n",
    "sorted_importances = [importance for (importance,feature) in sorted(zip(importances,features),reverse=True)]\n",
    "sorted_features = [feature for (importance,feature) in sorted(zip(importances,features),reverse=True)]   \n",
    "    \n",
    "plt.figure(figsize=(10,18))\n",
    "plt.title(\"Feature importances\")\n",
    "plt.barh(range(len(sorted_features),0,-1), sorted_importances,\n",
    "       color=\"r\", align=\"center\")\n",
    "plt.yticks(range(len(sorted_features),0,-1))\n",
    "ax=plt.gca()\n",
    "ax.set_yticklabels(sorted_features)\n",
    "plt.ylim([-1, len(sorted_features)+1])\n",
    "plt.show()"
   ]
  },
  {
   "cell_type": "markdown",
   "metadata": {},
   "source": [
    "# Test to see if it picks out good rankings"
   ]
  },
  {
   "cell_type": "code",
   "execution_count": null,
   "metadata": {
    "collapsed": false
   },
   "outputs": [],
   "source": [
    "test['PredictedClass']=clf.predict(test[features])\n",
    "test['IsEdit_Prob']=clf.predict_proba(test[features])[:,1]\n"
   ]
  },
  {
   "cell_type": "code",
   "execution_count": null,
   "metadata": {
    "collapsed": false
   },
   "outputs": [],
   "source": [
    "bins=np.arange(0,1,0.04)\n",
    "\n",
    "# Plot the histogram.\n",
    "y,x,_ = plt.hist(test['IsEdit_Prob'],bins=bins, normed=False, alpha=.3, color=[1,1,1])\n",
    "x=(x[1:]+x[:-1])/2 # for len(x)==len(y)\n",
    "\n",
    "_,_,_ = plt.hist(test[test['Rating']==False]['IsEdit_Prob'],bins=bins,alpha=0.5,color='r')\n",
    "_,_,_ = plt.hist(test[test['Rating']==True]['IsEdit_Prob'],bins=bins,alpha=0.5,color='g')\n",
    "\n",
    "plt.show()"
   ]
  },
  {
   "cell_type": "code",
   "execution_count": null,
   "metadata": {
    "collapsed": true
   },
   "outputs": [],
   "source": [
    "good_df=test[test['Rating']==True]\n",
    "bad_df=test[test['Rating']==False]"
   ]
  },
  {
   "cell_type": "code",
   "execution_count": null,
   "metadata": {
    "collapsed": true
   },
   "outputs": [],
   "source": [
    "#Catches ~70% of the good images, and removes about 62% of the bad ones at thresh=50%"
   ]
  },
  {
   "cell_type": "code",
   "execution_count": null,
   "metadata": {
    "collapsed": false
   },
   "outputs": [],
   "source": [
    "len(good_df[good_df['IsEdit_Prob']>0.5])/len(good_df)"
   ]
  },
  {
   "cell_type": "code",
   "execution_count": null,
   "metadata": {
    "collapsed": false
   },
   "outputs": [],
   "source": [
    "len(bad_df[bad_df['IsEdit_Prob']>0.5])/len(bad_df)"
   ]
  },
  {
   "cell_type": "code",
   "execution_count": null,
   "metadata": {
    "collapsed": true
   },
   "outputs": [],
   "source": [
    "#Accidentally miss ~30% of good images"
   ]
  },
  {
   "cell_type": "code",
   "execution_count": null,
   "metadata": {
    "collapsed": false
   },
   "outputs": [],
   "source": [
    "len(good_df[good_df['IsEdit_Prob']<0.5])/len(good_df)"
   ]
  },
  {
   "cell_type": "code",
   "execution_count": null,
   "metadata": {
    "collapsed": true
   },
   "outputs": [],
   "source": []
  },
  {
   "cell_type": "code",
   "execution_count": null,
   "metadata": {
    "collapsed": false
   },
   "outputs": [],
   "source": [
    "#60% of the images above 0.5% thresh are good images\n",
    "len(good_df[good_df['IsEdit_Prob']>0.5])/(len(bad_df[bad_df['IsEdit_Prob']>0.5]) + len(good_df[good_df['IsEdit_Prob']>0.5]))"
   ]
  },
  {
   "cell_type": "code",
   "execution_count": null,
   "metadata": {
    "collapsed": false
   },
   "outputs": [],
   "source": [
    "#33% of the images in general are good images -- so we increased efficiency by ~45%\n",
    "len(good_df)/(len(bad_df)+len(good_df))"
   ]
  },
  {
   "cell_type": "code",
   "execution_count": null,
   "metadata": {
    "collapsed": false
   },
   "outputs": [],
   "source": [
    "(1/0.25- 1/0.35)/(1/0.25)"
   ]
  },
  {
   "cell_type": "code",
   "execution_count": null,
   "metadata": {
    "collapsed": false
   },
   "outputs": [],
   "source": [
    "#look at the listings"
   ]
  },
  {
   "cell_type": "code",
   "execution_count": null,
   "metadata": {
    "collapsed": false
   },
   "outputs": [],
   "source": [
    "#Compare within listings for all AptDeco images\n",
    "sorted_df = test.sort_values('IsEdit_Prob')[['product_id_y','IsEdit_Prob','path']].dropna().reset_index()\n",
    "\n",
    "#WORST IMAGES\n",
    "for idx in range(0,20):\n",
    "    print('%0.2f' % sorted_df.ix[idx,'IsEdit_Prob'],sorted_df.ix[idx,'path'])\n",
    "    print('     ')"
   ]
  },
  {
   "cell_type": "code",
   "execution_count": null,
   "metadata": {
    "collapsed": false,
    "scrolled": false
   },
   "outputs": [],
   "source": [
    "#Compare within listings for all AptDeco images\n",
    "sorted_df = test.sort_values('IsEdit_Prob',ascending=False)[['product_id_y','IsEdit_Prob','path']].dropna().reset_index()\n",
    "\n",
    "#BEST IMAGES\n",
    "for idx in range(0,20):\n",
    "    print('%0.2f' % sorted_df.ix[idx,'IsEdit_Prob'],sorted_df.ix[idx,'path'])\n",
    "    print('     ')"
   ]
  },
  {
   "cell_type": "markdown",
   "metadata": {},
   "source": [
    "# Explaning results"
   ]
  },
  {
   "cell_type": "code",
   "execution_count": null,
   "metadata": {
    "collapsed": false
   },
   "outputs": [],
   "source": [
    "test.head()"
   ]
  },
  {
   "cell_type": "code",
   "execution_count": null,
   "metadata": {
    "collapsed": false
   },
   "outputs": [],
   "source": [
    "\n",
    "#From http://marcotcr.github.io/lime/tutorials/Tutorial%20-%20continuous%20and%20categorical%20features.html\n",
    "from lime import lime_text,lime_tabular\n",
    "from lime.lime_text import LimeTextExplainer\n",
    "class_names=['Bad','Good']\n",
    "explainer = lime_tabular.LimeTabularExplainer(np.array(train_x_features), feature_names=features, class_names=class_names, discretize_continuous=True)\n",
    "\n",
    "idx = 50\n",
    "df_idx = test.index[idx]\n",
    "print('True class: %s' % class_names[test_y.loc[df_idx]])\n",
    "print('Probability(Good) =', clf.predict_proba(test_x_features.loc[df_idx].values.reshape(1,-1))[0][1] )\n",
    "\n",
    "exp = explainer.explain_instance(np.array(test_x_features.loc[df_idx]), clf.predict_proba, num_features=6)\n",
    "exp.show_in_notebook(show_table=True, show_all=False,)\n",
    "\n",
    "#Get Image\n",
    "image = url_to_image(test.loc[df_idx]['path'])\n",
    "image=CropImage(image)\n",
    "plt.imshow(cv2.cvtColor(image, cv2.COLOR_BGR2RGB))"
   ]
  },
  {
   "cell_type": "code",
   "execution_count": null,
   "metadata": {
    "collapsed": false
   },
   "outputs": [],
   "source": [
    "#histograms of each features\n",
    "for i in range(len(features)):\n",
    "    feat = features[i]\n",
    "    plt.figure()\n",
    "    _,_,_ = plt.hist(df[df['Rating']==0][feat],bins=np.linspace(df[feat].min(),df[feat].max(),50),alpha=0.2,color='r')\n",
    "    _,_,_ = plt.hist(df[df['Rating']==1][feat],bins=np.linspace(df[feat].min(),df[feat].max(),50),alpha=0.2,color='g')\n",
    "    plt.title(feat)"
   ]
  },
  {
   "cell_type": "code",
   "execution_count": null,
   "metadata": {
    "collapsed": true
   },
   "outputs": [],
   "source": []
  }
 ],
 "metadata": {
  "kernelspec": {
   "display_name": "Python 3",
   "language": "python",
   "name": "python3"
  },
  "language_info": {
   "codemirror_mode": {
    "name": "ipython",
    "version": 3
   },
   "file_extension": ".py",
   "mimetype": "text/x-python",
   "name": "python",
   "nbconvert_exporter": "python",
   "pygments_lexer": "ipython3",
   "version": "3.5.1"
  }
 },
 "nbformat": 4,
 "nbformat_minor": 0
}
