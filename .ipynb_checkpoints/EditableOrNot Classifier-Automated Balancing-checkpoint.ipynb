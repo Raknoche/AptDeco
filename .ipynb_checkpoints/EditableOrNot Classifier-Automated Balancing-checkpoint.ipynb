{
 "cells": [
  {
   "cell_type": "code",
   "execution_count": 1,
   "metadata": {
    "collapsed": false
   },
   "outputs": [
    {
     "name": "stderr",
     "output_type": "stream",
     "text": [
      "/Users/richardknoche/anaconda/lib/python3.5/site-packages/matplotlib/__init__.py:1035: UserWarning: Duplicate key in file \"/Users/richardknoche/.matplotlib/matplotlibrc\", line #2\n",
      "  (fname, cnt))\n"
     ]
    }
   ],
   "source": [
    "import pandas as pd\n",
    "from sklearn import linear_model\n",
    "from matplotlib import pyplot as plt\n",
    "%matplotlib inline\n",
    "from sklearn import linear_model,ensemble,metrics,preprocessing\n",
    "import numpy as np\n",
    "from sklearn.metrics import precision_recall_curve\n",
    "from sklearn.metrics import average_precision_score\n",
    "from sklearn.preprocessing import label_binarize\n",
    "from sklearn.multiclass import OneVsRestClassifier\n",
    "import cv2\n",
    "from ImageFeatures import *\n",
    "from sklearn.tree import DecisionTreeClassifier\n",
    "from sklearn import svm\n",
    "\n",
    "\n",
    "#Hand labeling images\n",
    "main_images=pd.read_csv('HighRes_ManuallyLabeled.csv')\n",
    "main_images.drop('Unnamed: 0',axis=1,inplace=True)\n",
    "\n",
    "#Image features\n",
    "image_features = pd.read_csv('HighRes_ImageFeatures.csv')\n",
    "image_features.drop('Unnamed: 0',axis=1,inplace=True)"
   ]
  },
  {
   "cell_type": "code",
   "execution_count": 2,
   "metadata": {
    "collapsed": true
   },
   "outputs": [],
   "source": [
    "#Merge the two df\n",
    "df = main_images.merge(image_features,how=\"inner\",on=\"path\")"
   ]
  },
  {
   "cell_type": "code",
   "execution_count": 3,
   "metadata": {
    "collapsed": false
   },
   "outputs": [
    {
     "data": {
      "text/plain": [
       "461"
      ]
     },
     "execution_count": 3,
     "metadata": {},
     "output_type": "execute_result"
    }
   ],
   "source": [
    "len(df[df['Rating']==3])"
   ]
  },
  {
   "cell_type": "code",
   "execution_count": 4,
   "metadata": {
    "collapsed": false
   },
   "outputs": [],
   "source": [
    "#Combine the two dataframe\n",
    "features = ['g_xgrad', 'r_ygrad', 'g_ygrad', 'Complimentary_Color_Level', 'B_Width', 'Salient_Saturation',\n",
    "            'H_mean', 'b_xgrad', 'Thirds_Vertical_Saliency_Sym', 'Lapacian_Hue', 'Lapacian_Value',\n",
    "            'Thirds_Horizontal_Value_Sym', 'R_xgrad', 'b_ygrad_std', 'Horizontal_Hue_Sym', 'Vertical_Value_Sym',\n",
    "            'r_ygrad_std', 'Thirds_Vertical_Value_Sym', 'S_var', 'Thirds_Sat', 'b_xgrad_std', 'Image_Size',\n",
    "            'Thirds_Saliency', 'S_mean', 'Thirds_Vertical_Saturation_Sym', 'Thirds_Hue', 'Thirds_Vertical_Hue_Sym',\n",
    "            'Vertical_Hue_Sym', 'standard_luminance', 'Laplacian_Sharpness', 'Aspect_Ratio', 'Thirds_Value',\n",
    "            'FFT_Sharpness', 'Thirds_To_Focal_Distance', 'G_Width', 'r_xgrad_std', 'Lapacian_Saturation',\n",
    "            'Horizontal_Saturation_Sym', 'H_var', 'V_mean', 'V_var', 'Salient_Hue', 'G_Mean', 'Histogram_Darkness',\n",
    "            'Colorfulness', 'percieved_luminace', 'Salient_Value', 'Busyness', 'g_xgrad_std', 'R_Width', 'Number_of_Contours',\n",
    "            'g_ygrad_std', 'b_ygrad', 'B_Mean', 'Horizontal_Value_Sym', 'Thirds_Horizontal_Saliency_Sym',\n",
    "            'Thirds_Horizontal_Hue_Sym', 'Vertical_Saturation_Sym', 'R_Mean', 'Thirds_Horizontal_Saturation_Sym']\n"
   ]
  },
  {
   "cell_type": "code",
   "execution_count": 5,
   "metadata": {
    "collapsed": true
   },
   "outputs": [],
   "source": [
    "#Drop na and edited images\n",
    "df.dropna(inplace=True)\n",
    "edited_df = df[df['Rating']==4]\n",
    "df=df[df['Rating']<4]"
   ]
  },
  {
   "cell_type": "code",
   "execution_count": 6,
   "metadata": {
    "collapsed": false
   },
   "outputs": [],
   "source": [
    "#Change to \"acceptable or not\" labels\n",
    "df['Rating']=df['Rating']==3\n",
    "edited_df['Rating']=True"
   ]
  },
  {
   "cell_type": "code",
   "execution_count": 7,
   "metadata": {
    "collapsed": false
   },
   "outputs": [],
   "source": [
    "col_to_predict = 'Rating'\n",
    "\n",
    "num_minority = min(len(df[df[col_to_predict]==False]),len(df[df[col_to_predict]==True]))\n",
    "num_majority = max(len(df[df[col_to_predict]==False]),len(df[df[col_to_predict]==True]))\n",
    "\n",
    "true_df = df[df[col_to_predict]==True]\n",
    "false_df = df[df[col_to_predict]==False]\n"
   ]
  },
  {
   "cell_type": "code",
   "execution_count": 15,
   "metadata": {
    "collapsed": false
   },
   "outputs": [],
   "source": [
    "train = df.sample(frac=0.7,random_state=102)\n",
    "test = df.drop(train.index)"
   ]
  },
  {
   "cell_type": "code",
   "execution_count": 19,
   "metadata": {
    "collapsed": false
   },
   "outputs": [
    {
     "data": {
      "image/png": "[encoded data removed]",
      "text/plain": [
       "<matplotlib.figure.Figure at 0x105a88be0>"
      ]
     },
     "metadata": {},
     "output_type": "display_data"
    },
    {
     "name": "stdout",
     "output_type": "stream",
     "text": [
      "AUC:  0.703096441243\n",
      "Accuracy:  0.777378815081\n",
      "0.482748191205\n"
     ]
    },
    {
     "data": {
      "image/png": "[encoded data removed]",
      "text/plain": [
       "<matplotlib.figure.Figure at 0x11f55bf98>"
      ]
     },
     "metadata": {},
     "output_type": "display_data"
    },
    {
     "ename": "TypeError",
     "evalue": "confusion_matrix() got an unexpected keyword argument 'normalized'",
     "output_type": "error",
     "traceback": [
      "\u001b[0;31m---------------------------------------------------------------------------\u001b[0m",
      "\u001b[0;31mTypeError\u001b[0m                                 Traceback (most recent call last)",
      "\u001b[0;32m<ipython-input-19-3668e462c8f4>\u001b[0m in \u001b[0;36m<module>\u001b[0;34m()\u001b[0m\n\u001b[1;32m     71\u001b[0m \u001b[0mlabels\u001b[0m \u001b[0;34m=\u001b[0m \u001b[0;34m[\u001b[0m\u001b[0;34m'bad'\u001b[0m\u001b[0;34m,\u001b[0m \u001b[0;34m'good'\u001b[0m\u001b[0;34m]\u001b[0m\u001b[0;34m\u001b[0m\u001b[0m\n\u001b[1;32m     72\u001b[0m \u001b[0;34m\u001b[0m\u001b[0m\n\u001b[0;32m---> 73\u001b[0;31m \u001b[0mcm\u001b[0m \u001b[0;34m=\u001b[0m \u001b[0mmetrics\u001b[0m\u001b[0;34m.\u001b[0m\u001b[0mconfusion_matrix\u001b[0m\u001b[0;34m(\u001b[0m\u001b[0mtest_y\u001b[0m\u001b[0;34m,\u001b[0m \u001b[0mpredicted_y\u001b[0m\u001b[0;34m,\u001b[0m\u001b[0mnormalized\u001b[0m\u001b[0;34m=\u001b[0m\u001b[0;32mTrue\u001b[0m\u001b[0;34m)\u001b[0m\u001b[0;34m\u001b[0m\u001b[0m\n\u001b[0m\u001b[1;32m     74\u001b[0m \u001b[0;31m#cm = (cm[0]/np.sum(cm[0]),cm[1]/np.sum(cm[1]))\u001b[0m\u001b[0;34m\u001b[0m\u001b[0;34m\u001b[0m\u001b[0m\n\u001b[1;32m     75\u001b[0m \u001b[0;34m\u001b[0m\u001b[0m\n",
      "\u001b[0;31mTypeError\u001b[0m: confusion_matrix() got an unexpected keyword argument 'normalized'"
     ]
    }
   ],
   "source": [
    "train_x = train[features]\n",
    "train_y = train[col_to_predict]\n",
    "\n",
    "test_x = test[features]\n",
    "test_y = test[col_to_predict]\n",
    "\n",
    "#cv_x = cv[features]\n",
    "#cv_y = cv['view_rate']\n",
    "\n",
    "#Normalize features\n",
    "std_scale = preprocessing.StandardScaler().fit(train_x)\n",
    "minmax_scale = preprocessing.MinMaxScaler().fit(train_x)\n",
    "\n",
    "train_x_std = std_scale.transform(train_x)\n",
    "train_x_minmax = minmax_scale.transform(train_x)\n",
    "\n",
    "test_x_std = std_scale.transform(test_x)\n",
    "test_x_minmax = minmax_scale.transform(test_x)\n",
    "\n",
    "train_x_features = train_x\n",
    "test_x_features = test_x\n",
    "\n",
    "#Train Model\n",
    "\n",
    "clf = ensemble.AdaBoostClassifier(\n",
    "    ensemble.RandomForestClassifier(\n",
    "        criterion = 'entropy',n_estimators=500,min_samples_leaf=2,max_features=None,random_state=102,class_weight='balanced')\n",
    "    )\n",
    "clf.fit(train_x_features,train_y)\n",
    "predicted_y = clf.predict(test_x_features)\n",
    "y_probs =clf.predict_proba(test_x_features)[:, 1]\n",
    "\n",
    "#ROC\n",
    "fpr, tpr, thresholds = metrics.roc_curve(test_y, y_probs)\n",
    "plt.figure()\n",
    "plt.plot([0, 1], [0, 1], 'k--')\n",
    "plt.plot(fpr, tpr, label='RF')\n",
    "plt.xlabel('False positive rate')\n",
    "plt.ylabel('True positive rate')\n",
    "plt.title('ROC curve')\n",
    "plt.legend(loc='best')\n",
    "plt.show()\n",
    "print(\"AUC: \",metrics.auc(fpr, tpr))\n",
    "\n",
    "#Accuracy, Precision, Recall\n",
    "print('Accuracy: ',clf.score(test_x_features,test_y))\n",
    "f1score, tpr, thresholds = metrics.roc_curve(test_y, y_probs)\n",
    "\n",
    "precision, recall, thresholds = precision_recall_curve(test_y,y_probs)\n",
    "average_precision = average_precision_score(test_y, y_probs)\n",
    "print(average_precision)\n",
    "\n",
    "\n",
    "#Prec-Recall Curve\n",
    "plt.figure()\n",
    "plt.plot([0, 1], [1, 1], 'k--')\n",
    "plt.plot(recall, precision,label='RF')\n",
    "plt.xlabel('Recall')\n",
    "plt.ylabel('Precision')\n",
    "plt.title('PR curve')\n",
    "plt.legend(loc='best')\n",
    "plt.show()\n",
    "\n",
    "\n",
    "precision, recall, fscore, support = metrics.precision_recall_fscore_support(test_y, predicted_y)\n",
    "classifier_metrics = pd.DataFrame( {'Precision' : precision, 'Recall' : recall, 'F-Score' : fscore, 'Support' : support})\n",
    "classifier_metrics.index=['Bad','Good']\n",
    "classifier_metrics\n",
    "\n",
    "import pylab as pl\n",
    "labels = ['bad', 'good']\n",
    "\n",
    "cm = metrics.confusion_matrix(test_y, predicted_y,normalized=True)\n",
    "cm = (cm[0]/np.sum(cm[0]),cm[1]/np.sum(cm[1]))\n",
    "\n",
    "\n",
    "print(cm)\n",
    "fig = plt.figure()\n",
    "ax = fig.add_subplot(111)\n",
    "cax = ax.matshow(cm,cmap='BuGn')\n",
    "pl.title('Confusion matrix of the classifier')\n",
    "fig.colorbar(cax)\n",
    "ax.set_xticklabels([''] + labels)\n",
    "ax.set_yticklabels([''] + labels)\n",
    "pl.xlabel('Predicted')\n",
    "pl.ylabel('True')\n",
    "\n",
    "pl.text(0,0,'Neg Frac \\n Correct: %.2f'% cm[0][0],va='center',ha='center',bbox=dict(fc='w',boxstyle='round,pad=1'))\n",
    "pl.text(0,1,'Pos Frac \\n Wrong: %.2f'% cm[1][0],va='center',ha='center',bbox=dict(fc='w',boxstyle='round,pad=1'))\n",
    "pl.text(1,0,'Neg Frac \\n Wrong: %.2f'% cm[0][1],va='center',ha='center',bbox=dict(fc='w',boxstyle='round,pad=1'))\n",
    "pl.text(1,1,'Pos Frac \\n Correct: %.2f'% cm[1][1],va='center',ha='center',bbox=dict(fc='w',boxstyle='round,pad=1'))\n",
    "\n",
    "pl.show()\n",
    "\n",
    "test['IsEdit_Prob']=clf.predict_proba(test[features])[:,1]\n",
    "bad_df=test[test['Rating']==False]\n",
    "good_df=test[test['Rating']==True]\n",
    "frac_good = len(good_df[good_df['IsEdit_Prob']>0.5])/(len(bad_df[bad_df['IsEdit_Prob']>0.5]) + len(good_df[good_df['IsEdit_Prob']>0.5]))\n",
    "print('Frac that are good above 0.5: ', frac_good)\n",
    "print('Improvement factor: ', (1/0.25- 1/frac_good)/(1/0.25))"
   ]
  },
  {
   "cell_type": "code",
   "execution_count": null,
   "metadata": {
    "collapsed": false
   },
   "outputs": [],
   "source": [
    "classifier_metrics"
   ]
  },
  {
   "cell_type": "code",
   "execution_count": 51,
   "metadata": {
    "collapsed": false
   },
   "outputs": [
    {
     "data": {
      "image/png": "[encoded data removed]",
      "text/plain": [
       "<matplotlib.figure.Figure at 0x124620cf8>"
      ]
     },
     "metadata": {},
     "output_type": "display_data"
    }
   ],
   "source": [
    "#For RF\n",
    "importances = clf.feature_importances_\n",
    "\n",
    "indices = np.argsort(importances)[::-1]\n",
    "\n",
    "sorted_importances = [importance for (importance,feature) in sorted(zip(importances,features),reverse=True)]\n",
    "sorted_features = [feature for (importance,feature) in sorted(zip(importances,features),reverse=True)]   \n",
    "    \n",
    "plt.figure(figsize=(10,18))\n",
    "plt.title(\"Feature importances\")\n",
    "plt.barh(range(len(sorted_features),0,-1), sorted_importances,\n",
    "       color=\"r\", align=\"center\")\n",
    "plt.yticks(range(len(sorted_features),0,-1))\n",
    "ax=plt.gca()\n",
    "ax.set_yticklabels(sorted_features)\n",
    "plt.ylim([-1, len(sorted_features)+1])\n",
    "plt.show()"
   ]
  },
  {
   "cell_type": "markdown",
   "metadata": {},
   "source": [
    "# Test to see if it picks out good rankings"
   ]
  },
  {
   "cell_type": "code",
   "execution_count": 36,
   "metadata": {
    "collapsed": false
   },
   "outputs": [],
   "source": [
    "test['PredictedClass']=clf.predict(test[features])\n",
    "test['IsEdit_Prob']=clf.predict_proba(test[features])[:,1]\n"
   ]
  },
  {
   "cell_type": "code",
   "execution_count": 37,
   "metadata": {
    "collapsed": false
   },
   "outputs": [
    {
     "data": {
      "image/png": "[encoded data removed]",
      "text/plain": [
       "<matplotlib.figure.Figure at 0x11f8245c0>"
      ]
     },
     "metadata": {},
     "output_type": "display_data"
    }
   ],
   "source": [
    "bins=np.arange(0,1,0.04)\n",
    "\n",
    "# Plot the histogram.\n",
    "y,x,_ = plt.hist(test['IsEdit_Prob'],bins=bins, normed=False, alpha=.3, color=[1,1,1])\n",
    "x=(x[1:]+x[:-1])/2 # for len(x)==len(y)\n",
    "\n",
    "_,_,_ = plt.hist(test[test['Rating']==False]['IsEdit_Prob'],bins=bins,alpha=0.5,color='r')\n",
    "_,_,_ = plt.hist(test[test['Rating']==True]['IsEdit_Prob'],bins=bins,alpha=0.5,color='g')\n",
    "\n",
    "plt.show()"
   ]
  },
  {
   "cell_type": "code",
   "execution_count": 38,
   "metadata": {
    "collapsed": true
   },
   "outputs": [],
   "source": [
    "good_df=test[test['Rating']==True]\n",
    "bad_df=test[test['Rating']==False]"
   ]
  },
  {
   "cell_type": "code",
   "execution_count": 39,
   "metadata": {
    "collapsed": true
   },
   "outputs": [],
   "source": [
    "#Catches ~70% of the good images, and removes about 62% of the bad ones at thresh=50%"
   ]
  },
  {
   "cell_type": "code",
   "execution_count": 40,
   "metadata": {
    "collapsed": false
   },
   "outputs": [
    {
     "data": {
      "text/plain": [
       "0.6374269005847953"
      ]
     },
     "execution_count": 40,
     "metadata": {},
     "output_type": "execute_result"
    }
   ],
   "source": [
    "len(good_df[good_df['IsEdit_Prob']>0.5])/len(good_df)"
   ]
  },
  {
   "cell_type": "code",
   "execution_count": 41,
   "metadata": {
    "collapsed": false
   },
   "outputs": [
    {
     "data": {
      "text/plain": [
       "0.3474903474903475"
      ]
     },
     "execution_count": 41,
     "metadata": {},
     "output_type": "execute_result"
    }
   ],
   "source": [
    "len(bad_df[bad_df['IsEdit_Prob']>0.5])/len(bad_df)"
   ]
  },
  {
   "cell_type": "code",
   "execution_count": 42,
   "metadata": {
    "collapsed": true
   },
   "outputs": [],
   "source": [
    "#Accidentally miss ~30% of good images"
   ]
  },
  {
   "cell_type": "code",
   "execution_count": 43,
   "metadata": {
    "collapsed": false
   },
   "outputs": [
    {
     "data": {
      "text/plain": [
       "0.36257309941520466"
      ]
     },
     "execution_count": 43,
     "metadata": {},
     "output_type": "execute_result"
    }
   ],
   "source": [
    "len(good_df[good_df['IsEdit_Prob']<0.5])/len(good_df)"
   ]
  },
  {
   "cell_type": "code",
   "execution_count": null,
   "metadata": {
    "collapsed": true
   },
   "outputs": [],
   "source": []
  },
  {
   "cell_type": "code",
   "execution_count": 44,
   "metadata": {
    "collapsed": false
   },
   "outputs": [
    {
     "data": {
      "text/plain": [
       "0.3771626297577855"
      ]
     },
     "execution_count": 44,
     "metadata": {},
     "output_type": "execute_result"
    }
   ],
   "source": [
    "#60% of the images above 0.5% thresh are good images\n",
    "len(good_df[good_df['IsEdit_Prob']>0.5])/(len(bad_df[bad_df['IsEdit_Prob']>0.5]) + len(good_df[good_df['IsEdit_Prob']>0.5]))"
   ]
  },
  {
   "cell_type": "code",
   "execution_count": 45,
   "metadata": {
    "collapsed": false
   },
   "outputs": [
    {
     "data": {
      "text/plain": [
       "0.24818577648766327"
      ]
     },
     "execution_count": 45,
     "metadata": {},
     "output_type": "execute_result"
    }
   ],
   "source": [
    "#33% of the images in general are good images -- so we increased efficiency by ~45%\n",
    "len(good_df)/(len(bad_df)+len(good_df))"
   ]
  },
  {
   "cell_type": "code",
   "execution_count": 46,
   "metadata": {
    "collapsed": false
   },
   "outputs": [
    {
     "data": {
      "text/plain": [
       "0.2857142857142857"
      ]
     },
     "execution_count": 46,
     "metadata": {},
     "output_type": "execute_result"
    }
   ],
   "source": [
    "(1/0.25- 1/0.35)/(1/0.25)"
   ]
  },
  {
   "cell_type": "code",
   "execution_count": 47,
   "metadata": {
    "collapsed": false
   },
   "outputs": [],
   "source": [
    "#look at the listings"
   ]
  },
  {
   "cell_type": "code",
   "execution_count": 48,
   "metadata": {
    "collapsed": false
   },
   "outputs": [
    {
     "name": "stdout",
     "output_type": "stream",
     "text": [
      "0.08 https://d6qwfb5pdou4u.cloudfront.net/product-images/150001-160000/157908/1438550515f042e5c496e8bb96b485ff940456df76/1500-1500-frame-0.jpg\n",
      "     \n",
      "0.09 https://d6qwfb5pdou4u.cloudfront.net/product-images/120001-130000/128434/1432692694af3501f3078cbca940f296f348a66718/1500-1500-frame-0.jpg\n",
      "     \n",
      "0.09 https://d6qwfb5pdou4u.cloudfront.net/product-images/350001-360000/355915/1469294387a8f2e724ed12001db427208307b6b626/1500-1500-frame-90.jpg\n",
      "     \n",
      "0.09 https://d6qwfb5pdou4u.cloudfront.net/product-images/30001-40000/31290/14066264285372c6550db171dda7600ab28dc97dc2/1500-1500-frame-0.jpg\n",
      "     \n",
      "0.10 https://d6qwfb5pdou4u.cloudfront.net/product-images/20001-30000/23175/1400617712508e57923fb3f50ff951b5819e9561e9/1500-1500-frame-0.jpg\n",
      "     \n",
      "0.11 https://d6qwfb5pdou4u.cloudfront.net/product-images/120001-130000/124996/1432045391c04d2222fd0f6735340abd726b5a5eb4/1500-1500-frame-180.jpg\n",
      "     \n",
      "0.11 https://d6qwfb5pdou4u.cloudfront.net/product-images/160001-170000/167214/1439754106c99168342de419e07bb682e4726a5756/1500-1500-frame-0.jpg\n",
      "     \n",
      "0.11 https://d6qwfb5pdou4u.cloudfront.net/product-images/370001-380000/375150/14708818710719b39339a1f86a21d8d2786fa3cd9a/1500-1500-frame-90.jpg\n",
      "     \n",
      "0.11 https://d6qwfb5pdou4u.cloudfront.net/product-images/20001-30000/22854/14003410075f38c2c52bc572f875890c46a68e3cd3/1500-1500-frame-0.jpg\n",
      "     \n",
      "0.11 https://d6qwfb5pdou4u.cloudfront.net/product-images/10001-20000/15610/139329519297075f21235087762d6b4e008481868c/1500-1500-frame-0.jpg\n",
      "     \n",
      "0.11 https://d6qwfb5pdou4u.cloudfront.net/product-images/340001-350000/340103/1468464368962c28d2e54ff8925ad801b325a28be8/1500-1500-frame-0.jpg\n",
      "     \n",
      "0.12 https://d6qwfb5pdou4u.cloudfront.net/product-images/130001-140000/137967/14348510319284de552ae5cceb5e859268fae9aee2/1500-1500-frame-0.jpg\n",
      "     \n",
      "0.12 https://d6qwfb5pdou4u.cloudfront.net/product-images/460001-470000/461145/1474947950c783117783867007950d3c179375b216/1500-1500-frame-0.jpg\n",
      "     \n",
      "0.12 https://d6qwfb5pdou4u.cloudfront.net/product-images/500001-510000/501805/147735633523114023430caf674786b18ec3c44799/1500-1500-frame-90.jpg\n",
      "     \n",
      "0.12 https://d6qwfb5pdou4u.cloudfront.net/product-images/580001-590000/587058/1480786966db4f3f10981c34a242e30baa6b1f9c28/1500-1500-frame-0.jpg\n",
      "     \n",
      "0.12 https://d6qwfb5pdou4u.cloudfront.net/product-images/110001-120000/117802/1430506577252ce341c7377ed53e2b1c86d2b76934/1500-1500-frame-90.jpg\n",
      "     \n",
      "0.13 https://d6qwfb5pdou4u.cloudfront.net/product-images/540001-550000/543618/147864534924959cde1844bc440742b2530f41c2f2/1500-1500-frame-180.jpg\n",
      "     \n",
      "0.13 https://d6qwfb5pdou4u.cloudfront.net/product-images/130001-140000/137466/1435432207c657b3c770700bf778a73c0877715b4a/1500-1500-frame-0.jpg\n",
      "     \n",
      "0.13 https://d6qwfb5pdou4u.cloudfront.net/product-images/10001-20000/16644/139700065800af3e028ae848a1d4cdcca97ed2d8dd/1500-1500-frame-0.jpg\n",
      "     \n",
      "0.13 https://d6qwfb5pdou4u.cloudfront.net/product-images/320001-330000/320235/14665326754c48c39b597b65fe93e92c7462c70ec0/1500-1500-frame-0.jpg\n",
      "     \n"
     ]
    }
   ],
   "source": [
    "#Compare within listings for all AptDeco images\n",
    "sorted_df = test.sort_values('IsEdit_Prob')[['product_id_y','IsEdit_Prob','path']].dropna().reset_index()\n",
    "\n",
    "#WORST IMAGES\n",
    "for idx in range(0,20):\n",
    "    print('%0.2f' % sorted_df.ix[idx,'IsEdit_Prob'],sorted_df.ix[idx,'path'])\n",
    "    print('     ')"
   ]
  },
  {
   "cell_type": "code",
   "execution_count": 50,
   "metadata": {
    "collapsed": false,
    "scrolled": false
   },
   "outputs": [
    {
     "name": "stdout",
     "output_type": "stream",
     "text": [
      "0.88 https://d6qwfb5pdou4u.cloudfront.net/product-images/510001-520000/518166/1477507497e31cd1f989af63786ef9162575a0b5c4/1500-1500-frame-90.jpg\n",
      "     \n",
      "0.88 https://d6qwfb5pdou4u.cloudfront.net/product-images/350001-360000/352662/146906245287cfc2f72da55518228088225e208ba3/1500-1500-frame-0.jpg\n",
      "     \n",
      "0.87 https://d6qwfb5pdou4u.cloudfront.net/product-images/240001-250000/242690/1451694314b889339f072534a020bf2dffaf3b27d8/1500-1500-frame-0.jpg\n",
      "     \n",
      "0.87 https://d6qwfb5pdou4u.cloudfront.net/product-images/290001-300000/290878/146363099274871049a605a41d3e39bbaeb158fdad/1500-1500-frame-0.jpg\n",
      "     \n",
      "0.87 https://d6qwfb5pdou4u.cloudfront.net/product-images/370001-380000/379575/1471230784e4cd5285207f55abefa4bead4808c85a/1500-1500-frame-0.jpg\n",
      "     \n",
      "0.85 https://d6qwfb5pdou4u.cloudfront.net/product-images/350001-360000/352561/14690589942cde37e2dc907be3cd762da50dd0f877/1500-1500-frame-0.jpg\n",
      "     \n",
      "0.85 https://d6qwfb5pdou4u.cloudfront.net/product-images/200001-210000/206129/14450915467fed4460dfa83bef21cdbbfe0274cc1d/1500-1500-frame-0.jpg\n",
      "     \n",
      "0.83 https://d6qwfb5pdou4u.cloudfront.net/product-images/280001-290000/280159/14617936752283a60531ad23fb27a865cd40afe320/1500-1500-frame-0.jpg\n",
      "     \n",
      "0.82 https://d6qwfb5pdou4u.cloudfront.net/product-images/260001-270000/267118/145772729964430f3e572067ae55836207d9142781/1500-1500-frame-0.jpg\n",
      "     \n",
      "0.81 https://d6qwfb5pdou4u.cloudfront.net/product-images/170001-180000/176914/14411354126b47c66efce2c9ce87b3053da00fecc4/1500-1500-frame-0.jpg\n",
      "     \n",
      "0.81 https://d6qwfb5pdou4u.cloudfront.net/product-images/250001-260000/254504/1454291486a7858da0f85f27539551347e62d61e54/1500-1500-frame-0.jpg\n",
      "     \n",
      "0.81 https://d6qwfb5pdou4u.cloudfront.net/product-images/360001-370000/360559/1469640558f3cc2e119244525f2005e77a8b641511/1500-1500-frame-0.jpg\n",
      "     \n",
      "0.81 https://d6qwfb5pdou4u.cloudfront.net/product-images/20001-30000/22184/1399772704d7074a48a87522ceeb0ceb22d8bc4fe5/1500-1500-frame-0.jpg\n",
      "     \n",
      "0.80 https://d6qwfb5pdou4u.cloudfront.net/product-images/50001-60000/50363/1411743512508f145592825cf639e91e84e8431093/1500-1500-frame-0.jpg\n",
      "     \n",
      "0.80 https://d6qwfb5pdou4u.cloudfront.net/product-images/110001-120000/119576/14309464922a733368b67efd44171d4b7e3b7adeff/1500-1500-frame-0.jpg\n",
      "     \n",
      "0.80 https://d6qwfb5pdou4u.cloudfront.net/product-images/210001-220000/216484/1446581889adf5a5fe6c62345b89b382ca77062a26/1500-1500-frame-90.jpg\n",
      "     \n",
      "0.80 https://d6qwfb5pdou4u.cloudfront.net/product-images/270001-280000/278706/146112042914d16ccac98ab2f4308db52caa71421c/1500-1500-frame-0.jpg\n",
      "     \n",
      "0.80 https://d6qwfb5pdou4u.cloudfront.net/product-images/510001-520000/514090/1477318094044335a8bac904cd723e45a9cf2090b0/1500-1500-frame-0.jpg\n",
      "     \n",
      "0.79 https://d6qwfb5pdou4u.cloudfront.net/product-images/280001-290000/286194/1462994356b16f27ed192abaaf8729e8dab20c8dab/1500-1500-frame-0.jpg\n",
      "     \n",
      "0.78 https://d6qwfb5pdou4u.cloudfront.net/product-images/250001-260000/250549/1453159788569bbfae0faecf1376154fce7c9e95d0/1500-1500-frame-90.jpg\n",
      "     \n"
     ]
    }
   ],
   "source": [
    "#Compare within listings for all AptDeco images\n",
    "sorted_df = test.sort_values('IsEdit_Prob',ascending=False)[['product_id_y','IsEdit_Prob','path']].dropna().reset_index()\n",
    "\n",
    "#BEST IMAGES\n",
    "for idx in range(0,20):\n",
    "    print('%0.2f' % sorted_df.ix[idx,'IsEdit_Prob'],sorted_df.ix[idx,'path'])\n",
    "    print('     ')"
   ]
  },
  {
   "cell_type": "markdown",
   "metadata": {},
   "source": [
    "# Explaning results"
   ]
  },
  {
   "cell_type": "code",
   "execution_count": null,
   "metadata": {
    "collapsed": false
   },
   "outputs": [],
   "source": [
    "test.head()"
   ]
  },
  {
   "cell_type": "code",
   "execution_count": null,
   "metadata": {
    "collapsed": false
   },
   "outputs": [],
   "source": [
    "\n",
    "#From http://marcotcr.github.io/lime/tutorials/Tutorial%20-%20continuous%20and%20categorical%20features.html\n",
    "from lime import lime_text,lime_tabular\n",
    "from lime.lime_text import LimeTextExplainer\n",
    "class_names=['Bad','Good']\n",
    "explainer = lime_tabular.LimeTabularExplainer(np.array(train_x_features), feature_names=features, class_names=class_names, discretize_continuous=True)\n",
    "\n",
    "idx = 50\n",
    "df_idx = test.index[idx]\n",
    "print('True class: %s' % class_names[test_y.loc[df_idx]])\n",
    "print('Probability(Good) =', clf.predict_proba(test_x_features.loc[df_idx].values.reshape(1,-1))[0][1] )\n",
    "\n",
    "exp = explainer.explain_instance(np.array(test_x_features.loc[df_idx]), clf.predict_proba, num_features=6)\n",
    "exp.show_in_notebook(show_table=True, show_all=False,)\n",
    "\n",
    "#Get Image\n",
    "image = url_to_image(test.loc[df_idx]['path'])\n",
    "image=CropImage(image)\n",
    "plt.imshow(cv2.cvtColor(image, cv2.COLOR_BGR2RGB))"
   ]
  },
  {
   "cell_type": "code",
   "execution_count": null,
   "metadata": {
    "collapsed": false
   },
   "outputs": [],
   "source": [
    "#histograms of each features\n",
    "for i in range(len(features)):\n",
    "    feat = features[i]\n",
    "    plt.figure()\n",
    "    _,_,_ = plt.hist(df[df['Rating']==0][feat],bins=np.linspace(df[feat].min(),df[feat].max(),50),alpha=0.2,color='r')\n",
    "    _,_,_ = plt.hist(df[df['Rating']==1][feat],bins=np.linspace(df[feat].min(),df[feat].max(),50),alpha=0.2,color='g')\n",
    "    plt.title(feat)"
   ]
  },
  {
   "cell_type": "code",
   "execution_count": null,
   "metadata": {
    "collapsed": true
   },
   "outputs": [],
   "source": []
  }
 ],
 "metadata": {
  "kernelspec": {
   "display_name": "Python 3",
   "language": "python",
   "name": "python3"
  },
  "language_info": {
   "codemirror_mode": {
    "name": "ipython",
    "version": 3
   },
   "file_extension": ".py",
   "mimetype": "text/x-python",
   "name": "python",
   "nbconvert_exporter": "python",
   "pygments_lexer": "ipython3",
   "version": "3.5.1"
  }
 },
 "nbformat": 4,
 "nbformat_minor": 0
}
