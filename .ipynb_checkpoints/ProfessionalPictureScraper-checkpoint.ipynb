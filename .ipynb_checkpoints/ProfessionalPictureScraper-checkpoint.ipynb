{
 "cells": [
  {
   "cell_type": "code",
   "execution_count": 1,
   "metadata": {
    "collapsed": false
   },
   "outputs": [
    {
     "name": "stderr",
     "output_type": "stream",
     "text": [
      "/Users/richardknoche/anaconda/lib/python3.5/site-packages/matplotlib/__init__.py:1035: UserWarning: Duplicate key in file \"/Users/richardknoche/.matplotlib/matplotlibrc\", line #2\n",
      "  (fname, cnt))\n"
     ]
    }
   ],
   "source": [
    "url='https://www.ashleyfurniturehomestore.com/c/furniture/living-room/living-room-chairs/?icid=Living-Room-2A&pg=10'\n",
    "import pymysql as mdb\n",
    "import sys\n",
    "from bs4 import BeautifulSoup # For HTML parsing\n",
    "import urllib # Website connections\n",
    "import re # Regular expressions\n",
    "from time import sleep # To prevent overwhelming the server between connections\n",
    "from collections import Counter # Keep track of our term counts\n",
    "from nltk.corpus import stopwords # Filter out stopwords, such as 'the', 'or', 'and'\n",
    "import pandas as pd # For converting results to a dataframe and bar chart plots\n",
    "import math\n",
    "from string import digits\n",
    "from functools import reduce\n",
    "import time\n",
    "import collections\n",
    "from http.cookiejar import CookieJar\n",
    "import ssl"
   ]
  },
  {
   "cell_type": "markdown",
   "metadata": {},
   "source": [
    "# Ashley Furniture"
   ]
  },
  {
   "cell_type": "code",
   "execution_count": null,
   "metadata": {
    "collapsed": false
   },
   "outputs": [],
   "source": [
    "def get_image_urls(website):\n",
    "    req=urllib.request.Request(website,data=None,headers={'User-Agent':'Mozilla/5.0 (Mozilla/5.0 (Macintosh; U; Intel Mac OS X 10.5; en-US; rv:1.9.0.5)'})\n",
    "    cj = CookieJar()\n",
    "    opener = urllib.request.build_opener(urllib.request.HTTPCookieProcessor(cj))\n",
    "    opener.addheaders = [('User-Agent', 'Mozilla/5.0 (Mozilla/5.0 (Macintosh; U; Intel Mac OS X 10.5; en-US; rv:1.9.0.5)')]\n",
    "    opener.addheaders =[('Accept','text/html,application/xhtml+xml,application/xml;q=0.9,*/*;q=0.8')]\n",
    "    response = opener.open(req)\n",
    "    html = response.read().decode('utf8', errors='ignore')\n",
    "    response.close()\n",
    "    \n",
    "    soup = BeautifulSoup(html,\"lxml\")\n",
    "       \n",
    "    return re.findall(r'\"rollOver\":{\"html\":null,\"src\":\"(.*?)\"',str(soup))\n",
    "\n",
    "def get_base_url(base_category,sub_category):\n",
    "    return 'https://www.ashleyfurniturehomestore.com/c/furniture/%s/%s/' % (base_category,sub_category)"
   ]
  },
  {
   "cell_type": "code",
   "execution_count": null,
   "metadata": {
    "collapsed": false
   },
   "outputs": [],
   "source": [
    "url"
   ]
  },
  {
   "cell_type": "code",
   "execution_count": null,
   "metadata": {
    "collapsed": false
   },
   "outputs": [],
   "source": [
    "living_room_categories = ['sofas','sectional-sofas','loveseats','living-room-chairs','recliners',\\\n",
    "                         'sleeper-sofas','power-sofas-loveseats-and-recliners','occasional-tables',\\\n",
    "                         'coffee-tables','end-and-side-tables','console-tables','tv-stands-and-media-centers',\n",
    "                         'ottomans','storage']\n",
    "\n",
    "kitchen_categories = ['dining-room-tables','chairs','storage','bar-stools','dining-room-sets','benches']\n",
    "\n",
    "home_office_categories =[''] #listing under one page\n",
    "\n",
    "entryway_categories = ['']\n",
    "\n",
    "bedroom_categories = ['']\n",
    "\n",
    "image_urls=[]\n",
    "for category in kitchen_categories:\n",
    "    url = get_base_url('living-room',category)\n",
    "    image_urls += get_image_urls(url)\n",
    "\n",
    "\n",
    "for category in kitchen_categories:\n",
    "    url = get_base_url('kitchen-and-dining-room',category)\n",
    "    image_urls += get_image_urls(url)\n",
    "\n",
    "for category in home_office_categories:\n",
    "    url = get_base_url('home-office',category)\n",
    "    image_urls += get_image_urls(url)\n",
    "    \n",
    "for category in entryway_categories:\n",
    "    url = get_base_url('entryway',category)\n",
    "    image_urls += get_image_urls(url)\n",
    "    \n",
    "for category in bedroom_categories:\n",
    "    url = get_base_url('bedroom',category)\n",
    "    image_urls += get_image_urls(url)   \n",
    "\n",
    "#Also grab lighting image urls\n",
    "url = 'https://www.ashleyfurniturehomestore.com/c/lighting/'\n",
    "image_urls += get_image_urls(url)"
   ]
  },
  {
   "cell_type": "markdown",
   "metadata": {},
   "source": [
    "# Other Targets"
   ]
  },
  {
   "cell_type": "code",
   "execution_count": null,
   "metadata": {
    "collapsed": true
   },
   "outputs": [],
   "source": [
    "https://www.furniture.com/dining-room/tables"
   ]
  },
  {
   "cell_type": "code",
   "execution_count": null,
   "metadata": {
    "collapsed": true
   },
   "outputs": [],
   "source": [
    "https://www.overstock.com/Home-Garden/Living-Room-Furniture/Sofa,/type,/713/cat.html?index=61&count=60"
   ]
  },
  {
   "cell_type": "code",
   "execution_count": null,
   "metadata": {
    "collapsed": true
   },
   "outputs": [],
   "source": [
    "https://www.amazon.com/b?node=3733261&ref=vs_f_bedroom_tl_dressers&pf_rd_r=2BV0QMNSNJKY4DXHKZS8&pf_rd_m=ATVPDKIKX0DER&pf_rd_t=Landing&pf_rd_i=1063308&pf_rd_p=0a237e72-c652-40eb-a5c5-14ec72e55a96&pf_rd_s=merchandised-search-grid-t1-r2-c1"
   ]
  },
  {
   "cell_type": "markdown",
   "metadata": {},
   "source": [
    "# For amateur images"
   ]
  },
  {
   "cell_type": "code",
   "execution_count": null,
   "metadata": {
    "collapsed": true
   },
   "outputs": [],
   "source": [
    "#Use Unedited-non front page AptDeco listings, or Craiglists\n",
    "https://newyork.craigslist.org/search/fua"
   ]
  },
  {
   "cell_type": "markdown",
   "metadata": {},
   "source": [
    "# Hayneedle (seems hard to do)"
   ]
  },
  {
   "cell_type": "code",
   "execution_count": null,
   "metadata": {
    "collapsed": true
   },
   "outputs": [],
   "source": [
    "# Have to get number of results, to determine how many pages to scan\n",
    "\n",
    "url='http://www.hayneedle.com/furniture/sofas-&-loveseats_narrow-by-sofas_list_188363_16937?categoryId=188363&selectedFacets=139%7C16937~28209~16935~%5E&page=1&sortBy=preferred:desc&checkCache=true&pageType=PRODUCT_CATEGORY&view=48'\n",
    "req=urllib.request.Request(url,data=None,headers={'User-Agent':'Mozilla/5.0 (Mozilla/5.0 (Macintosh; U; Intel Mac OS X 10.5; en-US; rv:1.9.0.5)'})\n",
    "cj = CookieJar()\n",
    "opener = urllib.request.build_opener(urllib.request.HTTPCookieProcessor(cj))\n",
    "opener.addheaders = [('User-Agent', 'Mozilla/5.0 (Mozilla/5.0 (Macintosh; U; Intel Mac OS X 10.5; en-US; rv:1.9.0.5)')]\n",
    "opener.addheaders =[('Accept','text/html,application/xhtml+xml,application/xml;q=0.9,*/*;q=0.8')]\n",
    "response = opener.open(req)\n",
    "html = response.read().decode('utf8', errors='ignore')\n",
    "response.close()\n",
    "\n",
    "soup = BeautifulSoup(html,\"lxml\")\n",
    "\n",
    "image_urls = ['images.hayneedle.com/mgen/' + img for img in re.findall(r'\"masterImage\":{\"type\":\"MASTER\",\"url\":\"\\\\/\\\\/images.hayneedle.com\\\\/mgen\\\\/(.*?)\"',str(soup))]"
   ]
  },
  {
   "cell_type": "code",
   "execution_count": null,
   "metadata": {
    "collapsed": false
   },
   "outputs": [],
   "source": [
    "html"
   ]
  },
  {
   "cell_type": "code",
   "execution_count": null,
   "metadata": {
    "collapsed": false
   },
   "outputs": [],
   "source": [
    "soup"
   ]
  },
  {
   "cell_type": "code",
   "execution_count": null,
   "metadata": {
    "collapsed": true
   },
   "outputs": [],
   "source": []
  },
  {
   "cell_type": "code",
   "execution_count": null,
   "metadata": {
    "collapsed": false
   },
   "outputs": [],
   "source": [
    "len(image_urls)"
   ]
  },
  {
   "cell_type": "code",
   "execution_count": null,
   "metadata": {
    "collapsed": true
   },
   "outputs": [],
   "source": [
    "\n",
    "for category in living_room_categories:\n",
    "    url = 'https://www.ashleyfurniturehomestore.com/c/furniture/living-room/%s/' % category\n",
    "    soup = get_image_urls(url)\n",
    "    image_urls += re.findall(r'\"rollOver\":{\"html\":null,\"src\":\"(.*?)\"',str(soup))\n",
    "\n",
    "    "
   ]
  }
 ],
 "metadata": {
  "kernelspec": {
   "display_name": "Python 3",
   "language": "python",
   "name": "python3"
  },
  "language_info": {
   "codemirror_mode": {
    "name": "ipython",
    "version": 3
   },
   "file_extension": ".py",
   "mimetype": "text/x-python",
   "name": "python",
   "nbconvert_exporter": "python",
   "pygments_lexer": "ipython3",
   "version": "3.5.1"
  }
 },
 "nbformat": 4,
 "nbformat_minor": 0
}
