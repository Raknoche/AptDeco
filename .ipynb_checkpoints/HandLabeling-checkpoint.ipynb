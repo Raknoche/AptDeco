{
 "cells": [
  {
   "cell_type": "code",
   "execution_count": 1,
   "metadata": {
    "collapsed": false
   },
   "outputs": [
    {
     "name": "stderr",
     "output_type": "stream",
     "text": [
      "/Users/richardknoche/anaconda/lib/python3.5/site-packages/matplotlib/__init__.py:1035: UserWarning: Duplicate key in file \"/Users/richardknoche/.matplotlib/matplotlibrc\", line #2\n",
      "  (fname, cnt))\n"
     ]
    }
   ],
   "source": [
    "import pandas as pd\n",
    "from sqlalchemy import create_engine\n",
    "from matplotlib import pyplot as plt\n",
    "import numpy as np\n",
    "import numpy as np\n",
    "import urllib\n",
    "import cv2\n",
    "from ImageFeatures import *\n",
    "%matplotlib inline\n",
    "from IPython import display\n",
    "\n",
    "\n",
    "\n",
    "#Hand labeling images\n",
    "main_images=pd.read_csv('AllImages.csv')\n",
    "main_images.drop('Unnamed: 0',axis=1,inplace=True)\n",
    "#len(main_images.dropna())"
   ]
  },
  {
   "cell_type": "code",
   "execution_count": null,
   "metadata": {
    "collapsed": false
   },
   "outputs": [],
   "source": [
    "#Randomize, so I don't think about images within a listing\n",
    "main_images=main_images.sample(frac=1)"
   ]
  },
  {
   "cell_type": "code",
   "execution_count": null,
   "metadata": {
    "collapsed": false
   },
   "outputs": [],
   "source": [
    "#1 Star: Can't tell what the furniture is\n",
    "#2 Star: Can tell what it is, but shouldn't be front page\n",
    "#3 Star: Could be on front page\n",
    "#4 Star: Edited image\n",
    "\n",
    "ones=1\n",
    "twos=1\n",
    "threes=1\n",
    "fours=1\n",
    "for idx in range(0,len(main_images)):\n",
    "        image = url_to_image(main_images.iloc[idx]['path'])\n",
    "        \n",
    "        fig = plt.figure()\n",
    "        plt.imshow(cv2.cvtColor(image, cv2.COLOR_BGR2RGB))\n",
    "        display.display(fig)\n",
    "        rating = input()\n",
    "        main_images.loc[main_images.index[idx],'Rating']= rating\n",
    "        \n",
    "        if rating == 1:\n",
    "            cv2.imwrite('/Users/richardknoche/Python Code/AptDeco/data/one/One_%05d.jpg' % (ones),image)\n",
    "            ones+=1\n",
    "        if rating == 2:\n",
    "            cv2.imwrite('/Users/richardknoche/Python Code/AptDeco/data/two/Two_%05d.jpg' % (twos),image)\n",
    "            twos+=1            \n",
    "        if rating == 3:\n",
    "            cv2.imwrite('/Users/richardknoche/Python Code/AptDeco/data/three/Three_%05d.jpg' % (threes),image)\n",
    "            threes+=1\n",
    "        if rating == 4:\n",
    "            cv2.imwrite('/Users/richardknoche/Python Code/AptDeco/data/four/Four_%05d.jpg' % (fours),image)\n",
    "            fours+=1\n",
    "            \n",
    "        if idx % 200 ==0:\n",
    "            main_images.to_csv('AllImages_ManuallyLabeled.csv')"
   ]
  },
  {
   "cell_type": "code",
   "execution_count": null,
   "metadata": {
    "collapsed": true
   },
   "outputs": [],
   "source": []
  }
 ],
 "metadata": {
  "kernelspec": {
   "display_name": "Python 3",
   "language": "python",
   "name": "python3"
  },
  "language_info": {
   "codemirror_mode": {
    "name": "ipython",
    "version": 3
   },
   "file_extension": ".py",
   "mimetype": "text/x-python",
   "name": "python",
   "nbconvert_exporter": "python",
   "pygments_lexer": "ipython3",
   "version": "3.5.1"
  }
 },
 "nbformat": 4,
 "nbformat_minor": 0
}
