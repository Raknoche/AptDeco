{
 "cells": [
  {
   "cell_type": "code",
   "execution_count": 1,
   "metadata": {
    "collapsed": false
   },
   "outputs": [
    {
     "name": "stderr",
     "output_type": "stream",
     "text": [
      "/Users/richardknoche/anaconda/lib/python3.5/site-packages/matplotlib/__init__.py:1035: UserWarning: Duplicate key in file \"/Users/richardknoche/.matplotlib/matplotlibrc\", line #2\n",
      "  (fname, cnt))\n"
     ]
    }
   ],
   "source": [
    "import argparse\n",
    "import cv2\n",
    "import numpy as np\n",
    "from matplotlib import pyplot as plt\n",
    "import pycircstat.descriptive as circstat\n",
    "%matplotlib inline"
   ]
  },
  {
   "cell_type": "code",
   "execution_count": 2,
   "metadata": {
    "collapsed": false
   },
   "outputs": [
    {
     "data": {
      "text/plain": [
       "<matplotlib.image.AxesImage at 0x10fbca748>"
      ]
     },
     "execution_count": 2,
     "metadata": {},
     "output_type": "execute_result"
    },
    {
     "data": {
      "image/png": "[encoded data removed]",
      "text/plain": [
       "<matplotlib.figure.Figure at 0x11b1f80f0>"
      ]
     },
     "metadata": {},
     "output_type": "display_data"
    }
   ],
   "source": [
    "#Using HSV image format\n",
    "image = cv2.imread('/Users/richardknoche/Desktop/TestImages/Blur/Sharp/Couch3.jpg')\n",
    "I_hsv = cv2.cvtColor(image,cv2.COLOR_RGB2HSV)\n",
    "I_v = I_hsv[:,:,2]\n",
    "I_g = cv2.cvtColor(image,cv2.COLOR_RGB2GRAY)\n",
    "I_h = I_hsv[:,:,0]\n",
    "I_s = I_hsv[:,:,1]\n",
    "\n",
    "#Get number of row and columns\n",
    "nrows = image.shape[0]\n",
    "ncols = image.shape[1]\n",
    "\n",
    "#Get 1/3rd and 2/3rd row and columns\n",
    "first_thrd_rows = np.int(np.floor(nrows*1.0/3.0))\n",
    "second_thrd_rows = np.int(np.floor(nrows*2.0/3.0))\n",
    "first_thrd_cols = np.int(np.floor(ncols*1.0/3.0))\n",
    "second_thrd_cols = np.int(np.floor(ncols*2.0/3.0))\n",
    "\n",
    "#Define areas that are \"close\" to 1/3rd lines\n",
    "margin = 20.0\n",
    "above_first_thrd_rows = np.int(first_thrd_rows - np.floor(nrows/margin))\n",
    "below_first_thrd_rows = np.int(first_thrd_rows + np.floor(nrows/margin))\n",
    "\n",
    "above_second_thrd_rows = np.int(second_thrd_rows - np.floor(nrows/margin)) #_i\n",
    "below_second_thrd_rows = np.int(second_thrd_rows + np.floor(nrows/margin)) #_o\n",
    "\n",
    "left_first_thrd_cols = np.int(first_thrd_cols - np.floor(ncols/margin))\n",
    "right_first_thrd_cols = np.int(first_thrd_cols + np.floor(ncols/margin))\n",
    "\n",
    "left_second_thrd_cols = np.int(second_thrd_cols - np.floor(ncols/margin))\n",
    "right_second_thrd_cols = np.int(second_thrd_cols + np.floor(ncols/margin))\n",
    "\n",
    "#Build mask of where center of thirds are\n",
    "thrds_mask = np.zeros_like(I_h)\n",
    "thrds_mask[above_first_thrd_rows:below_second_thrd_rows,left_first_thrd_cols:right_second_thrd_cols] = 1\n",
    "thrds_mask[below_first_thrd_rows:above_second_thrd_rows,right_first_thrd_cols:left_second_thrd_cols] = 0\n",
    "\n",
    "#Apply mask\n",
    "test =np.zeros_like(I_h)\n",
    "test += thrds_mask * I_h\n",
    "\n",
    "import itertools\n",
    "t_rows = [first_thrd_rows,second_thrd_rows]\n",
    "t_cols = [first_thrd_cols,second_thrd_cols]\n",
    "thrds_coords = list(itertools.product(t_rows, t_cols))\n",
    "\n",
    "colors=['r','g','m','w']\n",
    "for (idx,points) in enumerate(thrds_coords):\n",
    "    plt.scatter(points[1],points[0],color=colors[idx],marker='+',s=200)\n",
    "\n",
    "plt.imshow(test)"
   ]
  },
  {
   "cell_type": "code",
   "execution_count": 3,
   "metadata": {
    "collapsed": false
   },
   "outputs": [],
   "source": [
    "#Note:  When calculating mean of Hue, we have to use circular stats (since mean of 359 and 1 should be zero)\n",
    "#Mean of an angle on a circle is arg(sum(exp^(i*theta)))\n",
    "import os\n",
    "import sys\n",
    "module_path = os.path.abspath(os.path.join('../..'))\n",
    "if module_path not in sys.path:\n",
    "    sys.path.append(module_path)\n",
    "\n",
    "import pySaliencyMap as SMap\n",
    "import cmath\n",
    "sm = SMap.pySaliencyMap(image.shape[1], image.shape[0])\n",
    "saliencymap    = sm.SMGetSM(image)\n",
    "\n",
    "thrds_hue     = cmath.phase(np.exp((I_h[thrds_mask==1]*np.pi/180)*1j).sum())*(180/np.pi)\n",
    "thrds_sat      = np.mean(I_s[first_thrd_rows:second_thrd_rows,first_thrd_cols:second_thrd_cols]/255.0)                         \n",
    "thrds_value    = np.mean(I_v[first_thrd_rows:second_thrd_rows,first_thrd_cols:second_thrd_cols]/255.0)                         \n",
    "thrds_saliency = np.sum(saliencymap[thrds_mask==1])/np.sum(thrds_mask)"
   ]
  },
  {
   "cell_type": "markdown",
   "metadata": {},
   "source": [
    "# Rule of thirds symmetry"
   ]
  },
  {
   "cell_type": "code",
   "execution_count": 4,
   "metadata": {
    "collapsed": false
   },
   "outputs": [],
   "source": [
    "#From https://pdfs.semanticscholar.org/42b5/33621f2defe97cb6894eefbb6126ce1f2691.pdf\n",
    "def CalcMaskedSymmetry(src,mask):\n",
    "    a = src.astype(\"float\")\n",
    "    b1 = src[::-1,:].astype(\"float\") #Flip upsidedown\n",
    "    b2 = src[:,::-1].astype(\"float\") #Flip left/right\n",
    "\n",
    "    #Calculate symmetry by multplying mirrored images\n",
    "    fs = (a + b2)/2\n",
    "    fa = (a - b2)/2\n",
    "    Sym_Horizontal_Value = (fs[mask==1]**2).sum()/((fs[mask==1]**2).sum() + (fa[mask==1]**2).sum())\n",
    "\n",
    "    fs = (a + b1)/2\n",
    "    fa = (a - b1)/2\n",
    "    Sym_Vertical_Value = (fs[mask==1]**2).sum()/( (fs[mask==1]**2).sum() + (fa[mask==1]**2).sum())\n",
    "\n",
    "    #Instead of 0.5-1, scale from 0-1\n",
    "    Sym_Horizontal_Value=Sym_Horizontal_Value*2 - 1\n",
    "    Sym_Vertical_Value=Sym_Vertical_Value*2 - 1\n",
    "\n",
    "    return(Sym_Horizontal_Value,Sym_Vertical_Value)\n",
    "\n",
    "Sym_Horizontal_Hue_Thrds,Sym_Vertical_Hue_Thrds = CalcMaskedSymmetry(I_h,thrds_mask)\n",
    "Sym_Horizontal_Saturation_Thrds,Sym_Vertical_Saturation_Thrds = CalcMaskedSymmetry(I_s,thrds_mask)\n",
    "Sym_Horizontal_Value_Thrds,Sym_Vertical_Value_Thrds = CalcMaskedSymmetry(I_v,thrds_mask)\n",
    "Sym_Horizontal_Saliency_Thrds,Sym_Vertical_Saliency_Thrds = CalcMaskedSymmetry(saliencymap,thrds_mask)"
   ]
  },
  {
   "cell_type": "markdown",
   "metadata": {},
   "source": [
    "# How close is the maximum saliency point to the location of thirds"
   ]
  },
  {
   "cell_type": "code",
   "execution_count": 5,
   "metadata": {
    "collapsed": false
   },
   "outputs": [
    {
     "data": {
      "text/plain": [
       "<matplotlib.collections.PathCollection at 0x11f2b9780>"
      ]
     },
     "execution_count": 5,
     "metadata": {},
     "output_type": "execute_result"
    },
    {
     "data": {
      "image/png": "[encoded data removed]",
      "text/plain": [
       "<matplotlib.figure.Figure at 0x122c29ef0>"
      ]
     },
     "metadata": {},
     "output_type": "display_data"
    }
   ],
   "source": [
    "test =np.zeros_like(saliencymap)\n",
    "test += thrds_mask * saliencymap\n",
    "(maxs_y,maxs_x) = np.where(saliencymap == np.max(saliencymap))\n",
    "plt.imshow(test,cmap='gray')\n",
    "plt.scatter(maxs_x,maxs_y)"
   ]
  },
  {
   "cell_type": "code",
   "execution_count": null,
   "metadata": {
    "collapsed": true
   },
   "outputs": [],
   "source": []
  }
 ],
 "metadata": {
  "kernelspec": {
   "display_name": "Python 3",
   "language": "python",
   "name": "python3"
  },
  "language_info": {
   "codemirror_mode": {
    "name": "ipython",
    "version": 3
   },
   "file_extension": ".py",
   "mimetype": "text/x-python",
   "name": "python",
   "nbconvert_exporter": "python",
   "pygments_lexer": "ipython3",
   "version": "3.5.1"
  }
 },
 "nbformat": 4,
 "nbformat_minor": 0
}
