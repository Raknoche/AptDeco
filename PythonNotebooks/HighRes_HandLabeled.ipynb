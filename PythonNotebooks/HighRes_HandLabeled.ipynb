{
 "cells": [
  {
   "cell_type": "markdown",
   "metadata": {},
   "source": [
    "This notebook was used to hand label images as high quality or low quality."
   ]
  },
  {
   "cell_type": "code",
   "execution_count": null,
   "metadata": {
    "collapsed": false
   },
   "outputs": [],
   "source": [
    "import os\n",
    "import sys\n",
    "module_path = os.path.abspath(os.path.join('..'))\n",
    "if module_path not in sys.path:\n",
    "    sys.path.append(module_path)\n",
    "\n",
    "\n",
    "import pandas as pd\n",
    "from sqlalchemy import create_engine\n",
    "from matplotlib import pyplot as plt\n",
    "import numpy as np\n",
    "import numpy as np\n",
    "import urllib\n",
    "import cv2\n",
    "from ImageFeatures import *\n",
    "%matplotlib inline\n",
    "from IPython import display\n",
    "import pickle\n",
    "\n",
    "#Hand labeling images\n",
    "main_images=pd.read_csv('base_df.csv')\n",
    "main_images.drop('Unnamed: 0',axis=1,inplace=True)"
   ]
  },
  {
   "cell_type": "code",
   "execution_count": null,
   "metadata": {
    "collapsed": false
   },
   "outputs": [],
   "source": [
    "## 1 Star: Can't tell what the furniture is\n",
    "#2 Star: Furniture, but dark/blurry/out of frame/cant tell what is being sold\n",
    "#3 Star: Could be on front page\n",
    "#4 Star: Edited image \n",
    "\n",
    "for idx in range(0,len(main_images)):\n",
    "    try:\n",
    "        image = UrlToImage(main_images.iloc[idx]['path'])\n",
    "        image = CropImage(image)\n",
    "\n",
    "        fig = plt.figure()\n",
    "        plt.imshow(cv2.cvtColor(image, cv2.COLOR_BGR2RGB))\n",
    "        display.display(fig)\n",
    "        rating = input()\n",
    "        main_images.loc[main_images.index[idx],'Rating']= rating\n",
    "\n",
    "        if rating == '1':\n",
    "            cv2.imwrite('/Users/richardknoche/Python Code/AptDeco/data/one/One_%05d.jpg' % (ones),image)\n",
    "            ones+=1\n",
    "        if rating == '2':\n",
    "            cv2.imwrite('/Users/richardknoche/Python Code/AptDeco/data/two/Two_%05d.jpg' % (twos),image)\n",
    "            twos+=1            \n",
    "        if rating == '3':\n",
    "            cv2.imwrite('/Users/richardknoche/Python Code/AptDeco/data/three/Three_%05d.jpg' % (threes),image)\n",
    "            threes+=1\n",
    "        if rating == '4':\n",
    "            cv2.imwrite('/Users/richardknoche/Python Code/AptDeco/data/four/Four_%05d.jpg' % (fours),image)\n",
    "            fours+=1\n",
    "\n",
    "        if idx % 100 ==0:\n",
    "            main_images.to_csv('HighRes_ManuallyLabeled.csv')\n",
    "            with open('image_numbers.pkl', 'wb') as f:\n",
    "                pickle.dump([ones,twos,threes,fours], f)\n",
    "    except: \n",
    "        print('problem getting url')\n",
    "        break"
   ]
  },
  {
   "cell_type": "code",
   "execution_count": null,
   "metadata": {
    "collapsed": true
   },
   "outputs": [],
   "source": []
  }
 ],
 "metadata": {
  "kernelspec": {
   "display_name": "Python 3",
   "language": "python",
   "name": "python3"
  },
  "language_info": {
   "codemirror_mode": {
    "name": "ipython",
    "version": 3
   },
   "file_extension": ".py",
   "mimetype": "text/x-python",
   "name": "python",
   "nbconvert_exporter": "python",
   "pygments_lexer": "ipython3",
   "version": "3.5.1"
  }
 },
 "nbformat": 4,
 "nbformat_minor": 0
}
