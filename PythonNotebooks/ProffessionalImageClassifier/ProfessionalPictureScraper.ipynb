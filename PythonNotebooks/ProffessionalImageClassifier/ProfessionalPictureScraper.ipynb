{
 "cells": [
  {
   "cell_type": "markdown",
   "metadata": {},
   "source": [
    "This notebook was used to scrape professional furniture listing images in an attempt to\n",
    "circumvent hand labeling AptDeco images as high or low quality."
   ]
  },
  {
   "cell_type": "code",
   "execution_count": null,
   "metadata": {
    "collapsed": false
   },
   "outputs": [],
   "source": [
    "import pymysql as mdb\n",
    "import sys\n",
    "from bs4 import BeautifulSoup # For HTML parsing\n",
    "import urllib # Website connections\n",
    "import re # Regular expressions\n",
    "from time import sleep # To prevent overwhelming the server between connections\n",
    "from collections import Counter # Keep track of our term counts\n",
    "from nltk.corpus import stopwords # Filter out stopwords, such as 'the', 'or', 'and'\n",
    "import pandas as pd # For converting results to a dataframe and bar chart plots\n",
    "import math\n",
    "from string import digits\n",
    "from functools import reduce\n",
    "import time\n",
    "import collections\n",
    "from http.cookiejar import CookieJar\n",
    "import ssl\n",
    "from ImageFeatures import *\n"
   ]
  },
  {
   "cell_type": "markdown",
   "metadata": {},
   "source": [
    "# Ashley Furniture"
   ]
  },
  {
   "cell_type": "code",
   "execution_count": null,
   "metadata": {
    "collapsed": false
   },
   "outputs": [],
   "source": [
    "def get_image_urls(website):\n",
    "    req=urllib.request.Request(website,data=None,headers={'User-Agent':'Mozilla/5.0 (Mozilla/5.0 (Macintosh; U; Intel Mac OS X 10.5; en-US; rv:1.9.0.5)'})\n",
    "    cj = CookieJar()\n",
    "    opener = urllib.request.build_opener(urllib.request.HTTPCookieProcessor(cj))\n",
    "    opener.addheaders = [('User-Agent', 'Mozilla/5.0 (Mozilla/5.0 (Macintosh; U; Intel Mac OS X 10.5; en-US; rv:1.9.0.5)')]\n",
    "    opener.addheaders =[('Accept','text/html,application/xhtml+xml,application/xml;q=0.9,*/*;q=0.8')]\n",
    "    response = opener.open(req)\n",
    "    html = response.read().decode('utf8', errors='ignore')\n",
    "    response.close()\n",
    "    \n",
    "    soup = BeautifulSoup(html,\"lxml\")\n",
    "       \n",
    "    return re.findall(r'\"rollOver\":{\"html\":null,\"src\":\"(.*?)\"',str(soup))\n",
    "\n",
    "def get_base_url(base_category,sub_category):\n",
    "    return 'https://www.ashleyfurniturehomestore.com/c/furniture/%s/%s/' % (base_category,sub_category)"
   ]
  },
  {
   "cell_type": "code",
   "execution_count": null,
   "metadata": {
    "collapsed": false
   },
   "outputs": [],
   "source": [
    "#BREAK IT DOWN LIKE THIS TO KEEP TRACK OF FURNITURE TYPE\n",
    "\n",
    "living_room_categories = ['sofas','sectional-sofas','loveseats','living-room-chairs','recliners',\\\n",
    "                         'sleeper-sofas','power-sofas-loveseats-and-recliners','occasional-tables',\\\n",
    "                         'coffee-tables','end-and-side-tables','console-tables','tv-stands-and-media-centers',\n",
    "                         'ottomans']\n",
    "\n",
    "kitchen_categories = ['dining-room-tables','chairs','bar-stools','dining-room-sets']\n",
    "\n",
    "home_office_categories =[''] #listing under one page\n",
    "\n",
    "entryway_categories = ['']\n",
    "\n",
    "bedroom_categories = ['']\n",
    "\n",
    "image_urls=[]\n",
    "\n",
    "all_types =[]\n",
    "\n",
    "for category in living_room_categories:\n",
    "    url = get_base_url('living-room',category)\n",
    "    image_paths = get_image_urls(url)   \n",
    "    image_urls += image_paths  \n",
    "    all_types += ['living-room']*len(image_paths)\n",
    "\n",
    "    \n",
    "for category in kitchen_categories:\n",
    "    url = get_base_url('kitchen-and-dining-room',category)\n",
    "    image_paths = get_image_urls(url)   \n",
    "    image_urls += image_paths  \n",
    "    all_types += ['dining-room']*len(image_paths)\n",
    "\n",
    "\n",
    "for category in home_office_categories:\n",
    "    url = get_base_url('home-office',category)\n",
    "    image_paths = get_image_urls(url)   \n",
    "    image_urls += image_paths  \n",
    "    all_types += ['home-office']*len(image_paths)\n",
    "\n",
    "    \n",
    "for category in entryway_categories:\n",
    "    url = get_base_url('entryway',category)\n",
    "    image_paths = get_image_urls(url)   \n",
    "    image_urls += image_paths  \n",
    "    all_types += ['entryway']*len(image_paths)\n",
    " \n",
    "  \n",
    "for category in bedroom_categories:\n",
    "    url = get_base_url('bedroom',category)\n",
    "    image_paths = get_image_urls(url)   \n",
    "    image_urls += image_paths  \n",
    "    all_types += ['bedroom']*len(image_paths)\n",
    "  \n",
    "    \n",
    "#Also grab lighting image urls\n",
    "url = 'https://www.ashleyfurniturehomestore.com/c/lighting/'\n",
    "image_paths = get_image_urls(url)   \n",
    "image_urls += image_paths  \n",
    "all_types += ['lighting']*len(image_paths)\n",
    "  "
   ]
  },
  {
   "cell_type": "code",
   "execution_count": null,
   "metadata": {
    "collapsed": true
   },
   "outputs": [],
   "source": [
    "#Scrape it all at once\n",
    "#furniture_urls = get_image_urls('https://www.ashleyfurniturehomestore.com/c/furniture/?pg=190')\n",
    "#lighting_urls = get_image_urls('https://www.ashleyfurniturehomestore.com/c/lighting/?pg=100')\n",
    "#full_cat_urls = get_image_urls('https://www.ashleyfurniturehomestore.com/c/?pg=900')"
   ]
  },
  {
   "cell_type": "code",
   "execution_count": null,
   "metadata": {
    "collapsed": false
   },
   "outputs": [],
   "source": [
    "df = pd.DataFrame(image_urls,columns=['path'])\n",
    "df['source']='Ashley'\n",
    "df['type'] = all_types\n",
    "df.head()\n",
    "df.to_csv('ProfessionalImages.csv')"
   ]
  },
  {
   "cell_type": "code",
   "execution_count": null,
   "metadata": {
    "collapsed": false
   },
   "outputs": [],
   "source": [
    "df.head()"
   ]
  },
  {
   "cell_type": "markdown",
   "metadata": {},
   "source": [
    "# Furniture.com"
   ]
  },
  {
   "cell_type": "code",
   "execution_count": null,
   "metadata": {
    "collapsed": true
   },
   "outputs": [],
   "source": [
    "df = pd.read_csv('ProfessionalImages.csv')\n",
    "df.drop('Unnamed: 0',axis=1,inplace=True)"
   ]
  },
  {
   "cell_type": "code",
   "execution_count": null,
   "metadata": {
    "collapsed": false
   },
   "outputs": [],
   "source": [
    "df.tail()"
   ]
  },
  {
   "cell_type": "code",
   "execution_count": null,
   "metadata": {
    "collapsed": true
   },
   "outputs": [],
   "source": [
    "def get_image_urls(website):\n",
    "    req=urllib.request.Request(website,data=None,headers={'User-Agent':'Mozilla/5.0 (Mozilla/5.0 (Macintosh; U; Intel Mac OS X 10.5; en-US; rv:1.9.0.5)'})\n",
    "    cj = CookieJar()\n",
    "    opener = urllib.request.build_opener(urllib.request.HTTPCookieProcessor(cj))\n",
    "    opener.addheaders = [('User-Agent', 'Mozilla/5.0 (Mozilla/5.0 (Macintosh; U; Intel Mac OS X 10.5; en-US; rv:1.9.0.5)')]\n",
    "    opener.addheaders =[('Accept','text/html,application/xhtml+xml,application/xml;q=0.9,*/*;q=0.8')]\n",
    "    response = opener.open(req)\n",
    "    html = response.read().decode('utf8', errors='ignore')\n",
    "    response.close()\n",
    "    \n",
    "    soup = BeautifulSoup(html,\"lxml\")\n",
    "       \n",
    "    return re.findall(r'\"rollOver\":{\"html\":null,\"src\":\"(.*?)\"',str(soup))\n",
    "\n",
    "urls = ['https://www.furniture.com/living-room/seating/sofas',\n",
    "        'https://www.furniture.com/living-room/seating/chairs',\n",
    "        'https://www.furniture.com/living-room/seating/loveseats',\n",
    "        'https://www.furniture.com/living-room/tables',\n",
    "        'https://www.furniture.com/living-room/seating/ottomans',\n",
    "        'https://www.furniture.com/living-room/seating/sleeper-sofas',\n",
    "        'https://www.furniture.com/living-room/seating/sectionals',\n",
    "        'https://www.furniture.com/living-room/seating/recliners',\n",
    "        'https://www.furniture.com/dining-room/sets',\n",
    "        'https://www.furniture.com/dining-room/tables',\n",
    "        'https://www.furniture.com/dining-room/chairs',\n",
    "        'https://www.furniture.com/dining-room/bar-stools',\n",
    "        'https://www.furniture.com/dining-room/china-cabinets-and-curios',\n",
    "        'https://www.furniture.com/dining-room/buffets-and-sideboards',\n",
    "        'https://www.furniture.com/dining-room/benches',\n",
    "        'https://www.furniture.com/bedroom/beds/king',\n",
    "        'https://www.furniture.com/bedroom/beds/queen',\n",
    "        'https://www.furniture.com/kids/beds/full',\n",
    "        'https://www.furniture.com/kids/beds/twin',\n",
    "        'https://www.furniture.com/living-room/seating/futons',\n",
    "        'https://www.furniture.com/bedroom/beds/daybeds',\n",
    "        'https://www.furniture.com/bedroom/dressers',\n",
    "        'https://www.furniture.com/bedroom/chests',\n",
    "        'https://www.furniture.com/bedroom/nightstands',\n",
    "        'https://www.furniture.com/rugs',\n",
    "        'https://www.furniture.com/home-decor/storage-benches']\n",
    "\n",
    "all_paths = []\n",
    "all_types = []\n",
    "for main in urls:\n",
    "    website=main\n",
    "    category = main.split('/')[3]\n",
    "    \n",
    "    req=urllib.request.Request(website,data=None,headers={'User-Agent':'Mozilla/5.0 (Mozilla/5.0 (Macintosh; U; Intel Mac OS X 10.5; en-US; rv:1.9.0.5)'})\n",
    "    cj = CookieJar()\n",
    "    opener = urllib.request.build_opener(urllib.request.HTTPCookieProcessor(cj))\n",
    "    opener.addheaders = [('User-Agent', 'Mozilla/5.0 (Mozilla/5.0 (Macintosh; U; Intel Mac OS X 10.5; en-US; rv:1.9.0.5)')]\n",
    "    opener.addheaders =[('Accept','text/html,application/xhtml+xml,application/xml;q=0.9,*/*;q=0.8')]\n",
    "    response = opener.open(req)\n",
    "    html = response.read().decode('utf8', errors='ignore')\n",
    "    response.close()\n",
    "    \n",
    "    paths = re.findall(r'<img itemprop=\"image\" data-src=\"//images.furniture.com(.*?)\"',str(html))\n",
    "    paths = ['images.furniture.com' + path for path in paths]\n",
    "    all_paths += paths\n",
    "    all_types += [category]*len(paths)\n"
   ]
  },
  {
   "cell_type": "code",
   "execution_count": null,
   "metadata": {
    "collapsed": false
   },
   "outputs": [],
   "source": [
    "temp_df = pd.DataFrame(all_paths,columns=['path'])\n",
    "temp_df['type'] = all_types\n",
    "temp_df['source'] = 'Furniture.com'\n",
    "temp_df.head()\n",
    "#df = df.append([df,temp_df])"
   ]
  },
  {
   "cell_type": "code",
   "execution_count": null,
   "metadata": {
    "collapsed": false
   },
   "outputs": [],
   "source": [
    "df = pd.concat([df,temp_df]).reset_index(drop=True)"
   ]
  },
  {
   "cell_type": "code",
   "execution_count": null,
   "metadata": {
    "collapsed": true
   },
   "outputs": [],
   "source": [
    "df.to_csv('ProfessionalImages.csv')"
   ]
  },
  {
   "cell_type": "markdown",
   "metadata": {},
   "source": [
    "# Overstock.com"
   ]
  },
  {
   "cell_type": "code",
   "execution_count": null,
   "metadata": {
    "collapsed": true
   },
   "outputs": [],
   "source": [
    "def get_image_urls(website):\n",
    "    req=urllib.request.Request(website,data=None,headers={'User-Agent':'Mozilla/5.0 (Mozilla/5.0 (Macintosh; U; Intel Mac OS X 10.5; en-US; rv:1.9.0.5)'})\n",
    "    cj = CookieJar()\n",
    "    opener = urllib.request.build_opener(urllib.request.HTTPCookieProcessor(cj))\n",
    "    opener.addheaders = [('User-Agent', 'Mozilla/5.0 (Mozilla/5.0 (Macintosh; U; Intel Mac OS X 10.5; en-US; rv:1.9.0.5)')]\n",
    "    opener.addheaders =[('Accept','text/html,application/xhtml+xml,application/xml;q=0.9,*/*;q=0.8')]\n",
    "    response = opener.open(req)\n",
    "    html = response.read().decode('utf8', errors='ignore')\n",
    "    response.close()\n",
    "\n",
    "    paths= re.findall(r'src=\"https://ak1.ostkcdn.com(.*?)\" class=\"img-responsive product-img\"',str(html))\n",
    "    paths = ['https://ak1.ostkcdn.com' + path for path in paths]\n",
    "    return paths\n",
    "\n"
   ]
  },
  {
   "cell_type": "code",
   "execution_count": null,
   "metadata": {
    "collapsed": false
   },
   "outputs": [],
   "source": [
    "import numpy as np\n",
    "all_paths = []\n",
    "all_types = []\n",
    "\n",
    "#Has 30k living room items\n",
    "num_images = 10000\n",
    "num_pages = int(np.floor(num_images/60))\n",
    "for i in range(0,num_pages-1):\n",
    "    website = 'https://www.overstock.com/Home-Garden/Living-Room-Furniture/713/cat.html?index=%d&count=60' % (1+60*i)\n",
    "    paths = get_image_urls(website)\n",
    "    all_paths += paths\n",
    "    all_types += ['living-room']*60\n",
    "    \n",
    "#18k dining room\n",
    "num_images = 10000\n",
    "num_pages = int(np.floor(num_images/60))\n",
    "for i in range(0,num_pages-1):\n",
    "    website = 'https://www.overstock.com/Home-Garden/Dining-Room-Bar-Furniture/711/cat.html?index=%d&count=60' % (1+60*i)\n",
    "    paths = get_image_urls(website)\n",
    "    all_paths += paths\n",
    "    all_types += ['dining-room']*60\n",
    "       \n",
    "#16k bedroom\n",
    "num_images = 10000\n",
    "num_pages = int(np.floor(num_images/60))\n",
    "for i in range(0,num_pages-1):\n",
    "    website = 'https://www.overstock.com/Home-Garden/Bedroom-Furniture/710/cat.html?index=%d&count=60' % (1+60*i)\n",
    "    paths = get_image_urls(website)\n",
    "    all_paths += paths\n",
    "    all_types += ['bedroom']*60\n",
    "\n",
    "# 8k bathroom\n",
    "num_images = 8000\n",
    "num_pages = int(np.floor(num_images/60))\n",
    "for i in range(0,num_pages-1):\n",
    "    website = 'https://www.overstock.com/Home-Garden/Bathroom-Furniture/1454/cat.html?index=%d&count=60' % (1+60*i)\n",
    "    paths = get_image_urls(website)\n",
    "    all_paths += paths\n",
    "    all_types += ['bathroom']*60\n",
    "\n"
   ]
  },
  {
   "cell_type": "code",
   "execution_count": null,
   "metadata": {
    "collapsed": false
   },
   "outputs": [],
   "source": [
    "temp_df = pd.DataFrame(all_paths,columns=['path'])\n",
    "temp_df['type'] = all_types\n",
    "temp_df['source'] = 'Overstock.com'\n",
    "temp_df.head()"
   ]
  },
  {
   "cell_type": "code",
   "execution_count": null,
   "metadata": {
    "collapsed": false
   },
   "outputs": [],
   "source": [
    "len(temp_df)"
   ]
  },
  {
   "cell_type": "code",
   "execution_count": null,
   "metadata": {
    "collapsed": true
   },
   "outputs": [],
   "source": [
    "df = pd.concat([df,temp_df]).reset_index(drop=True)"
   ]
  },
  {
   "cell_type": "code",
   "execution_count": null,
   "metadata": {
    "collapsed": false
   },
   "outputs": [],
   "source": [
    "df.to_csv('ProfessionalImages.csv')"
   ]
  },
  {
   "cell_type": "markdown",
   "metadata": {},
   "source": [
    "# Scrape image features"
   ]
  },
  {
   "cell_type": "code",
   "execution_count": null,
   "metadata": {
    "collapsed": false
   },
   "outputs": [],
   "source": [
    "df = pd.read_csv('ProfessionalImages.csv')\n",
    "df.drop('Unnamed: 0',axis=1,inplace=True)\n",
    "df = df.sample(frac=1,random_state=102).reset_index(drop=True)\n",
    "df.ix[df['source']=='Furniture.com','path']='http://'+df.ix[df['source']=='Furniture.com']['path']"
   ]
  },
  {
   "cell_type": "code",
   "execution_count": null,
   "metadata": {
    "collapsed": true
   },
   "outputs": [],
   "source": []
  },
  {
   "cell_type": "code",
   "execution_count": null,
   "metadata": {
    "collapsed": false
   },
   "outputs": [],
   "source": [
    "df = pd.read_csv('ProfessionalImageFeatures.csv')\n",
    "df.drop('Unnamed: 0',axis=1,inplace=True)\n"
   ]
  },
  {
   "cell_type": "code",
   "execution_count": null,
   "metadata": {
    "collapsed": false
   },
   "outputs": [],
   "source": [
    "len(df.dropna())"
   ]
  },
  {
   "cell_type": "code",
   "execution_count": null,
   "metadata": {
    "collapsed": false
   },
   "outputs": [],
   "source": [
    "for idx in range(len(df.dropna()),len(df)):\n",
    "    try:\n",
    "        #Get Image\n",
    "        image = url_to_image(df.ix[idx,'path'])\n",
    "        \n",
    "        #Remove White borders\n",
    "        white_pixels = (image == 255).all(axis=2)\n",
    "        frac_white = len(white_pixels[white_pixels==True])/white_pixels.size\n",
    "\n",
    "        #if frac_white > 40%, don't crop, since it is background subtracted\n",
    "        if frac_white < 0.40:\n",
    "            img_g = cv2.cvtColor(image,cv2.COLOR_RGB2GRAY)\n",
    "            goodndx_row = np.where(np.var(image,axis=1)>2)[0]\n",
    "            goodndx_col = np.where(np.var(image,axis=0)>10)[0]\n",
    "            if len(image.shape)>2:\n",
    "                img2 = image[goodndx_row,:,:]\n",
    "                image = img2[:,goodndx_col,:]\n",
    "            else:\n",
    "                img2 = image[goodndx_row,:]\n",
    "                image = img2[:,goodndx_col]\n",
    "        \n",
    "        #Extract features\n",
    "        features=ExtractFeatures(image)\n",
    "\n",
    "        #Populate df\n",
    "        for key in features.keys():\n",
    "            df.loc[idx,key] = features[key]\n",
    "\n",
    "        #Save every 2000 images process (~30 minutes)\n",
    "        if (idx % 2000 == 0):\n",
    "            df.to_csv('ProfessionalImageFeatures.csv')\n",
    "    except:\n",
    "        print(\"Problem with grabbing image\")"
   ]
  },
  {
   "cell_type": "code",
   "execution_count": null,
   "metadata": {
    "collapsed": false
   },
   "outputs": [],
   "source": [
    "df.to_csv('ProfessionalImageFeatures.csv')"
   ]
  },
  {
   "cell_type": "code",
   "execution_count": null,
   "metadata": {
    "collapsed": true
   },
   "outputs": [],
   "source": []
  }
 ],
 "metadata": {
  "kernelspec": {
   "display_name": "Python 3",
   "language": "python",
   "name": "python3"
  },
  "language_info": {
   "codemirror_mode": {
    "name": "ipython",
    "version": 3
   },
   "file_extension": ".py",
   "mimetype": "text/x-python",
   "name": "python",
   "nbconvert_exporter": "python",
   "pygments_lexer": "ipython3",
   "version": "3.5.1"
  }
 },
 "nbformat": 4,
 "nbformat_minor": 0
}
