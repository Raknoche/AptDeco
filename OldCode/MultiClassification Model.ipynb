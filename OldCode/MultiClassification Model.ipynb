{
 "cells": [
  {
   "cell_type": "code",
   "execution_count": 15,
   "metadata": {
    "collapsed": false
   },
   "outputs": [],
   "source": [
    "import pandas as pd\n",
    "from sklearn import linear_model\n",
    "from matplotlib import pyplot as plt\n",
    "%matplotlib inline\n",
    "from sklearn import linear_model,ensemble,metrics,preprocessing\n",
    "import numpy as np\n",
    "from sklearn.metrics import precision_recall_curve\n",
    "from sklearn.metrics import average_precision_score\n",
    "from sklearn.preprocessing import label_binarize\n",
    "from sklearn.multiclass import OneVsRestClassifier\n",
    "from sklearn.preprocessing import MultiLabelBinarizer\n",
    "from sklearn.multiclass import OneVsRestClassifier\n",
    "from sklearn.svm import LinearSVC"
   ]
  },
  {
   "cell_type": "code",
   "execution_count": 16,
   "metadata": {
    "collapsed": false
   },
   "outputs": [],
   "source": [
    "df = pd.read_csv('/Users/richardknoche/Desktop/MainImages.csv')\n",
    "df.drop('Unnamed: 0',axis=1,inplace=True)\n",
    "df = df.dropna()\n",
    "\n",
    "df = df[df['Duration']>0]\n",
    "df['Duration'] = df['Duration']-df['Duration'].min()\n",
    "\n",
    "#Randomize the data\n",
    "df = df.sample(frac=1,random_state=102)"
   ]
  },
  {
   "cell_type": "code",
   "execution_count": 17,
   "metadata": {
    "collapsed": false
   },
   "outputs": [
    {
     "data": {
      "text/plain": [
       "2591944.0"
      ]
     },
     "execution_count": 17,
     "metadata": {},
     "output_type": "execute_result"
    }
   ],
   "source": [
    "df['Duration'].median()"
   ]
  },
  {
   "cell_type": "code",
   "execution_count": 18,
   "metadata": {
    "collapsed": false
   },
   "outputs": [
    {
     "data": {
      "image/png": "[encoded data removed]",
      "text/plain": [
       "<matplotlib.figure.Figure at 0x11d50a0f0>"
      ]
     },
     "metadata": {},
     "output_type": "display_data"
    }
   ],
   "source": [
    "#Make CDF and figure out threshold for \"top_x_percent\"\n",
    "count,edge,img = plt.hist(df['view_rate'],bins=np.linspace(0,0.001,500))\n",
    "cdf = count.cumsum()/count.sum()\n",
    "center = (edge[:-1]+edge[1:])/2\n",
    "\n",
    "percentiles = [0.25,0.5,0.75]\n",
    "thresh_indices = []\n",
    "for percent in percentiles:\n",
    "    thresh_indices.append(len(cdf[cdf< percent])) \n"
   ]
  },
  {
   "cell_type": "code",
   "execution_count": 19,
   "metadata": {
    "collapsed": false
   },
   "outputs": [],
   "source": [
    "#Make percentile labels\n",
    "labels = np.append([0],(np.array(percentiles)*100).astype(int))\n",
    "\n",
    "def CalcPercentile(row):\n",
    "    percentile_truth = ( row['view_rate'] > np.append(0,center[thresh_indices])) #is it greater than a mark or not\n",
    "    pecentile_label = 100-max(percentile_truth * labels) #100 - maximum percentile mark that the number falls below (top x% of views)\n",
    "    return pecentile_label \n",
    "\n",
    "df['Percentile'] = df.apply(CalcPercentile,axis=1)"
   ]
  },
  {
   "cell_type": "code",
   "execution_count": 20,
   "metadata": {
    "collapsed": false
   },
   "outputs": [],
   "source": [
    "#Creating Evenly sampled Training and Test sets\n",
    "train = df.sample(frac = 0.6, random_state = 102)\n",
    "test = df.drop(train.index)\n"
   ]
  },
  {
   "cell_type": "code",
   "execution_count": 21,
   "metadata": {
    "collapsed": false
   },
   "outputs": [],
   "source": [
    "#Not using categoricals for now\n",
    "features = ['price','original_price','age', 'width', 'height',\n",
    "       'depth', 'Num_Images', 'Duration', \n",
    "       'default_angle', 'Thirds_Horizontal_Value_Sym', 'Salient_Hue',\n",
    "       'Complimentary_Color_Level', 'Thirds_To_Focal_Distance',\n",
    "       'Vertical_Hue_Sym', 'Laplacian_Sharpness', 'Salient_Value',\n",
    "       'Thirds_Horizontal_Saliency_Sym', 'Thirds_Value', 'Thirds_Sat',\n",
    "       'B_Mean', 'V_var', 'Thirds_Saliency', 'g_ygrad', 'Busyness',\n",
    "       'Horizontal_Saturation_Sym', 'Thirds_Vertical_Saliency_Sym', 'r_ygrad',\n",
    "       'B_Width', 'g_xgrad', 'G_Mean', 'g_xgrad_std',\n",
    "       'Thirds_Vertical_Hue_Sym', 'Thirds_Horizontal_Hue_Sym', 'Colorfulness',\n",
    "       'Vertical_Value_Sym', 'R_xgrad', 'Horizontal_Value_Sym',\n",
    "       'Salient_Saturation', 'standard_luminance', 'H_var',\n",
    "       'Thirds_Vertical_Value_Sym', 'Number_of_Contours',\n",
    "       'Thirds_Vertical_Saturation_Sym', 'R_Width', 'FFT_Sharpness',\n",
    "       'b_xgrad_std', 'V_mean', 'b_ygrad', 'R_Mean',\n",
    "       'Thirds_Horizontal_Saturation_Sym', 'b_xgrad', 'H_mean', 'r_ygrad_std',\n",
    "       'Histogram_Darkness', 'g_ygrad_std', 'Thirds_Hue', 'S_mean', 'S_var',\n",
    "       'G_Width', 'Lapacian_Saturation', 'percieved_luminace', 'b_ygrad_std',\n",
    "       'r_xgrad_std', 'Horizontal_Hue_Sym', 'Vertical_Saturation_Sym',\n",
    "       'Lapacian_Value', 'Lapacian_Hue']\n",
    "\n",
    "\n",
    "\n",
    "\n",
    "train_x = train[features]\n",
    "test_x = test[features]\n",
    "\n",
    "lb = preprocessing.LabelBinarizer()\n",
    "train_y = train['Percentile'].astype(str)\n",
    "train_y = lb.fit_transform(train_y)\n",
    "test_y = test['Percentile'].astype(str)\n",
    "test_y = lb.fit_transform(test_y)\n",
    "\n",
    "\n",
    "#Normalize features\n",
    "train_std_scale = preprocessing.StandardScaler().fit(train_x)\n",
    "train_x_std = train_std_scale.transform(train_x)\n",
    "\n",
    "train_minmax_scale = preprocessing.MinMaxScaler().fit(train_x)\n",
    "train_x_minmax = train_minmax_scale.transform(train_x)\n",
    "\n",
    "test_std_scale = preprocessing.StandardScaler().fit(test_x)\n",
    "test_x_std = test_std_scale.transform(test_x)\n",
    "\n",
    "test_minmax_scale = preprocessing.MinMaxScaler().fit(test_x)\n",
    "test_x_minmax = test_minmax_scale.transform(test_x)\n",
    "\n",
    "train_x_features = train_x_std\n",
    "test_x_features = test_x_std\n",
    "\n",
    "#cv_x = cv[features]\n",
    "#cv_y = cv['view_rate']"
   ]
  },
  {
   "cell_type": "code",
   "execution_count": 25,
   "metadata": {
    "collapsed": false
   },
   "outputs": [
    {
     "data": {
      "text/plain": [
       "(34844, 4)"
      ]
     },
     "execution_count": 25,
     "metadata": {},
     "output_type": "execute_result"
    }
   ],
   "source": [
    "train_y.shape"
   ]
  },
  {
   "cell_type": "code",
   "execution_count": 27,
   "metadata": {
    "collapsed": false
   },
   "outputs": [],
   "source": [
    "#Train model\n",
    "clf = OneVsRestClassifier(ensemble.AdaBoostClassifier()).fit(train_x, train_y)\n",
    "#clf = ensemble.RandomForestClassifier().fit(train_x_features, train_y)\n"
   ]
  },
  {
   "cell_type": "code",
   "execution_count": 28,
   "metadata": {
    "collapsed": false
   },
   "outputs": [
    {
     "name": "stdout",
     "output_type": "stream",
     "text": [
      "Accuracy:  0.230100305652\n"
     ]
    },
    {
     "data": {
      "text/html": [
       "<div>\n",
       "<table border=\"1\" class=\"dataframe\">\n",
       "  <thead>\n",
       "    <tr style=\"text-align: right;\">\n",
       "      <th></th>\n",
       "      <th>F-Score</th>\n",
       "      <th>Precision</th>\n",
       "      <th>Recall</th>\n",
       "      <th>Support</th>\n",
       "    </tr>\n",
       "  </thead>\n",
       "  <tbody>\n",
       "    <tr>\n",
       "      <th>Top 0-25%</th>\n",
       "      <td>0.706590</td>\n",
       "      <td>0.770423</td>\n",
       "      <td>0.652525</td>\n",
       "      <td>5940</td>\n",
       "    </tr>\n",
       "    <tr>\n",
       "      <th>Top 25-50%</th>\n",
       "      <td>0.780668</td>\n",
       "      <td>0.851680</td>\n",
       "      <td>0.720586</td>\n",
       "      <td>5873</td>\n",
       "    </tr>\n",
       "    <tr>\n",
       "      <th>Top 50-75%</th>\n",
       "      <td>0.384834</td>\n",
       "      <td>0.486044</td>\n",
       "      <td>0.318510</td>\n",
       "      <td>5959</td>\n",
       "    </tr>\n",
       "    <tr>\n",
       "      <th>Top 75-100%</th>\n",
       "      <td>0.167429</td>\n",
       "      <td>0.498638</td>\n",
       "      <td>0.100605</td>\n",
       "      <td>5457</td>\n",
       "    </tr>\n",
       "  </tbody>\n",
       "</table>\n",
       "</div>"
      ],
      "text/plain": [
       "              F-Score  Precision    Recall  Support\n",
       "Top 0-25%    0.706590   0.770423  0.652525     5940\n",
       "Top 25-50%   0.780668   0.851680  0.720586     5873\n",
       "Top 50-75%   0.384834   0.486044  0.318510     5959\n",
       "Top 75-100%  0.167429   0.498638  0.100605     5457"
      ]
     },
     "execution_count": 28,
     "metadata": {},
     "output_type": "execute_result"
    }
   ],
   "source": [
    "#Accuracy, Precision, Recall\n",
    "predicted_y = clf.predict(test_x) \n",
    "print('Accuracy: ',clf.score(test_x_features,test_y))\n",
    "\n",
    "precision, recall, fscore, support = metrics.precision_recall_fscore_support(test_y, predicted_y)\n",
    "classifier_metrics = pd.DataFrame( {'Precision' : precision, 'Recall' : recall, 'F-Score' : fscore, 'Support' : support})\n",
    "classifier_metrics.index=['Top 0-25%','Top 25-50%','Top 50-75%','Top 75-100%']\n",
    "classifier_metrics"
   ]
  },
  {
   "cell_type": "code",
   "execution_count": 29,
   "metadata": {
    "collapsed": false
   },
   "outputs": [
    {
     "ename": "AttributeError",
     "evalue": "'OneVsRestClassifier' object has no attribute 'feature_importances_'",
     "output_type": "error",
     "traceback": [
      "\u001b[0;31m---------------------------------------------------------------------------\u001b[0m",
      "\u001b[0;31mAttributeError\u001b[0m                            Traceback (most recent call last)",
      "\u001b[0;32m<ipython-input-29-17c0915e13cd>\u001b[0m in \u001b[0;36m<module>\u001b[0;34m()\u001b[0m\n\u001b[0;32m----> 1\u001b[0;31m \u001b[0mimportances\u001b[0m \u001b[0;34m=\u001b[0m \u001b[0mclf\u001b[0m\u001b[0;34m.\u001b[0m\u001b[0mfeature_importances_\u001b[0m\u001b[0;34m\u001b[0m\u001b[0m\n\u001b[0m\u001b[1;32m      2\u001b[0m std = np.std([tree.feature_importances_ for tree in clf.estimators_],\n\u001b[1;32m      3\u001b[0m              axis=0)\n\u001b[1;32m      4\u001b[0m \u001b[0mindices\u001b[0m \u001b[0;34m=\u001b[0m \u001b[0mnp\u001b[0m\u001b[0;34m.\u001b[0m\u001b[0margsort\u001b[0m\u001b[0;34m(\u001b[0m\u001b[0mimportances\u001b[0m\u001b[0;34m)\u001b[0m\u001b[0;34m[\u001b[0m\u001b[0;34m:\u001b[0m\u001b[0;34m:\u001b[0m\u001b[0;34m-\u001b[0m\u001b[0;36m1\u001b[0m\u001b[0;34m]\u001b[0m\u001b[0;34m\u001b[0m\u001b[0m\n\u001b[1;32m      5\u001b[0m \u001b[0;31m# Print the feature ranking\u001b[0m\u001b[0;34m\u001b[0m\u001b[0;34m\u001b[0m\u001b[0m\n",
      "\u001b[0;31mAttributeError\u001b[0m: 'OneVsRestClassifier' object has no attribute 'feature_importances_'"
     ]
    }
   ],
   "source": [
    "importances = clf.feature_importances_\n",
    "std = np.std([tree.feature_importances_ for tree in clf.estimators_],\n",
    "             axis=0)\n",
    "indices = np.argsort(importances)[::-1]\n",
    "# Print the feature ranking\n",
    "print(\"Feature ranking:\")\n",
    "\n",
    "rankings = []\n",
    "for idx in range(len(features)):\n",
    "    rankings.append(importances[indices[idx]])\n",
    "    print(\"%d. %s %f\" % (idx + 1, features[indices[idx]], importances[indices[idx]]))\n"
   ]
  },
  {
   "cell_type": "code",
   "execution_count": null,
   "metadata": {
    "collapsed": false
   },
   "outputs": [],
   "source": [
    "sorted_importances = [importance for (importance,feature) in sorted(zip(importances,features),reverse=True)]\n",
    "sorted_features = [feature for (importance,feature) in sorted(zip(importances,features),reverse=True)]\n",
    "\n",
    "\n",
    "    \n",
    "    \n",
    "plt.figure(figsize=(10,18))\n",
    "plt.title(\"Feature importances\")\n",
    "plt.barh(range(len(sorted_features),0,-1), sorted_importances,\n",
    "       color=\"r\", align=\"center\")\n",
    "plt.yticks(range(len(sorted_features),0,-1))\n",
    "ax=plt.gca()\n",
    "ax.set_yticklabels(sorted_features)\n",
    "plt.ylim([-1, len(sorted_features)+1])\n",
    "plt.show()"
   ]
  },
  {
   "cell_type": "code",
   "execution_count": null,
   "metadata": {
    "collapsed": true
   },
   "outputs": [],
   "source": [
    "# Show that (hopefully) misclassificaitons are usually close the the correct class\n",
    "# How many 4's get classified as 3's\n",
    "# How many 3's get classified as 4's and 2's\n",
    "# How"
   ]
  },
  {
   "cell_type": "code",
   "execution_count": null,
   "metadata": {
    "collapsed": true
   },
   "outputs": [],
   "source": [
    "#Maybe create an expectation value for the class using the probabilities"
   ]
  },
  {
   "cell_type": "code",
   "execution_count": null,
   "metadata": {
    "collapsed": true
   },
   "outputs": [],
   "source": [
    "#Try to identify the original images, and do this with those"
   ]
  }
 ],
 "metadata": {
  "kernelspec": {
   "display_name": "Python 3",
   "language": "python",
   "name": "python3"
  },
  "language_info": {
   "codemirror_mode": {
    "name": "ipython",
    "version": 3
   },
   "file_extension": ".py",
   "mimetype": "text/x-python",
   "name": "python",
   "nbconvert_exporter": "python",
   "pygments_lexer": "ipython3",
   "version": "3.5.1"
  }
 },
 "nbformat": 4,
 "nbformat_minor": 0
}
