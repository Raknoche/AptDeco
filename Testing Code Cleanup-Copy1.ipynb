{
 "cells": [
  {
   "cell_type": "code",
   "execution_count": 1,
   "metadata": {
    "collapsed": false
   },
   "outputs": [
    {
     "name": "stderr",
     "output_type": "stream",
     "text": [
      "/Users/richardknoche/anaconda/lib/python3.5/site-packages/matplotlib/__init__.py:1035: UserWarning: Duplicate key in file \"/Users/richardknoche/.matplotlib/matplotlibrc\", line #2\n",
      "  (fname, cnt))\n"
     ]
    }
   ],
   "source": [
    "#url='https://www.ashleyfurniturehomestore.com/c/furniture/living-room/living-room-chairs/?icid=Living-Room-2A&pg=10'\n",
    "import pymysql as mdb\n",
    "import sys\n",
    "from bs4 import BeautifulSoup # For HTML parsing\n",
    "import urllib # Website connections\n",
    "import re # Regular expressions\n",
    "from time import sleep # To prevent overwhelming the server between connections\n",
    "from collections import Counter # Keep track of our term counts\n",
    "from nltk.corpus import stopwords # Filter out stopwords, such as 'the', 'or', 'and'\n",
    "import pandas as pd # For converting results to a dataframe and bar chart plots\n",
    "import math\n",
    "from string import digits\n",
    "from functools import reduce\n",
    "import time\n",
    "import collections\n",
    "from http.cookiejar import CookieJar\n",
    "import ssl\n",
    "from ImageFeatures import *\n"
   ]
  },
  {
   "cell_type": "code",
   "execution_count": 2,
   "metadata": {
    "collapsed": false
   },
   "outputs": [
    {
     "data": {
      "text/plain": [
       "True"
      ]
     },
     "execution_count": 2,
     "metadata": {},
     "output_type": "execute_result"
    }
   ],
   "source": [
    "df = pd.read_csv('ProfessionalImages.csv')\n",
    "df.drop('Unnamed: 0',axis=1,inplace=True)\n",
    "df = df.sample(frac=1,random_state=102).reset_index(drop=True)\n",
    "df.ix[df['source']=='Furniture.com','path']='http://'+df.ix[df['source']=='Furniture.com']['path']\n",
    "\n",
    "#Get Image\n",
    "image = UrlToImage(df.ix[0,'path'])\n",
    "\n",
    "#Remove White borders\n",
    "white_pixels = (image == 255).all(axis=2)\n",
    "frac_white = len(white_pixels[white_pixels==True])/white_pixels.size\n",
    "\n",
    "#if frac_white > 40%, don't crop, since it is background subtracted\n",
    "if frac_white < 0.40:\n",
    "    img_g = cv2.cvtColor(image,cv2.COLOR_RGB2GRAY)\n",
    "    goodndx_row = np.where(np.var(image,axis=1)>2)[0]\n",
    "    goodndx_col = np.where(np.var(image,axis=0)>10)[0]\n",
    "    if len(image.shape)>2:\n",
    "        img2 = image[goodndx_row,:,:]\n",
    "        image = img2[:,goodndx_col,:]\n",
    "    else:\n",
    "        img2 = image[goodndx_row,:]\n",
    "        image = img2[:,goodndx_col]\n",
    "\n",
    "#Extract features\n",
    "features=ExtractFeatures(image)\n",
    "\n",
    "old_features={'Aspect_Ratio': 0.8,\n",
    " 'B_Mean': 75.815238281250004,\n",
    " 'B_Width': 0.70025908913654933,\n",
    " 'Busyness': 1.1275263054236744,\n",
    " 'Colorfulness': 75.791879126812532,\n",
    " 'Complimentary_Color_Level': 0.23416911840861843,\n",
    " 'FFT_Sharpness': 22.507294192484679,\n",
    " 'G_Mean': 78.748976562500005,\n",
    " 'G_Width': 0.70383298144248774,\n",
    " 'H_mean': 70.123545761711412,\n",
    " 'H_var': 17.652380099072278,\n",
    " 'Histogram_Darkness': 78.880578125,\n",
    " 'Horizontal_Hue_Sym': 0.73721449918373261,\n",
    " 'Horizontal_Saturation_Sym': 0.51494625582296849,\n",
    " 'Horizontal_Value_Sym': 0.77644640859889558,\n",
    " 'Image_Size': 691920.0,\n",
    " 'Lapacian_Hue': 0.025171931168300653,\n",
    " 'Lapacian_Saturation': 0.029411134539600158,\n",
    " 'Lapacian_Value': 0.0077209274077277993,\n",
    " 'Laplacian_Sharpness': 499.54838671875001,\n",
    " 'Number_of_Contours': 19,\n",
    " 'R_Mean': 80.581976562500003,\n",
    " 'R_Width': 0.69965051179292459,\n",
    " 'R_xgrad': -0.13987890624999999,\n",
    " 'S_mean': 0.1221657475490196,\n",
    " 'S_var': 0.022764028960372055,\n",
    " 'Salient_Hue': -0.039622340246498439,\n",
    " 'Salient_Saturation': 0.45221678569037149,\n",
    " 'Salient_Value': -0.056910084937745929,\n",
    " 'Thirds_Horizontal_Hue_Sym': 0.28541056340431958,\n",
    " 'Thirds_Horizontal_Saliency_Sym': 0.85307134515562177,\n",
    " 'Thirds_Horizontal_Saturation_Sym': 0.42179244081823764,\n",
    " 'Thirds_Horizontal_Value_Sym': 0.7042233700012448,\n",
    " 'Thirds_Hue': 22.25570636150934,\n",
    " 'Thirds_Saliency': 0.16053799288787224,\n",
    " 'Thirds_Sat': 0.11423810543365948,\n",
    " 'Thirds_To_Focal_Distance': 0.20863020514776856,\n",
    " 'Thirds_Value': 0.14684537175809995,\n",
    " 'Thirds_Vertical_Hue_Sym': 0.59255964273185757,\n",
    " 'Thirds_Vertical_Saliency_Sym': 0.9479101285646343,\n",
    " 'Thirds_Vertical_Saturation_Sym': 0.63456775941915367,\n",
    " 'Thirds_Vertical_Value_Sym': 0.8047965713956422,\n",
    " 'V_mean': 0.32039243259803923,\n",
    " 'V_var': 0.048109201557017409,\n",
    " 'Vertical_Hue_Sym': 0.75917502333952869,\n",
    " 'Vertical_Saturation_Sym': 0.45325142962057541,\n",
    " 'Vertical_Value_Sym': 0.85273881689825393,\n",
    " 'b_xgrad': -0.12513671874999999,\n",
    " 'b_xgrad_std': 20.3968971910036,\n",
    " 'b_ygrad': -0.1331796875,\n",
    " 'b_ygrad_std': 18.526883061738619,\n",
    " 'frac_white': 0.0005625,\n",
    " 'g_xgrad': -0.13761718749999999,\n",
    " 'g_xgrad_std': 20.488863185513853,\n",
    " 'g_ygrad': -0.10816796875,\n",
    " 'g_ygrad_std': 18.709791441496257,\n",
    " 'percieved_luminace': 78.962597398437495,\n",
    " 'r_xgrad_std': 20.524292683100832,\n",
    " 'r_ygrad': -0.090148437499999998,\n",
    " 'r_ygrad_std': 18.626442116396419,\n",
    " 'standard_luminance': 78.926856458593747}\n",
    "\n",
    "features == old_features"
   ]
  },
  {
   "cell_type": "code",
   "execution_count": null,
   "metadata": {
    "collapsed": false
   },
   "outputs": [],
   "source": [
    "for key in features:\n",
    "    if features[key] != old_features[key]:\n",
    "        print(key)"
   ]
  },
  {
   "cell_type": "code",
   "execution_count": null,
   "metadata": {
    "collapsed": true
   },
   "outputs": [],
   "source": [
    "h,s,v,h_rad = ExtractHSV(image)\n"
   ]
  },
  {
   "cell_type": "code",
   "execution_count": null,
   "metadata": {
    "collapsed": false
   },
   "outputs": [],
   "source": [
    "h_rad.shape"
   ]
  },
  {
   "cell_type": "code",
   "execution_count": null,
   "metadata": {
    "collapsed": false
   },
   "outputs": [],
   "source": [
    "h_rad=np.array([0,np.pi])"
   ]
  },
  {
   "cell_type": "code",
   "execution_count": null,
   "metadata": {
    "collapsed": false
   },
   "outputs": [],
   "source": [
    "np.abs(np.exp(2*h_rad*1j).sum() / len(h_rad.flatten()))"
   ]
  },
  {
   "cell_type": "code",
   "execution_count": null,
   "metadata": {
    "collapsed": true
   },
   "outputs": [],
   "source": []
  }
 ],
 "metadata": {
  "kernelspec": {
   "display_name": "Python 3",
   "language": "python",
   "name": "python3"
  },
  "language_info": {
   "codemirror_mode": {
    "name": "ipython",
    "version": 3
   },
   "file_extension": ".py",
   "mimetype": "text/x-python",
   "name": "python",
   "nbconvert_exporter": "python",
   "pygments_lexer": "ipython3",
   "version": "3.5.1"
  }
 },
 "nbformat": 4,
 "nbformat_minor": 0
}
